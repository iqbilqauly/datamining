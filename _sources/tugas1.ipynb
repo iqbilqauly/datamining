{
 "cells": [
  {
   "cell_type": "markdown",
   "metadata": {
    "cell_id": "2b58d660c6e44ac6921f250f82161149",
    "deepnote_cell_type": "text-cell-h1",
    "formattedRanges": []
   },
   "source": [
    "# "
   ]
  },
  {
   "cell_type": "markdown",
   "metadata": {
    "cell_id": "a1af8714e5bf4011abd7816d5e4822ca",
    "deepnote_app_block_visible": false,
    "deepnote_cell_type": "text-cell-h1",
    "formattedRanges": [],
    "is_collapsed": false
   },
   "source": [
    "# Deskripsi Data"
   ]
  },
  {
   "cell_type": "markdown",
   "metadata": {
    "cell_id": "f1382fc08f8a4761b2ce7744ebdec69e",
    "deepnote_cell_type": "text-cell-p",
    "formattedRanges": []
   },
   "source": [
    "Dataset iris adalah kumpulan data yang sering digunakan dalam analisis statistik dan pembelajaran mesin. Dataset ini terdiri dari 150 sampel dari tiga spesies iris (Iris setosa, Iris virginica, dan Iris versicolor), masing-masing memiliki 50 sampel. Untuk setiap sampel, terdapat empat fitur numerik: SepalLength, SepalWidth, PetalLength, dan PetalWidth, yang diukur dalam sentimeter."
   ]
  },
  {
   "cell_type": "markdown",
   "metadata": {
    "cell_id": "05c7afe21e3e4002a1bf61a49d1615e8",
    "deepnote_app_block_visible": false,
    "deepnote_cell_type": "text-cell-h2",
    "formattedRanges": [
     {
      "fromCodePoint": 0,
      "marks": {
       "bold": true
      },
      "toCodePoint": 16,
      "type": "marks"
     }
    ],
    "is_collapsed": false
   },
   "source": [
    "## Penjelasan Fitur"
   ]
  },
  {
   "cell_type": "markdown",
   "metadata": {
    "cell_id": "35bfd9f94a54492497154c7874c0f931",
    "deepnote_cell_type": "text-cell-p",
    "formattedRanges": []
   },
   "source": [
    "1. Panjang Sepal (sepal length): Ini adalah panjang dari sepal atau bagian yang menonjol dari bunga yang melindungi kelopak. Diukur dalam sentimeter (cm)."
   ]
  },
  {
   "cell_type": "markdown",
   "metadata": {
    "cell_id": "59ece70cdcfc4137871b1c005f455342",
    "deepnote_cell_type": "text-cell-p",
    "formattedRanges": []
   },
   "source": [
    "2. Lebar Sepal (sepal width): Ini adalah lebar dari sepal bunga iris. Diukur dalam sentimeter (cm)."
   ]
  },
  {
   "cell_type": "markdown",
   "metadata": {
    "cell_id": "79a995a0bf664ad4afcab3213763d885",
    "deepnote_cell_type": "text-cell-p",
    "formattedRanges": []
   },
   "source": [
    "3. Panjang Kelopak (petal length): Ini adalah panjang dari kelopak atau bagian bunga yang berwarna. Diukur dalam sentimeter (cm)."
   ]
  },
  {
   "cell_type": "markdown",
   "metadata": {
    "cell_id": "17b6bda9d3774cf59ac773546f824df8",
    "deepnote_cell_type": "text-cell-p",
    "formattedRanges": []
   },
   "source": [
    "4. Lebar Kelopak (petal width): Ini adalah lebar dari kelopak bunga iris. Diukur dalam sentimeter (cm)."
   ]
  },
  {
   "cell_type": "markdown",
   "metadata": {
    "cell_id": "1b2fbd67c85446ba9612b4e94bafd2b2",
    "deepnote_app_block_visible": false,
    "deepnote_cell_type": "text-cell-h1",
    "formattedRanges": [],
    "is_collapsed": false
   },
   "source": [
    "# mengambil data dari dua sumber"
   ]
  },
  {
   "cell_type": "markdown",
   "metadata": {
    "cell_id": "09729838460b456e9aebfd91437972e5",
    "deepnote_cell_type": "text-cell-p",
    "formattedRanges": []
   },
   "source": [
    "data ini diambil dari mysql yang berisi id, SepalLengthCm dan SepalWidthCm dan Species"
   ]
  },
  {
   "cell_type": "code",
   "execution_count": null,
   "metadata": {
    "cell_id": "6e3d6fdf939c4331a2464b364edef540",
    "deepnote_cell_type": "sql",
    "deepnote_sql_source": "SELECT * FROM iris1;",
    "deepnote_to_be_reexecuted": false,
    "deepnote_variable_name": "df_1",
    "execution_millis": 3474,
    "execution_start": 1711547879653,
    "source_hash": null,
    "sql_integration_id": "1ebcde9e-ae53-4fed-98a8-03783a766d52"
   },
   "outputs": [
    {
     "data": {
      "application/vnd.deepnote.sql-output-metadata+json": {
       "size_in_bytes": 14091,
       "status": "success_no_cache"
      }
     },
     "metadata": {},
     "output_type": "display_data"
    },
    {
     "data": {
      "application/vnd.deepnote.dataframe.v3+json": {
       "column_count": 4,
       "columns": [
        {
         "dtype": "int64",
         "name": "id",
         "stats": {
          "histogram": [
           {
            "bin_end": 15.9,
            "bin_start": 1,
            "count": 15
           },
           {
            "bin_end": 30.8,
            "bin_start": 15.9,
            "count": 15
           },
           {
            "bin_end": 45.7,
            "bin_start": 30.8,
            "count": 15
           },
           {
            "bin_end": 60.6,
            "bin_start": 45.7,
            "count": 15
           },
           {
            "bin_end": 75.5,
            "bin_start": 60.6,
            "count": 15
           },
           {
            "bin_end": 90.4,
            "bin_start": 75.5,
            "count": 14
           },
           {
            "bin_end": 105.3,
            "bin_start": 90.4,
            "count": 15
           },
           {
            "bin_end": 120.2,
            "bin_start": 105.3,
            "count": 15
           },
           {
            "bin_end": 135.1,
            "bin_start": 120.2,
            "count": 15
           },
           {
            "bin_end": 150,
            "bin_start": 135.1,
            "count": 15
           }
          ],
          "max": "150",
          "min": "1",
          "nan_count": 0,
          "unique_count": 149
         }
        },
        {
         "dtype": "float64",
         "name": "SepalLengthCm",
         "stats": {
          "histogram": [
           {
            "bin_end": 4.66,
            "bin_start": 4.3,
            "count": 8
           },
           {
            "bin_end": 5.02,
            "bin_start": 4.66,
            "count": 23
           },
           {
            "bin_end": 5.38,
            "bin_start": 5.02,
            "count": 14
           },
           {
            "bin_end": 5.74,
            "bin_start": 5.38,
            "count": 25
           },
           {
            "bin_end": 6.1,
            "bin_start": 5.74,
            "count": 15
           },
           {
            "bin_end": 6.46,
            "bin_start": 6.1,
            "count": 26
           },
           {
            "bin_end": 6.82,
            "bin_start": 6.46,
            "count": 17
           },
           {
            "bin_end": 7.18,
            "bin_start": 6.82,
            "count": 6
           },
           {
            "bin_end": 7.54,
            "bin_start": 7.18,
            "count": 5
           },
           {
            "bin_end": 7.9,
            "bin_start": 7.54,
            "count": 5
           }
          ],
          "max": "7.9",
          "min": "4.3",
          "nan_count": 5,
          "unique_count": 35
         }
        },
        {
         "dtype": "float64",
         "name": "SepalWidthCm",
         "stats": {
          "histogram": [
           {
            "bin_end": 2.24,
            "bin_start": 2,
            "count": 4
           },
           {
            "bin_end": 2.48,
            "bin_start": 2.24,
            "count": 7
           },
           {
            "bin_end": 2.72,
            "bin_start": 2.48,
            "count": 22
           },
           {
            "bin_end": 2.96,
            "bin_start": 2.72,
            "count": 24
           },
           {
            "bin_end": 3.2,
            "bin_start": 2.96,
            "count": 37
           },
           {
            "bin_end": 3.4400000000000004,
            "bin_start": 3.2,
            "count": 31
           },
           {
            "bin_end": 3.6800000000000006,
            "bin_start": 3.4400000000000004,
            "count": 9
           },
           {
            "bin_end": 3.9200000000000004,
            "bin_start": 3.6800000000000006,
            "count": 11
           },
           {
            "bin_end": 4.16,
            "bin_start": 3.9200000000000004,
            "count": 2
           },
           {
            "bin_end": 4.4,
            "bin_start": 4.16,
            "count": 2
           }
          ],
          "max": "4.4",
          "min": "2.0",
          "nan_count": 0,
          "unique_count": 23
         }
        },
        {
         "dtype": "object",
         "name": "Species",
         "stats": {
          "categories": [
           {
            "count": 49,
            "name": "Iris-setosa"
           },
           {
            "count": 98,
            "name": "2 others"
           },
           {
            "count": 2,
            "name": "Missing"
           }
          ],
          "nan_count": 2,
          "unique_count": 3
         }
        },
        {
         "dtype": "int64",
         "name": "_deepnote_index_column"
        }
       ],
       "row_count": 149,
       "rows": [
        {
         "SepalLengthCm": 5.1,
         "SepalWidthCm": 3.5,
         "Species": "Iris-setosa",
         "_deepnote_index_column": 0,
         "id": 1
        },
        {
         "SepalLengthCm": 4.9,
         "SepalWidthCm": 3,
         "Species": "Iris-setosa",
         "_deepnote_index_column": 1,
         "id": 2
        },
        {
         "SepalLengthCm": 4.7,
         "SepalWidthCm": 3.2,
         "Species": "Iris-setosa",
         "_deepnote_index_column": 2,
         "id": 3
        },
        {
         "SepalLengthCm": 4.6,
         "SepalWidthCm": 3.1,
         "Species": "Iris-setosa",
         "_deepnote_index_column": 3,
         "id": 4
        },
        {
         "SepalLengthCm": 5,
         "SepalWidthCm": 3.6,
         "Species": "Iris-setosa",
         "_deepnote_index_column": 4,
         "id": 5
        },
        {
         "SepalLengthCm": "nan",
         "SepalWidthCm": 3.9,
         "Species": "None",
         "_deepnote_index_column": 5,
         "id": 6
        },
        {
         "SepalLengthCm": 4.6,
         "SepalWidthCm": 3.4,
         "Species": "Iris-setosa",
         "_deepnote_index_column": 6,
         "id": 7
        },
        {
         "SepalLengthCm": 5,
         "SepalWidthCm": 3.4,
         "Species": "Iris-setosa",
         "_deepnote_index_column": 7,
         "id": 8
        },
        {
         "SepalLengthCm": "nan",
         "SepalWidthCm": 2.9,
         "Species": "Iris-setosa",
         "_deepnote_index_column": 8,
         "id": 9
        },
        {
         "SepalLengthCm": 4.9,
         "SepalWidthCm": 3.1,
         "Species": "Iris-setosa",
         "_deepnote_index_column": 9,
         "id": 10
        }
       ]
      },
      "text/html": [
       "<div>\n",
       "<style scoped>\n",
       "    .dataframe tbody tr th:only-of-type {\n",
       "        vertical-align: middle;\n",
       "    }\n",
       "\n",
       "    .dataframe tbody tr th {\n",
       "        vertical-align: top;\n",
       "    }\n",
       "\n",
       "    .dataframe thead th {\n",
       "        text-align: right;\n",
       "    }\n",
       "</style>\n",
       "<table border=\"1\" class=\"dataframe\">\n",
       "  <thead>\n",
       "    <tr style=\"text-align: right;\">\n",
       "      <th></th>\n",
       "      <th>id</th>\n",
       "      <th>SepalLengthCm</th>\n",
       "      <th>SepalWidthCm</th>\n",
       "      <th>Species</th>\n",
       "    </tr>\n",
       "  </thead>\n",
       "  <tbody>\n",
       "    <tr>\n",
       "      <th>0</th>\n",
       "      <td>1</td>\n",
       "      <td>5.1</td>\n",
       "      <td>3.5</td>\n",
       "      <td>Iris-setosa</td>\n",
       "    </tr>\n",
       "    <tr>\n",
       "      <th>1</th>\n",
       "      <td>2</td>\n",
       "      <td>4.9</td>\n",
       "      <td>3.0</td>\n",
       "      <td>Iris-setosa</td>\n",
       "    </tr>\n",
       "    <tr>\n",
       "      <th>2</th>\n",
       "      <td>3</td>\n",
       "      <td>4.7</td>\n",
       "      <td>3.2</td>\n",
       "      <td>Iris-setosa</td>\n",
       "    </tr>\n",
       "    <tr>\n",
       "      <th>3</th>\n",
       "      <td>4</td>\n",
       "      <td>4.6</td>\n",
       "      <td>3.1</td>\n",
       "      <td>Iris-setosa</td>\n",
       "    </tr>\n",
       "    <tr>\n",
       "      <th>4</th>\n",
       "      <td>5</td>\n",
       "      <td>5.0</td>\n",
       "      <td>3.6</td>\n",
       "      <td>Iris-setosa</td>\n",
       "    </tr>\n",
       "    <tr>\n",
       "      <th>...</th>\n",
       "      <td>...</td>\n",
       "      <td>...</td>\n",
       "      <td>...</td>\n",
       "      <td>...</td>\n",
       "    </tr>\n",
       "    <tr>\n",
       "      <th>144</th>\n",
       "      <td>146</td>\n",
       "      <td>6.7</td>\n",
       "      <td>3.0</td>\n",
       "      <td>Iris-virginica</td>\n",
       "    </tr>\n",
       "    <tr>\n",
       "      <th>145</th>\n",
       "      <td>147</td>\n",
       "      <td>6.3</td>\n",
       "      <td>2.5</td>\n",
       "      <td>Iris-virginica</td>\n",
       "    </tr>\n",
       "    <tr>\n",
       "      <th>146</th>\n",
       "      <td>148</td>\n",
       "      <td>6.5</td>\n",
       "      <td>3.0</td>\n",
       "      <td>Iris-virginica</td>\n",
       "    </tr>\n",
       "    <tr>\n",
       "      <th>147</th>\n",
       "      <td>149</td>\n",
       "      <td>6.2</td>\n",
       "      <td>3.4</td>\n",
       "      <td>Iris-virginica</td>\n",
       "    </tr>\n",
       "    <tr>\n",
       "      <th>148</th>\n",
       "      <td>150</td>\n",
       "      <td>5.9</td>\n",
       "      <td>3.0</td>\n",
       "      <td>Iris-virginica</td>\n",
       "    </tr>\n",
       "  </tbody>\n",
       "</table>\n",
       "<p>149 rows × 4 columns</p>\n",
       "</div>"
      ],
      "text/plain": [
       "      id  SepalLengthCm  SepalWidthCm         Species\n",
       "0      1            5.1           3.5     Iris-setosa\n",
       "1      2            4.9           3.0     Iris-setosa\n",
       "2      3            4.7           3.2     Iris-setosa\n",
       "3      4            4.6           3.1     Iris-setosa\n",
       "4      5            5.0           3.6     Iris-setosa\n",
       "..   ...            ...           ...             ...\n",
       "144  146            6.7           3.0  Iris-virginica\n",
       "145  147            6.3           2.5  Iris-virginica\n",
       "146  148            6.5           3.0  Iris-virginica\n",
       "147  149            6.2           3.4  Iris-virginica\n",
       "148  150            5.9           3.0  Iris-virginica\n",
       "\n",
       "[149 rows x 4 columns]"
      ]
     },
     "execution_count": 1,
     "metadata": {},
     "output_type": "execute_result"
    }
   ],
   "source": [
    "df_1 = _deepnote_execute_sql('SELECT * FROM iris1;', 'SQL_1EBCDE9E_AE53_4FED_98A8_03783A766D52', audit_sql_comment='', sql_cache_mode='cache_disabled')\n",
    "df_1"
   ]
  },
  {
   "cell_type": "markdown",
   "metadata": {
    "cell_id": "af6034920273415cbaaf2c0aac0edfb2",
    "deepnote_cell_type": "text-cell-p",
    "formattedRanges": []
   },
   "source": []
  },
  {
   "cell_type": "markdown",
   "metadata": {
    "cell_id": "b6937b86d9c54a8c9f95507bd00b6d10",
    "deepnote_cell_type": "text-cell-p",
    "formattedRanges": []
   },
   "source": [
    "data ini diambil dari postgres yang berisi id, PetalLengthCm dan PetalWidthCm"
   ]
  },
  {
   "cell_type": "code",
   "execution_count": null,
   "metadata": {
    "cell_id": "27c54763f40e4fdf82e10f4dfa9dce85",
    "deepnote_cell_type": "sql",
    "deepnote_sql_source": "SELECT \"id\",\"PetalLengthCm\",\"PetalWidthCm\" FROM public.iris2;",
    "deepnote_to_be_reexecuted": false,
    "deepnote_variable_name": "df_2",
    "execution_millis": 3922,
    "execution_start": 1711547883135,
    "source_hash": null,
    "sql_integration_id": "73a37329-fb87-4ce7-9f22-e78051bcc311"
   },
   "outputs": [
    {
     "data": {
      "application/vnd.deepnote.sql-output-metadata+json": {
       "size_in_bytes": 3728,
       "status": "success_no_cache"
      }
     },
     "metadata": {},
     "output_type": "display_data"
    },
    {
     "data": {
      "application/vnd.deepnote.dataframe.v3+json": {
       "column_count": 3,
       "columns": [
        {
         "dtype": "int64",
         "name": "id",
         "stats": {
          "histogram": [
           {
            "bin_end": 15.9,
            "bin_start": 1,
            "count": 15
           },
           {
            "bin_end": 30.8,
            "bin_start": 15.9,
            "count": 15
           },
           {
            "bin_end": 45.7,
            "bin_start": 30.8,
            "count": 15
           },
           {
            "bin_end": 60.6,
            "bin_start": 45.7,
            "count": 15
           },
           {
            "bin_end": 75.5,
            "bin_start": 60.6,
            "count": 15
           },
           {
            "bin_end": 90.4,
            "bin_start": 75.5,
            "count": 15
           },
           {
            "bin_end": 105.3,
            "bin_start": 90.4,
            "count": 15
           },
           {
            "bin_end": 120.2,
            "bin_start": 105.3,
            "count": 15
           },
           {
            "bin_end": 135.1,
            "bin_start": 120.2,
            "count": 15
           },
           {
            "bin_end": 150,
            "bin_start": 135.1,
            "count": 15
           }
          ],
          "max": "150",
          "min": "1",
          "nan_count": 0,
          "unique_count": 150
         }
        },
        {
         "dtype": "float64",
         "name": "PetalLengthCm",
         "stats": {
          "histogram": [
           {
            "bin_end": 1.59,
            "bin_start": 1,
            "count": 37
           },
           {
            "bin_end": 2.18,
            "bin_start": 1.59,
            "count": 13
           },
           {
            "bin_end": 2.7700000000000005,
            "bin_start": 2.18,
            "count": 0
           },
           {
            "bin_end": 3.3600000000000003,
            "bin_start": 2.7700000000000005,
            "count": 3
           },
           {
            "bin_end": 3.95,
            "bin_start": 3.3600000000000003,
            "count": 8
           },
           {
            "bin_end": 4.540000000000001,
            "bin_start": 3.95,
            "count": 26
           },
           {
            "bin_end": 5.130000000000001,
            "bin_start": 4.540000000000001,
            "count": 29
           },
           {
            "bin_end": 5.720000000000001,
            "bin_start": 5.130000000000001,
            "count": 18
           },
           {
            "bin_end": 6.3100000000000005,
            "bin_start": 5.720000000000001,
            "count": 11
           },
           {
            "bin_end": 6.9,
            "bin_start": 6.3100000000000005,
            "count": 5
           }
          ],
          "max": "6.9",
          "min": "1.0",
          "nan_count": 0,
          "unique_count": 43
         }
        },
        {
         "dtype": "float64",
         "name": "PetalWidthCm",
         "stats": {
          "histogram": [
           {
            "bin_end": 0.33999999999999997,
            "bin_start": 0.1,
            "count": 41
           },
           {
            "bin_end": 0.58,
            "bin_start": 0.33999999999999997,
            "count": 8
           },
           {
            "bin_end": 0.82,
            "bin_start": 0.58,
            "count": 1
           },
           {
            "bin_end": 1.06,
            "bin_start": 0.82,
            "count": 7
           },
           {
            "bin_end": 1.3,
            "bin_start": 1.06,
            "count": 8
           },
           {
            "bin_end": 1.54,
            "bin_start": 1.3,
            "count": 33
           },
           {
            "bin_end": 1.78,
            "bin_start": 1.54,
            "count": 6
           },
           {
            "bin_end": 2.02,
            "bin_start": 1.78,
            "count": 23
           },
           {
            "bin_end": 2.2600000000000002,
            "bin_start": 2.02,
            "count": 9
           },
           {
            "bin_end": 2.5,
            "bin_start": 2.2600000000000002,
            "count": 14
           }
          ],
          "max": "2.5",
          "min": "0.1",
          "nan_count": 0,
          "unique_count": 22
         }
        },
        {
         "dtype": "int64",
         "name": "_deepnote_index_column"
        }
       ],
       "row_count": 150,
       "rows": [
        {
         "PetalLengthCm": 1.4,
         "PetalWidthCm": 0.2,
         "_deepnote_index_column": 0,
         "id": 1
        },
        {
         "PetalLengthCm": 1.4,
         "PetalWidthCm": 0.2,
         "_deepnote_index_column": 1,
         "id": 2
        },
        {
         "PetalLengthCm": 1.3,
         "PetalWidthCm": 0.2,
         "_deepnote_index_column": 2,
         "id": 3
        },
        {
         "PetalLengthCm": 1.5,
         "PetalWidthCm": 0.2,
         "_deepnote_index_column": 3,
         "id": 4
        },
        {
         "PetalLengthCm": 1.4,
         "PetalWidthCm": 0.2,
         "_deepnote_index_column": 4,
         "id": 5
        },
        {
         "PetalLengthCm": 1.7,
         "PetalWidthCm": 0.4,
         "_deepnote_index_column": 5,
         "id": 6
        },
        {
         "PetalLengthCm": 1.4,
         "PetalWidthCm": 0.3,
         "_deepnote_index_column": 6,
         "id": 7
        },
        {
         "PetalLengthCm": 1.5,
         "PetalWidthCm": 0.2,
         "_deepnote_index_column": 7,
         "id": 8
        },
        {
         "PetalLengthCm": 1.4,
         "PetalWidthCm": 0.2,
         "_deepnote_index_column": 8,
         "id": 9
        },
        {
         "PetalLengthCm": 1.5,
         "PetalWidthCm": 0.1,
         "_deepnote_index_column": 9,
         "id": 10
        }
       ]
      },
      "text/html": [
       "<div>\n",
       "<style scoped>\n",
       "    .dataframe tbody tr th:only-of-type {\n",
       "        vertical-align: middle;\n",
       "    }\n",
       "\n",
       "    .dataframe tbody tr th {\n",
       "        vertical-align: top;\n",
       "    }\n",
       "\n",
       "    .dataframe thead th {\n",
       "        text-align: right;\n",
       "    }\n",
       "</style>\n",
       "<table border=\"1\" class=\"dataframe\">\n",
       "  <thead>\n",
       "    <tr style=\"text-align: right;\">\n",
       "      <th></th>\n",
       "      <th>id</th>\n",
       "      <th>PetalLengthCm</th>\n",
       "      <th>PetalWidthCm</th>\n",
       "    </tr>\n",
       "  </thead>\n",
       "  <tbody>\n",
       "    <tr>\n",
       "      <th>0</th>\n",
       "      <td>1</td>\n",
       "      <td>1.4</td>\n",
       "      <td>0.2</td>\n",
       "    </tr>\n",
       "    <tr>\n",
       "      <th>1</th>\n",
       "      <td>2</td>\n",
       "      <td>1.4</td>\n",
       "      <td>0.2</td>\n",
       "    </tr>\n",
       "    <tr>\n",
       "      <th>2</th>\n",
       "      <td>3</td>\n",
       "      <td>1.3</td>\n",
       "      <td>0.2</td>\n",
       "    </tr>\n",
       "    <tr>\n",
       "      <th>3</th>\n",
       "      <td>4</td>\n",
       "      <td>1.5</td>\n",
       "      <td>0.2</td>\n",
       "    </tr>\n",
       "    <tr>\n",
       "      <th>4</th>\n",
       "      <td>5</td>\n",
       "      <td>1.4</td>\n",
       "      <td>0.2</td>\n",
       "    </tr>\n",
       "    <tr>\n",
       "      <th>...</th>\n",
       "      <td>...</td>\n",
       "      <td>...</td>\n",
       "      <td>...</td>\n",
       "    </tr>\n",
       "    <tr>\n",
       "      <th>145</th>\n",
       "      <td>146</td>\n",
       "      <td>5.2</td>\n",
       "      <td>2.3</td>\n",
       "    </tr>\n",
       "    <tr>\n",
       "      <th>146</th>\n",
       "      <td>147</td>\n",
       "      <td>5.0</td>\n",
       "      <td>1.9</td>\n",
       "    </tr>\n",
       "    <tr>\n",
       "      <th>147</th>\n",
       "      <td>148</td>\n",
       "      <td>5.2</td>\n",
       "      <td>2.0</td>\n",
       "    </tr>\n",
       "    <tr>\n",
       "      <th>148</th>\n",
       "      <td>149</td>\n",
       "      <td>5.4</td>\n",
       "      <td>2.3</td>\n",
       "    </tr>\n",
       "    <tr>\n",
       "      <th>149</th>\n",
       "      <td>150</td>\n",
       "      <td>5.1</td>\n",
       "      <td>1.8</td>\n",
       "    </tr>\n",
       "  </tbody>\n",
       "</table>\n",
       "<p>150 rows × 3 columns</p>\n",
       "</div>"
      ],
      "text/plain": [
       "      id  PetalLengthCm  PetalWidthCm\n",
       "0      1            1.4           0.2\n",
       "1      2            1.4           0.2\n",
       "2      3            1.3           0.2\n",
       "3      4            1.5           0.2\n",
       "4      5            1.4           0.2\n",
       "..   ...            ...           ...\n",
       "145  146            5.2           2.3\n",
       "146  147            5.0           1.9\n",
       "147  148            5.2           2.0\n",
       "148  149            5.4           2.3\n",
       "149  150            5.1           1.8\n",
       "\n",
       "[150 rows x 3 columns]"
      ]
     },
     "execution_count": 2,
     "metadata": {},
     "output_type": "execute_result"
    }
   ],
   "source": [
    "df_2 = _deepnote_execute_sql('SELECT \"id\",\"PetalLengthCm\",\"PetalWidthCm\" FROM public.iris2;', 'SQL_73A37329_FB87_4CE7_9F22_E78051BCC311', audit_sql_comment='', sql_cache_mode='cache_disabled')\n",
    "df_2"
   ]
  },
  {
   "cell_type": "code",
   "execution_count": null,
   "metadata": {
    "cell_id": "442766dfffd04d3b8eb0a18b3a9b3e5e",
    "deepnote_cell_type": "code",
    "deepnote_to_be_reexecuted": false,
    "execution_millis": 120,
    "execution_start": 1711547887065,
    "source_hash": null
   },
   "outputs": [
    {
     "name": "stdout",
     "output_type": "stream",
     "text": [
      "      id  SepalLengthCm  SepalWidthCm         Species\n",
      "0      1            5.1           3.5     Iris-setosa\n",
      "1      2            4.9           3.0     Iris-setosa\n",
      "2      3            4.7           3.2     Iris-setosa\n",
      "3      4            4.6           3.1     Iris-setosa\n",
      "4      5            5.0           3.6     Iris-setosa\n",
      "..   ...            ...           ...             ...\n",
      "144  146            6.7           3.0  Iris-virginica\n",
      "145  147            6.3           2.5  Iris-virginica\n",
      "146  148            6.5           3.0  Iris-virginica\n",
      "147  149            6.2           3.4  Iris-virginica\n",
      "148  150            5.9           3.0  Iris-virginica\n",
      "\n",
      "[149 rows x 4 columns]\n"
     ]
    }
   ],
   "source": [
    "print(df_1)"
   ]
  },
  {
   "cell_type": "code",
   "execution_count": null,
   "metadata": {
    "cell_id": "cbe7c81616b94709b4101e44393cb6f2",
    "deepnote_cell_type": "code",
    "deepnote_to_be_reexecuted": false,
    "execution_millis": 115,
    "execution_start": 1711547887071,
    "source_hash": null
   },
   "outputs": [
    {
     "name": "stdout",
     "output_type": "stream",
     "text": [
      "      id  PetalLengthCm  PetalWidthCm\n",
      "0      1            1.4           0.2\n",
      "1      2            1.4           0.2\n",
      "2      3            1.3           0.2\n",
      "3      4            1.5           0.2\n",
      "4      5            1.4           0.2\n",
      "..   ...            ...           ...\n",
      "145  146            5.2           2.3\n",
      "146  147            5.0           1.9\n",
      "147  148            5.2           2.0\n",
      "148  149            5.4           2.3\n",
      "149  150            5.1           1.8\n",
      "\n",
      "[150 rows x 3 columns]\n"
     ]
    }
   ],
   "source": [
    "print(df_2)"
   ]
  },
  {
   "cell_type": "markdown",
   "metadata": {
    "cell_id": "69ec63848d274cfa85e9704e45bc3dc9",
    "deepnote_cell_type": "text-cell-h1",
    "formattedRanges": []
   },
   "source": [
    "# penggabungan dua data"
   ]
  },
  {
   "cell_type": "markdown",
   "metadata": {
    "cell_id": "7068f9e4f87a46598d35551b00ad76c2",
    "deepnote_cell_type": "text-cell-p",
    "formattedRanges": []
   },
   "source": [
    "menggabungkan data frame yang dari mysql dan postgres"
   ]
  },
  {
   "cell_type": "code",
   "execution_count": null,
   "metadata": {
    "cell_id": "c39908bafa0e4ef0b103b83ed499d5ea",
    "deepnote_cell_type": "code",
    "deepnote_to_be_reexecuted": false,
    "execution_millis": 475,
    "execution_start": 1711547887082,
    "source_hash": null
   },
   "outputs": [
    {
     "data": {
      "application/vnd.deepnote.dataframe.v3+json": {
       "column_count": 6,
       "columns": [
        {
         "dtype": "int64",
         "name": "id",
         "stats": {
          "histogram": [
           {
            "bin_end": 15.9,
            "bin_start": 1,
            "count": 15
           },
           {
            "bin_end": 30.8,
            "bin_start": 15.9,
            "count": 15
           },
           {
            "bin_end": 45.7,
            "bin_start": 30.8,
            "count": 15
           },
           {
            "bin_end": 60.6,
            "bin_start": 45.7,
            "count": 15
           },
           {
            "bin_end": 75.5,
            "bin_start": 60.6,
            "count": 15
           },
           {
            "bin_end": 90.4,
            "bin_start": 75.5,
            "count": 14
           },
           {
            "bin_end": 105.3,
            "bin_start": 90.4,
            "count": 15
           },
           {
            "bin_end": 120.2,
            "bin_start": 105.3,
            "count": 15
           },
           {
            "bin_end": 135.1,
            "bin_start": 120.2,
            "count": 15
           },
           {
            "bin_end": 150,
            "bin_start": 135.1,
            "count": 15
           }
          ],
          "max": "150",
          "min": "1",
          "nan_count": 0,
          "unique_count": 149
         }
        },
        {
         "dtype": "float64",
         "name": "SepalLengthCm",
         "stats": {
          "histogram": [
           {
            "bin_end": 4.66,
            "bin_start": 4.3,
            "count": 8
           },
           {
            "bin_end": 5.02,
            "bin_start": 4.66,
            "count": 23
           },
           {
            "bin_end": 5.38,
            "bin_start": 5.02,
            "count": 14
           },
           {
            "bin_end": 5.74,
            "bin_start": 5.38,
            "count": 25
           },
           {
            "bin_end": 6.1,
            "bin_start": 5.74,
            "count": 15
           },
           {
            "bin_end": 6.46,
            "bin_start": 6.1,
            "count": 26
           },
           {
            "bin_end": 6.82,
            "bin_start": 6.46,
            "count": 17
           },
           {
            "bin_end": 7.18,
            "bin_start": 6.82,
            "count": 6
           },
           {
            "bin_end": 7.54,
            "bin_start": 7.18,
            "count": 5
           },
           {
            "bin_end": 7.9,
            "bin_start": 7.54,
            "count": 5
           }
          ],
          "max": "7.9",
          "min": "4.3",
          "nan_count": 5,
          "unique_count": 35
         }
        },
        {
         "dtype": "float64",
         "name": "SepalWidthCm",
         "stats": {
          "histogram": [
           {
            "bin_end": 2.24,
            "bin_start": 2,
            "count": 4
           },
           {
            "bin_end": 2.48,
            "bin_start": 2.24,
            "count": 7
           },
           {
            "bin_end": 2.72,
            "bin_start": 2.48,
            "count": 22
           },
           {
            "bin_end": 2.96,
            "bin_start": 2.72,
            "count": 24
           },
           {
            "bin_end": 3.2,
            "bin_start": 2.96,
            "count": 37
           },
           {
            "bin_end": 3.4400000000000004,
            "bin_start": 3.2,
            "count": 31
           },
           {
            "bin_end": 3.6800000000000006,
            "bin_start": 3.4400000000000004,
            "count": 9
           },
           {
            "bin_end": 3.9200000000000004,
            "bin_start": 3.6800000000000006,
            "count": 11
           },
           {
            "bin_end": 4.16,
            "bin_start": 3.9200000000000004,
            "count": 2
           },
           {
            "bin_end": 4.4,
            "bin_start": 4.16,
            "count": 2
           }
          ],
          "max": "4.4",
          "min": "2.0",
          "nan_count": 0,
          "unique_count": 23
         }
        },
        {
         "dtype": "object",
         "name": "Species",
         "stats": {
          "categories": [
           {
            "count": 49,
            "name": "Iris-setosa"
           },
           {
            "count": 98,
            "name": "2 others"
           },
           {
            "count": 2,
            "name": "Missing"
           }
          ],
          "nan_count": 2,
          "unique_count": 3
         }
        },
        {
         "dtype": "float64",
         "name": "PetalLengthCm",
         "stats": {
          "histogram": [
           {
            "bin_end": 1.59,
            "bin_start": 1,
            "count": 37
           },
           {
            "bin_end": 2.18,
            "bin_start": 1.59,
            "count": 13
           },
           {
            "bin_end": 2.7700000000000005,
            "bin_start": 2.18,
            "count": 0
           },
           {
            "bin_end": 3.3600000000000003,
            "bin_start": 2.7700000000000005,
            "count": 3
           },
           {
            "bin_end": 3.95,
            "bin_start": 3.3600000000000003,
            "count": 8
           },
           {
            "bin_end": 4.540000000000001,
            "bin_start": 3.95,
            "count": 25
           },
           {
            "bin_end": 5.130000000000001,
            "bin_start": 4.540000000000001,
            "count": 29
           },
           {
            "bin_end": 5.720000000000001,
            "bin_start": 5.130000000000001,
            "count": 18
           },
           {
            "bin_end": 6.3100000000000005,
            "bin_start": 5.720000000000001,
            "count": 11
           },
           {
            "bin_end": 6.9,
            "bin_start": 6.3100000000000005,
            "count": 5
           }
          ],
          "max": "6.9",
          "min": "1.0",
          "nan_count": 0,
          "unique_count": 43
         }
        },
        {
         "dtype": "float64",
         "name": "PetalWidthCm",
         "stats": {
          "histogram": [
           {
            "bin_end": 0.33999999999999997,
            "bin_start": 0.1,
            "count": 41
           },
           {
            "bin_end": 0.58,
            "bin_start": 0.33999999999999997,
            "count": 8
           },
           {
            "bin_end": 0.82,
            "bin_start": 0.58,
            "count": 1
           },
           {
            "bin_end": 1.06,
            "bin_start": 0.82,
            "count": 7
           },
           {
            "bin_end": 1.3,
            "bin_start": 1.06,
            "count": 8
           },
           {
            "bin_end": 1.54,
            "bin_start": 1.3,
            "count": 32
           },
           {
            "bin_end": 1.78,
            "bin_start": 1.54,
            "count": 6
           },
           {
            "bin_end": 2.02,
            "bin_start": 1.78,
            "count": 23
           },
           {
            "bin_end": 2.2600000000000002,
            "bin_start": 2.02,
            "count": 9
           },
           {
            "bin_end": 2.5,
            "bin_start": 2.2600000000000002,
            "count": 14
           }
          ],
          "max": "2.5",
          "min": "0.1",
          "nan_count": 0,
          "unique_count": 22
         }
        },
        {
         "dtype": "int64",
         "name": "_deepnote_index_column"
        }
       ],
       "row_count": 149,
       "rows": [
        {
         "PetalLengthCm": 1.4,
         "PetalWidthCm": 0.2,
         "SepalLengthCm": 5.1,
         "SepalWidthCm": 3.5,
         "Species": "Iris-setosa",
         "_deepnote_index_column": 0,
         "id": 1
        },
        {
         "PetalLengthCm": 1.4,
         "PetalWidthCm": 0.2,
         "SepalLengthCm": 4.9,
         "SepalWidthCm": 3,
         "Species": "Iris-setosa",
         "_deepnote_index_column": 1,
         "id": 2
        },
        {
         "PetalLengthCm": 1.3,
         "PetalWidthCm": 0.2,
         "SepalLengthCm": 4.7,
         "SepalWidthCm": 3.2,
         "Species": "Iris-setosa",
         "_deepnote_index_column": 2,
         "id": 3
        },
        {
         "PetalLengthCm": 1.5,
         "PetalWidthCm": 0.2,
         "SepalLengthCm": 4.6,
         "SepalWidthCm": 3.1,
         "Species": "Iris-setosa",
         "_deepnote_index_column": 3,
         "id": 4
        },
        {
         "PetalLengthCm": 1.4,
         "PetalWidthCm": 0.2,
         "SepalLengthCm": 5,
         "SepalWidthCm": 3.6,
         "Species": "Iris-setosa",
         "_deepnote_index_column": 4,
         "id": 5
        },
        {
         "PetalLengthCm": 1.7,
         "PetalWidthCm": 0.4,
         "SepalLengthCm": "nan",
         "SepalWidthCm": 3.9,
         "Species": "None",
         "_deepnote_index_column": 5,
         "id": 6
        },
        {
         "PetalLengthCm": 1.4,
         "PetalWidthCm": 0.3,
         "SepalLengthCm": 4.6,
         "SepalWidthCm": 3.4,
         "Species": "Iris-setosa",
         "_deepnote_index_column": 6,
         "id": 7
        },
        {
         "PetalLengthCm": 1.5,
         "PetalWidthCm": 0.2,
         "SepalLengthCm": 5,
         "SepalWidthCm": 3.4,
         "Species": "Iris-setosa",
         "_deepnote_index_column": 7,
         "id": 8
        },
        {
         "PetalLengthCm": 1.4,
         "PetalWidthCm": 0.2,
         "SepalLengthCm": "nan",
         "SepalWidthCm": 2.9,
         "Species": "Iris-setosa",
         "_deepnote_index_column": 8,
         "id": 9
        },
        {
         "PetalLengthCm": 1.5,
         "PetalWidthCm": 0.1,
         "SepalLengthCm": 4.9,
         "SepalWidthCm": 3.1,
         "Species": "Iris-setosa",
         "_deepnote_index_column": 9,
         "id": 10
        }
       ]
      },
      "text/html": [
       "<div>\n",
       "<style scoped>\n",
       "    .dataframe tbody tr th:only-of-type {\n",
       "        vertical-align: middle;\n",
       "    }\n",
       "\n",
       "    .dataframe tbody tr th {\n",
       "        vertical-align: top;\n",
       "    }\n",
       "\n",
       "    .dataframe thead th {\n",
       "        text-align: right;\n",
       "    }\n",
       "</style>\n",
       "<table border=\"1\" class=\"dataframe\">\n",
       "  <thead>\n",
       "    <tr style=\"text-align: right;\">\n",
       "      <th></th>\n",
       "      <th>id</th>\n",
       "      <th>SepalLengthCm</th>\n",
       "      <th>SepalWidthCm</th>\n",
       "      <th>Species</th>\n",
       "      <th>PetalLengthCm</th>\n",
       "      <th>PetalWidthCm</th>\n",
       "    </tr>\n",
       "  </thead>\n",
       "  <tbody>\n",
       "    <tr>\n",
       "      <th>0</th>\n",
       "      <td>1</td>\n",
       "      <td>5.1</td>\n",
       "      <td>3.5</td>\n",
       "      <td>Iris-setosa</td>\n",
       "      <td>1.4</td>\n",
       "      <td>0.2</td>\n",
       "    </tr>\n",
       "    <tr>\n",
       "      <th>1</th>\n",
       "      <td>2</td>\n",
       "      <td>4.9</td>\n",
       "      <td>3.0</td>\n",
       "      <td>Iris-setosa</td>\n",
       "      <td>1.4</td>\n",
       "      <td>0.2</td>\n",
       "    </tr>\n",
       "    <tr>\n",
       "      <th>2</th>\n",
       "      <td>3</td>\n",
       "      <td>4.7</td>\n",
       "      <td>3.2</td>\n",
       "      <td>Iris-setosa</td>\n",
       "      <td>1.3</td>\n",
       "      <td>0.2</td>\n",
       "    </tr>\n",
       "    <tr>\n",
       "      <th>3</th>\n",
       "      <td>4</td>\n",
       "      <td>4.6</td>\n",
       "      <td>3.1</td>\n",
       "      <td>Iris-setosa</td>\n",
       "      <td>1.5</td>\n",
       "      <td>0.2</td>\n",
       "    </tr>\n",
       "    <tr>\n",
       "      <th>4</th>\n",
       "      <td>5</td>\n",
       "      <td>5.0</td>\n",
       "      <td>3.6</td>\n",
       "      <td>Iris-setosa</td>\n",
       "      <td>1.4</td>\n",
       "      <td>0.2</td>\n",
       "    </tr>\n",
       "    <tr>\n",
       "      <th>...</th>\n",
       "      <td>...</td>\n",
       "      <td>...</td>\n",
       "      <td>...</td>\n",
       "      <td>...</td>\n",
       "      <td>...</td>\n",
       "      <td>...</td>\n",
       "    </tr>\n",
       "    <tr>\n",
       "      <th>144</th>\n",
       "      <td>146</td>\n",
       "      <td>6.7</td>\n",
       "      <td>3.0</td>\n",
       "      <td>Iris-virginica</td>\n",
       "      <td>5.2</td>\n",
       "      <td>2.3</td>\n",
       "    </tr>\n",
       "    <tr>\n",
       "      <th>145</th>\n",
       "      <td>147</td>\n",
       "      <td>6.3</td>\n",
       "      <td>2.5</td>\n",
       "      <td>Iris-virginica</td>\n",
       "      <td>5.0</td>\n",
       "      <td>1.9</td>\n",
       "    </tr>\n",
       "    <tr>\n",
       "      <th>146</th>\n",
       "      <td>148</td>\n",
       "      <td>6.5</td>\n",
       "      <td>3.0</td>\n",
       "      <td>Iris-virginica</td>\n",
       "      <td>5.2</td>\n",
       "      <td>2.0</td>\n",
       "    </tr>\n",
       "    <tr>\n",
       "      <th>147</th>\n",
       "      <td>149</td>\n",
       "      <td>6.2</td>\n",
       "      <td>3.4</td>\n",
       "      <td>Iris-virginica</td>\n",
       "      <td>5.4</td>\n",
       "      <td>2.3</td>\n",
       "    </tr>\n",
       "    <tr>\n",
       "      <th>148</th>\n",
       "      <td>150</td>\n",
       "      <td>5.9</td>\n",
       "      <td>3.0</td>\n",
       "      <td>Iris-virginica</td>\n",
       "      <td>5.1</td>\n",
       "      <td>1.8</td>\n",
       "    </tr>\n",
       "  </tbody>\n",
       "</table>\n",
       "<p>149 rows × 6 columns</p>\n",
       "</div>"
      ],
      "text/plain": [
       "      id  SepalLengthCm  SepalWidthCm         Species  PetalLengthCm  \\\n",
       "0      1            5.1           3.5     Iris-setosa            1.4   \n",
       "1      2            4.9           3.0     Iris-setosa            1.4   \n",
       "2      3            4.7           3.2     Iris-setosa            1.3   \n",
       "3      4            4.6           3.1     Iris-setosa            1.5   \n",
       "4      5            5.0           3.6     Iris-setosa            1.4   \n",
       "..   ...            ...           ...             ...            ...   \n",
       "144  146            6.7           3.0  Iris-virginica            5.2   \n",
       "145  147            6.3           2.5  Iris-virginica            5.0   \n",
       "146  148            6.5           3.0  Iris-virginica            5.2   \n",
       "147  149            6.2           3.4  Iris-virginica            5.4   \n",
       "148  150            5.9           3.0  Iris-virginica            5.1   \n",
       "\n",
       "     PetalWidthCm  \n",
       "0             0.2  \n",
       "1             0.2  \n",
       "2             0.2  \n",
       "3             0.2  \n",
       "4             0.2  \n",
       "..            ...  \n",
       "144           2.3  \n",
       "145           1.9  \n",
       "146           2.0  \n",
       "147           2.3  \n",
       "148           1.8  \n",
       "\n",
       "[149 rows x 6 columns]"
      ]
     },
     "execution_count": 5,
     "metadata": {},
     "output_type": "execute_result"
    }
   ],
   "source": [
    "import pandas as pd\n",
    "\n",
    "df_main = pd.merge (df_1,df_2, on = 'id', how='inner')\n",
    "df_main.head(len(df_main))"
   ]
  },
  {
   "cell_type": "markdown",
   "metadata": {
    "cell_id": "fb7f503c7fe64ad39eadbb5bfbc08cb4",
    "deepnote_cell_type": "text-cell-p",
    "formattedRanges": []
   },
   "source": [
    "mengatur urutan indeks dengan menggunakan reindex"
   ]
  },
  {
   "cell_type": "code",
   "execution_count": null,
   "metadata": {
    "cell_id": "2de7e4fac46746768c6e63976a15341f",
    "deepnote_cell_type": "code",
    "deepnote_to_be_reexecuted": false,
    "execution_millis": 374,
    "execution_start": 1711548891235,
    "source_hash": null
   },
   "outputs": [
    {
     "name": "stdout",
     "output_type": "stream",
     "text": [
      "      id  SepalLengthCm  SepalWidthCm  PetalLengthCm  PetalWidthCm  \\\n",
      "0      1            5.1           3.5            1.4           0.2   \n",
      "1      2            4.9           3.0            1.4           0.2   \n",
      "2      3            4.7           3.2            1.3           0.2   \n",
      "3      4            4.6           3.1            1.5           0.2   \n",
      "4      5            5.0           3.6            1.4           0.2   \n",
      "..   ...            ...           ...            ...           ...   \n",
      "144  146            6.7           3.0            5.2           2.3   \n",
      "145  147            6.3           2.5            5.0           1.9   \n",
      "146  148            6.5           3.0            5.2           2.0   \n",
      "147  149            6.2           3.4            5.4           2.3   \n",
      "148  150            5.9           3.0            5.1           1.8   \n",
      "\n",
      "            Species  \n",
      "0       Iris-setosa  \n",
      "1       Iris-setosa  \n",
      "2       Iris-setosa  \n",
      "3       Iris-setosa  \n",
      "4       Iris-setosa  \n",
      "..              ...  \n",
      "144  Iris-virginica  \n",
      "145  Iris-virginica  \n",
      "146  Iris-virginica  \n",
      "147  Iris-virginica  \n",
      "148  Iris-virginica  \n",
      "\n",
      "[149 rows x 6 columns]\n"
     ]
    }
   ],
   "source": [
    "df_main = df_main.reindex(columns=['id', 'SepalLengthCm', 'SepalWidthCm', 'PetalLengthCm', 'PetalWidthCm', 'Species'])\n",
    "print(df_main)"
   ]
  },
  {
   "cell_type": "markdown",
   "metadata": {
    "cell_id": "b16ada1dcc904862916a9969dcff9a09",
    "deepnote_cell_type": "text-cell-p",
    "formattedRanges": []
   },
   "source": [
    "mengembalikan atau menampilkan ulang data frame df_main biar rapi juga"
   ]
  },
  {
   "cell_type": "code",
   "execution_count": null,
   "metadata": {
    "cell_id": "7d75739b1d31487cafe0519a37e74022",
    "deepnote_cell_type": "code",
    "deepnote_to_be_reexecuted": false,
    "execution_millis": 442,
    "execution_start": 1711547887116,
    "source_hash": null
   },
   "outputs": [
    {
     "data": {
      "application/vnd.deepnote.dataframe.v3+json": {
       "column_count": 6,
       "columns": [
        {
         "dtype": "int64",
         "name": "id",
         "stats": {
          "histogram": [
           {
            "bin_end": 15.9,
            "bin_start": 1,
            "count": 15
           },
           {
            "bin_end": 30.8,
            "bin_start": 15.9,
            "count": 15
           },
           {
            "bin_end": 45.7,
            "bin_start": 30.8,
            "count": 15
           },
           {
            "bin_end": 60.6,
            "bin_start": 45.7,
            "count": 15
           },
           {
            "bin_end": 75.5,
            "bin_start": 60.6,
            "count": 15
           },
           {
            "bin_end": 90.4,
            "bin_start": 75.5,
            "count": 14
           },
           {
            "bin_end": 105.3,
            "bin_start": 90.4,
            "count": 15
           },
           {
            "bin_end": 120.2,
            "bin_start": 105.3,
            "count": 15
           },
           {
            "bin_end": 135.1,
            "bin_start": 120.2,
            "count": 15
           },
           {
            "bin_end": 150,
            "bin_start": 135.1,
            "count": 15
           }
          ],
          "max": "150",
          "min": "1",
          "nan_count": 0,
          "unique_count": 149
         }
        },
        {
         "dtype": "float64",
         "name": "SepalLengthCm",
         "stats": {
          "histogram": [
           {
            "bin_end": 4.66,
            "bin_start": 4.3,
            "count": 8
           },
           {
            "bin_end": 5.02,
            "bin_start": 4.66,
            "count": 23
           },
           {
            "bin_end": 5.38,
            "bin_start": 5.02,
            "count": 14
           },
           {
            "bin_end": 5.74,
            "bin_start": 5.38,
            "count": 25
           },
           {
            "bin_end": 6.1,
            "bin_start": 5.74,
            "count": 15
           },
           {
            "bin_end": 6.46,
            "bin_start": 6.1,
            "count": 26
           },
           {
            "bin_end": 6.82,
            "bin_start": 6.46,
            "count": 17
           },
           {
            "bin_end": 7.18,
            "bin_start": 6.82,
            "count": 6
           },
           {
            "bin_end": 7.54,
            "bin_start": 7.18,
            "count": 5
           },
           {
            "bin_end": 7.9,
            "bin_start": 7.54,
            "count": 5
           }
          ],
          "max": "7.9",
          "min": "4.3",
          "nan_count": 5,
          "unique_count": 35
         }
        },
        {
         "dtype": "float64",
         "name": "SepalWidthCm",
         "stats": {
          "histogram": [
           {
            "bin_end": 2.24,
            "bin_start": 2,
            "count": 4
           },
           {
            "bin_end": 2.48,
            "bin_start": 2.24,
            "count": 7
           },
           {
            "bin_end": 2.72,
            "bin_start": 2.48,
            "count": 22
           },
           {
            "bin_end": 2.96,
            "bin_start": 2.72,
            "count": 24
           },
           {
            "bin_end": 3.2,
            "bin_start": 2.96,
            "count": 37
           },
           {
            "bin_end": 3.4400000000000004,
            "bin_start": 3.2,
            "count": 31
           },
           {
            "bin_end": 3.6800000000000006,
            "bin_start": 3.4400000000000004,
            "count": 9
           },
           {
            "bin_end": 3.9200000000000004,
            "bin_start": 3.6800000000000006,
            "count": 11
           },
           {
            "bin_end": 4.16,
            "bin_start": 3.9200000000000004,
            "count": 2
           },
           {
            "bin_end": 4.4,
            "bin_start": 4.16,
            "count": 2
           }
          ],
          "max": "4.4",
          "min": "2.0",
          "nan_count": 0,
          "unique_count": 23
         }
        },
        {
         "dtype": "float64",
         "name": "PetalLengthCm",
         "stats": {
          "histogram": [
           {
            "bin_end": 1.59,
            "bin_start": 1,
            "count": 37
           },
           {
            "bin_end": 2.18,
            "bin_start": 1.59,
            "count": 13
           },
           {
            "bin_end": 2.7700000000000005,
            "bin_start": 2.18,
            "count": 0
           },
           {
            "bin_end": 3.3600000000000003,
            "bin_start": 2.7700000000000005,
            "count": 3
           },
           {
            "bin_end": 3.95,
            "bin_start": 3.3600000000000003,
            "count": 8
           },
           {
            "bin_end": 4.540000000000001,
            "bin_start": 3.95,
            "count": 25
           },
           {
            "bin_end": 5.130000000000001,
            "bin_start": 4.540000000000001,
            "count": 29
           },
           {
            "bin_end": 5.720000000000001,
            "bin_start": 5.130000000000001,
            "count": 18
           },
           {
            "bin_end": 6.3100000000000005,
            "bin_start": 5.720000000000001,
            "count": 11
           },
           {
            "bin_end": 6.9,
            "bin_start": 6.3100000000000005,
            "count": 5
           }
          ],
          "max": "6.9",
          "min": "1.0",
          "nan_count": 0,
          "unique_count": 43
         }
        },
        {
         "dtype": "float64",
         "name": "PetalWidthCm",
         "stats": {
          "histogram": [
           {
            "bin_end": 0.33999999999999997,
            "bin_start": 0.1,
            "count": 41
           },
           {
            "bin_end": 0.58,
            "bin_start": 0.33999999999999997,
            "count": 8
           },
           {
            "bin_end": 0.82,
            "bin_start": 0.58,
            "count": 1
           },
           {
            "bin_end": 1.06,
            "bin_start": 0.82,
            "count": 7
           },
           {
            "bin_end": 1.3,
            "bin_start": 1.06,
            "count": 8
           },
           {
            "bin_end": 1.54,
            "bin_start": 1.3,
            "count": 32
           },
           {
            "bin_end": 1.78,
            "bin_start": 1.54,
            "count": 6
           },
           {
            "bin_end": 2.02,
            "bin_start": 1.78,
            "count": 23
           },
           {
            "bin_end": 2.2600000000000002,
            "bin_start": 2.02,
            "count": 9
           },
           {
            "bin_end": 2.5,
            "bin_start": 2.2600000000000002,
            "count": 14
           }
          ],
          "max": "2.5",
          "min": "0.1",
          "nan_count": 0,
          "unique_count": 22
         }
        },
        {
         "dtype": "object",
         "name": "Species",
         "stats": {
          "categories": [
           {
            "count": 49,
            "name": "Iris-setosa"
           },
           {
            "count": 98,
            "name": "2 others"
           },
           {
            "count": 2,
            "name": "Missing"
           }
          ],
          "nan_count": 2,
          "unique_count": 3
         }
        },
        {
         "dtype": "int64",
         "name": "_deepnote_index_column"
        }
       ],
       "row_count": 149,
       "rows": [
        {
         "PetalLengthCm": 1.4,
         "PetalWidthCm": 0.2,
         "SepalLengthCm": 5.1,
         "SepalWidthCm": 3.5,
         "Species": "Iris-setosa",
         "_deepnote_index_column": 0,
         "id": 1
        },
        {
         "PetalLengthCm": 1.4,
         "PetalWidthCm": 0.2,
         "SepalLengthCm": 4.9,
         "SepalWidthCm": 3,
         "Species": "Iris-setosa",
         "_deepnote_index_column": 1,
         "id": 2
        },
        {
         "PetalLengthCm": 1.3,
         "PetalWidthCm": 0.2,
         "SepalLengthCm": 4.7,
         "SepalWidthCm": 3.2,
         "Species": "Iris-setosa",
         "_deepnote_index_column": 2,
         "id": 3
        },
        {
         "PetalLengthCm": 1.5,
         "PetalWidthCm": 0.2,
         "SepalLengthCm": 4.6,
         "SepalWidthCm": 3.1,
         "Species": "Iris-setosa",
         "_deepnote_index_column": 3,
         "id": 4
        },
        {
         "PetalLengthCm": 1.4,
         "PetalWidthCm": 0.2,
         "SepalLengthCm": 5,
         "SepalWidthCm": 3.6,
         "Species": "Iris-setosa",
         "_deepnote_index_column": 4,
         "id": 5
        },
        {
         "PetalLengthCm": 1.7,
         "PetalWidthCm": 0.4,
         "SepalLengthCm": "nan",
         "SepalWidthCm": 3.9,
         "Species": "None",
         "_deepnote_index_column": 5,
         "id": 6
        },
        {
         "PetalLengthCm": 1.4,
         "PetalWidthCm": 0.3,
         "SepalLengthCm": 4.6,
         "SepalWidthCm": 3.4,
         "Species": "Iris-setosa",
         "_deepnote_index_column": 6,
         "id": 7
        },
        {
         "PetalLengthCm": 1.5,
         "PetalWidthCm": 0.2,
         "SepalLengthCm": 5,
         "SepalWidthCm": 3.4,
         "Species": "Iris-setosa",
         "_deepnote_index_column": 7,
         "id": 8
        },
        {
         "PetalLengthCm": 1.4,
         "PetalWidthCm": 0.2,
         "SepalLengthCm": "nan",
         "SepalWidthCm": 2.9,
         "Species": "Iris-setosa",
         "_deepnote_index_column": 8,
         "id": 9
        },
        {
         "PetalLengthCm": 1.5,
         "PetalWidthCm": 0.1,
         "SepalLengthCm": 4.9,
         "SepalWidthCm": 3.1,
         "Species": "Iris-setosa",
         "_deepnote_index_column": 9,
         "id": 10
        }
       ]
      },
      "text/html": [
       "<div>\n",
       "<style scoped>\n",
       "    .dataframe tbody tr th:only-of-type {\n",
       "        vertical-align: middle;\n",
       "    }\n",
       "\n",
       "    .dataframe tbody tr th {\n",
       "        vertical-align: top;\n",
       "    }\n",
       "\n",
       "    .dataframe thead th {\n",
       "        text-align: right;\n",
       "    }\n",
       "</style>\n",
       "<table border=\"1\" class=\"dataframe\">\n",
       "  <thead>\n",
       "    <tr style=\"text-align: right;\">\n",
       "      <th></th>\n",
       "      <th>id</th>\n",
       "      <th>SepalLengthCm</th>\n",
       "      <th>SepalWidthCm</th>\n",
       "      <th>PetalLengthCm</th>\n",
       "      <th>PetalWidthCm</th>\n",
       "      <th>Species</th>\n",
       "    </tr>\n",
       "  </thead>\n",
       "  <tbody>\n",
       "    <tr>\n",
       "      <th>0</th>\n",
       "      <td>1</td>\n",
       "      <td>5.1</td>\n",
       "      <td>3.5</td>\n",
       "      <td>1.4</td>\n",
       "      <td>0.2</td>\n",
       "      <td>Iris-setosa</td>\n",
       "    </tr>\n",
       "    <tr>\n",
       "      <th>1</th>\n",
       "      <td>2</td>\n",
       "      <td>4.9</td>\n",
       "      <td>3.0</td>\n",
       "      <td>1.4</td>\n",
       "      <td>0.2</td>\n",
       "      <td>Iris-setosa</td>\n",
       "    </tr>\n",
       "    <tr>\n",
       "      <th>2</th>\n",
       "      <td>3</td>\n",
       "      <td>4.7</td>\n",
       "      <td>3.2</td>\n",
       "      <td>1.3</td>\n",
       "      <td>0.2</td>\n",
       "      <td>Iris-setosa</td>\n",
       "    </tr>\n",
       "    <tr>\n",
       "      <th>3</th>\n",
       "      <td>4</td>\n",
       "      <td>4.6</td>\n",
       "      <td>3.1</td>\n",
       "      <td>1.5</td>\n",
       "      <td>0.2</td>\n",
       "      <td>Iris-setosa</td>\n",
       "    </tr>\n",
       "    <tr>\n",
       "      <th>4</th>\n",
       "      <td>5</td>\n",
       "      <td>5.0</td>\n",
       "      <td>3.6</td>\n",
       "      <td>1.4</td>\n",
       "      <td>0.2</td>\n",
       "      <td>Iris-setosa</td>\n",
       "    </tr>\n",
       "    <tr>\n",
       "      <th>...</th>\n",
       "      <td>...</td>\n",
       "      <td>...</td>\n",
       "      <td>...</td>\n",
       "      <td>...</td>\n",
       "      <td>...</td>\n",
       "      <td>...</td>\n",
       "    </tr>\n",
       "    <tr>\n",
       "      <th>144</th>\n",
       "      <td>146</td>\n",
       "      <td>6.7</td>\n",
       "      <td>3.0</td>\n",
       "      <td>5.2</td>\n",
       "      <td>2.3</td>\n",
       "      <td>Iris-virginica</td>\n",
       "    </tr>\n",
       "    <tr>\n",
       "      <th>145</th>\n",
       "      <td>147</td>\n",
       "      <td>6.3</td>\n",
       "      <td>2.5</td>\n",
       "      <td>5.0</td>\n",
       "      <td>1.9</td>\n",
       "      <td>Iris-virginica</td>\n",
       "    </tr>\n",
       "    <tr>\n",
       "      <th>146</th>\n",
       "      <td>148</td>\n",
       "      <td>6.5</td>\n",
       "      <td>3.0</td>\n",
       "      <td>5.2</td>\n",
       "      <td>2.0</td>\n",
       "      <td>Iris-virginica</td>\n",
       "    </tr>\n",
       "    <tr>\n",
       "      <th>147</th>\n",
       "      <td>149</td>\n",
       "      <td>6.2</td>\n",
       "      <td>3.4</td>\n",
       "      <td>5.4</td>\n",
       "      <td>2.3</td>\n",
       "      <td>Iris-virginica</td>\n",
       "    </tr>\n",
       "    <tr>\n",
       "      <th>148</th>\n",
       "      <td>150</td>\n",
       "      <td>5.9</td>\n",
       "      <td>3.0</td>\n",
       "      <td>5.1</td>\n",
       "      <td>1.8</td>\n",
       "      <td>Iris-virginica</td>\n",
       "    </tr>\n",
       "  </tbody>\n",
       "</table>\n",
       "<p>149 rows × 6 columns</p>\n",
       "</div>"
      ],
      "text/plain": [
       "      id  SepalLengthCm  SepalWidthCm  PetalLengthCm  PetalWidthCm  \\\n",
       "0      1            5.1           3.5            1.4           0.2   \n",
       "1      2            4.9           3.0            1.4           0.2   \n",
       "2      3            4.7           3.2            1.3           0.2   \n",
       "3      4            4.6           3.1            1.5           0.2   \n",
       "4      5            5.0           3.6            1.4           0.2   \n",
       "..   ...            ...           ...            ...           ...   \n",
       "144  146            6.7           3.0            5.2           2.3   \n",
       "145  147            6.3           2.5            5.0           1.9   \n",
       "146  148            6.5           3.0            5.2           2.0   \n",
       "147  149            6.2           3.4            5.4           2.3   \n",
       "148  150            5.9           3.0            5.1           1.8   \n",
       "\n",
       "            Species  \n",
       "0       Iris-setosa  \n",
       "1       Iris-setosa  \n",
       "2       Iris-setosa  \n",
       "3       Iris-setosa  \n",
       "4       Iris-setosa  \n",
       "..              ...  \n",
       "144  Iris-virginica  \n",
       "145  Iris-virginica  \n",
       "146  Iris-virginica  \n",
       "147  Iris-virginica  \n",
       "148  Iris-virginica  \n",
       "\n",
       "[149 rows x 6 columns]"
      ]
     },
     "execution_count": 7,
     "metadata": {},
     "output_type": "execute_result"
    }
   ],
   "source": [
    "df_main.head(len(df_main))"
   ]
  },
  {
   "cell_type": "markdown",
   "metadata": {
    "cell_id": "e6acb9d6bd324ac98828e80e961ba917",
    "deepnote_cell_type": "text-cell-p",
    "formattedRanges": []
   },
   "source": []
  },
  {
   "cell_type": "markdown",
   "metadata": {
    "cell_id": "ef4a750db8434242a0a6b7c4d6a1741a",
    "deepnote_cell_type": "text-cell-p",
    "formattedRanges": []
   },
   "source": [
    "disini saya menampilkan data data yang missing values atau null biar diketahui di id apa aja dan termasuk dalam sepcies apa"
   ]
  },
  {
   "cell_type": "code",
   "execution_count": null,
   "metadata": {
    "cell_id": "d9f11c8f6f444cd5a6476b99e4ec350f",
    "deepnote_cell_type": "sql",
    "deepnote_sql_source": "SELECT * FROM df_main WHERE SepalLengthCm is null",
    "deepnote_to_be_reexecuted": false,
    "deepnote_variable_name": "df_3",
    "execution_millis": 470,
    "execution_start": 1711547887174,
    "source_hash": null,
    "sql_integration_id": "deepnote-dataframe-sql"
   },
   "outputs": [
    {
     "data": {
      "application/vnd.deepnote.dataframe.v3+json": {
       "column_count": 6,
       "columns": [
        {
         "dtype": "int64",
         "name": "id",
         "stats": {
          "histogram": [
           {
            "bin_end": 17.3,
            "bin_start": 6,
            "count": 2
           },
           {
            "bin_end": 28.6,
            "bin_start": 17.3,
            "count": 0
           },
           {
            "bin_end": 39.900000000000006,
            "bin_start": 28.6,
            "count": 0
           },
           {
            "bin_end": 51.2,
            "bin_start": 39.900000000000006,
            "count": 0
           },
           {
            "bin_end": 62.5,
            "bin_start": 51.2,
            "count": 0
           },
           {
            "bin_end": 73.80000000000001,
            "bin_start": 62.5,
            "count": 1
           },
           {
            "bin_end": 85.10000000000001,
            "bin_start": 73.80000000000001,
            "count": 0
           },
           {
            "bin_end": 96.4,
            "bin_start": 85.10000000000001,
            "count": 0
           },
           {
            "bin_end": 107.7,
            "bin_start": 96.4,
            "count": 0
           },
           {
            "bin_end": 119,
            "bin_start": 107.7,
            "count": 2
           }
          ],
          "max": "119",
          "min": "6",
          "nan_count": 0,
          "unique_count": 5
         }
        },
        {
         "dtype": "float64",
         "name": "SepalLengthCm",
         "stats": {
          "histogram": [
           {
            "bin_end": 0.1,
            "bin_start": 0,
            "count": 0
           },
           {
            "bin_end": 0.2,
            "bin_start": 0.1,
            "count": 0
           },
           {
            "bin_end": 0.30000000000000004,
            "bin_start": 0.2,
            "count": 0
           },
           {
            "bin_end": 0.4,
            "bin_start": 0.30000000000000004,
            "count": 0
           },
           {
            "bin_end": 0.5,
            "bin_start": 0.4,
            "count": 0
           },
           {
            "bin_end": 0.6000000000000001,
            "bin_start": 0.5,
            "count": 0
           },
           {
            "bin_end": 0.7000000000000001,
            "bin_start": 0.6000000000000001,
            "count": 0
           },
           {
            "bin_end": 0.8,
            "bin_start": 0.7000000000000001,
            "count": 0
           },
           {
            "bin_end": 0.9,
            "bin_start": 0.8,
            "count": 0
           },
           {
            "bin_end": 1,
            "bin_start": 0.9,
            "count": 0
           }
          ],
          "max": null,
          "min": null,
          "nan_count": 5,
          "unique_count": 0
         }
        },
        {
         "dtype": "float64",
         "name": "SepalWidthCm",
         "stats": {
          "histogram": [
           {
            "bin_end": 2.73,
            "bin_start": 2.6,
            "count": 1
           },
           {
            "bin_end": 2.86,
            "bin_start": 2.73,
            "count": 0
           },
           {
            "bin_end": 2.99,
            "bin_start": 2.86,
            "count": 1
           },
           {
            "bin_end": 3.12,
            "bin_start": 2.99,
            "count": 0
           },
           {
            "bin_end": 3.25,
            "bin_start": 3.12,
            "count": 2
           },
           {
            "bin_end": 3.38,
            "bin_start": 3.25,
            "count": 0
           },
           {
            "bin_end": 3.51,
            "bin_start": 3.38,
            "count": 0
           },
           {
            "bin_end": 3.6399999999999997,
            "bin_start": 3.51,
            "count": 0
           },
           {
            "bin_end": 3.7699999999999996,
            "bin_start": 3.6399999999999997,
            "count": 0
           },
           {
            "bin_end": 3.9,
            "bin_start": 3.7699999999999996,
            "count": 1
           }
          ],
          "max": "3.9",
          "min": "2.6",
          "nan_count": 0,
          "unique_count": 4
         }
        },
        {
         "dtype": "float64",
         "name": "PetalLengthCm",
         "stats": {
          "histogram": [
           {
            "bin_end": 1.95,
            "bin_start": 1.4,
            "count": 2
           },
           {
            "bin_end": 2.5,
            "bin_start": 1.95,
            "count": 0
           },
           {
            "bin_end": 3.05,
            "bin_start": 2.5,
            "count": 0
           },
           {
            "bin_end": 3.6,
            "bin_start": 3.05,
            "count": 0
           },
           {
            "bin_end": 4.15,
            "bin_start": 3.6,
            "count": 0
           },
           {
            "bin_end": 4.7,
            "bin_start": 4.15,
            "count": 0
           },
           {
            "bin_end": 5.25,
            "bin_start": 4.7,
            "count": 2
           },
           {
            "bin_end": 5.800000000000001,
            "bin_start": 5.25,
            "count": 0
           },
           {
            "bin_end": 6.35,
            "bin_start": 5.800000000000001,
            "count": 0
           },
           {
            "bin_end": 6.9,
            "bin_start": 6.35,
            "count": 1
           }
          ],
          "max": "6.9",
          "min": "1.4",
          "nan_count": 0,
          "unique_count": 5
         }
        },
        {
         "dtype": "float64",
         "name": "PetalWidthCm",
         "stats": {
          "histogram": [
           {
            "bin_end": 0.41,
            "bin_start": 0.2,
            "count": 2
           },
           {
            "bin_end": 0.6199999999999999,
            "bin_start": 0.41,
            "count": 0
           },
           {
            "bin_end": 0.8299999999999998,
            "bin_start": 0.6199999999999999,
            "count": 0
           },
           {
            "bin_end": 1.0399999999999998,
            "bin_start": 0.8299999999999998,
            "count": 0
           },
           {
            "bin_end": 1.2499999999999998,
            "bin_start": 1.0399999999999998,
            "count": 0
           },
           {
            "bin_end": 1.4599999999999997,
            "bin_start": 1.2499999999999998,
            "count": 0
           },
           {
            "bin_end": 1.6699999999999997,
            "bin_start": 1.4599999999999997,
            "count": 0
           },
           {
            "bin_end": 1.8799999999999997,
            "bin_start": 1.6699999999999997,
            "count": 1
           },
           {
            "bin_end": 2.09,
            "bin_start": 1.8799999999999997,
            "count": 1
           },
           {
            "bin_end": 2.3,
            "bin_start": 2.09,
            "count": 1
           }
          ],
          "max": "2.3",
          "min": "0.2",
          "nan_count": 0,
          "unique_count": 5
         }
        },
        {
         "dtype": "object",
         "name": "Species",
         "stats": {
          "categories": [
           {
            "count": 1,
            "name": "Iris-setosa"
           },
           {
            "count": 2,
            "name": "2 others"
           },
           {
            "count": 2,
            "name": "Missing"
           }
          ],
          "nan_count": 2,
          "unique_count": 3
         }
        },
        {
         "dtype": "int64",
         "name": "_deepnote_index_column"
        }
       ],
       "row_count": 5,
       "rows": [
        {
         "PetalLengthCm": 1.7,
         "PetalWidthCm": 0.4,
         "SepalLengthCm": "nan",
         "SepalWidthCm": 3.9,
         "Species": "None",
         "_deepnote_index_column": 0,
         "id": 6
        },
        {
         "PetalLengthCm": 1.4,
         "PetalWidthCm": 0.2,
         "SepalLengthCm": "nan",
         "SepalWidthCm": 2.9,
         "Species": "Iris-setosa",
         "_deepnote_index_column": 1,
         "id": 9
        },
        {
         "PetalLengthCm": 4.8,
         "PetalWidthCm": 1.8,
         "SepalLengthCm": "nan",
         "SepalWidthCm": 3.2,
         "Species": "Iris-versicolor",
         "_deepnote_index_column": 2,
         "id": 71
        },
        {
         "PetalLengthCm": 5.1,
         "PetalWidthCm": 2,
         "SepalLengthCm": "nan",
         "SepalWidthCm": 3.2,
         "Species": "None",
         "_deepnote_index_column": 3,
         "id": 111
        },
        {
         "PetalLengthCm": 6.9,
         "PetalWidthCm": 2.3,
         "SepalLengthCm": "nan",
         "SepalWidthCm": 2.6,
         "Species": "Iris-virginica",
         "_deepnote_index_column": 4,
         "id": 119
        }
       ]
      },
      "text/html": [
       "<div>\n",
       "<style scoped>\n",
       "    .dataframe tbody tr th:only-of-type {\n",
       "        vertical-align: middle;\n",
       "    }\n",
       "\n",
       "    .dataframe tbody tr th {\n",
       "        vertical-align: top;\n",
       "    }\n",
       "\n",
       "    .dataframe thead th {\n",
       "        text-align: right;\n",
       "    }\n",
       "</style>\n",
       "<table border=\"1\" class=\"dataframe\">\n",
       "  <thead>\n",
       "    <tr style=\"text-align: right;\">\n",
       "      <th></th>\n",
       "      <th>id</th>\n",
       "      <th>SepalLengthCm</th>\n",
       "      <th>SepalWidthCm</th>\n",
       "      <th>PetalLengthCm</th>\n",
       "      <th>PetalWidthCm</th>\n",
       "      <th>Species</th>\n",
       "    </tr>\n",
       "  </thead>\n",
       "  <tbody>\n",
       "    <tr>\n",
       "      <th>0</th>\n",
       "      <td>6</td>\n",
       "      <td>NaN</td>\n",
       "      <td>3.9</td>\n",
       "      <td>1.7</td>\n",
       "      <td>0.4</td>\n",
       "      <td>None</td>\n",
       "    </tr>\n",
       "    <tr>\n",
       "      <th>1</th>\n",
       "      <td>9</td>\n",
       "      <td>NaN</td>\n",
       "      <td>2.9</td>\n",
       "      <td>1.4</td>\n",
       "      <td>0.2</td>\n",
       "      <td>Iris-setosa</td>\n",
       "    </tr>\n",
       "    <tr>\n",
       "      <th>2</th>\n",
       "      <td>71</td>\n",
       "      <td>NaN</td>\n",
       "      <td>3.2</td>\n",
       "      <td>4.8</td>\n",
       "      <td>1.8</td>\n",
       "      <td>Iris-versicolor</td>\n",
       "    </tr>\n",
       "    <tr>\n",
       "      <th>3</th>\n",
       "      <td>111</td>\n",
       "      <td>NaN</td>\n",
       "      <td>3.2</td>\n",
       "      <td>5.1</td>\n",
       "      <td>2.0</td>\n",
       "      <td>None</td>\n",
       "    </tr>\n",
       "    <tr>\n",
       "      <th>4</th>\n",
       "      <td>119</td>\n",
       "      <td>NaN</td>\n",
       "      <td>2.6</td>\n",
       "      <td>6.9</td>\n",
       "      <td>2.3</td>\n",
       "      <td>Iris-virginica</td>\n",
       "    </tr>\n",
       "  </tbody>\n",
       "</table>\n",
       "</div>"
      ],
      "text/plain": [
       "    id  SepalLengthCm  SepalWidthCm  PetalLengthCm  PetalWidthCm  \\\n",
       "0    6            NaN           3.9            1.7           0.4   \n",
       "1    9            NaN           2.9            1.4           0.2   \n",
       "2   71            NaN           3.2            4.8           1.8   \n",
       "3  111            NaN           3.2            5.1           2.0   \n",
       "4  119            NaN           2.6            6.9           2.3   \n",
       "\n",
       "           Species  \n",
       "0             None  \n",
       "1      Iris-setosa  \n",
       "2  Iris-versicolor  \n",
       "3             None  \n",
       "4   Iris-virginica  "
      ]
     },
     "execution_count": 8,
     "metadata": {},
     "output_type": "execute_result"
    }
   ],
   "source": [
    "df_3 = _deepnote_execute_sql('SELECT * FROM df_main WHERE SepalLengthCm is null', 'SQL_DEEPNOTE_DATAFRAME_SQL', audit_sql_comment='', sql_cache_mode='cache_disabled')\n",
    "df_3"
   ]
  },
  {
   "cell_type": "markdown",
   "metadata": {
    "cell_id": "f39c72e1eb0740359078bf5a2f0693f9",
    "deepnote_cell_type": "text-cell-p",
    "formattedRanges": []
   },
   "source": []
  },
  {
   "cell_type": "markdown",
   "metadata": {
    "cell_id": "80a0304d89b945a995f03db3696722c3",
    "deepnote_cell_type": "text-cell-h1",
    "formattedRanges": []
   },
   "source": [
    "# cleaning"
   ]
  },
  {
   "cell_type": "markdown",
   "metadata": {
    "cell_id": "0b63c35aeb554a58b853dc6eabac68ab",
    "deepnote_cell_type": "text-cell-p",
    "formattedRanges": []
   },
   "source": [
    "untuk  tahap ini yaitu menghapus baris kolom yang mempunyai species yang null"
   ]
  },
  {
   "cell_type": "code",
   "execution_count": null,
   "metadata": {
    "cell_id": "ada71236778541ca96b51341de88d8a4",
    "deepnote_cell_type": "code",
    "deepnote_to_be_reexecuted": false,
    "execution_millis": 400,
    "execution_start": 1711547887668,
    "source_hash": null
   },
   "outputs": [
    {
     "name": "stdout",
     "output_type": "stream",
     "text": [
      "      id  SepalLengthCm  SepalWidthCm  PetalLengthCm  PetalWidthCm  \\\n",
      "0      1            5.1           3.5            1.4           0.2   \n",
      "1      2            4.9           3.0            1.4           0.2   \n",
      "2      3            4.7           3.2            1.3           0.2   \n",
      "3      4            4.6           3.1            1.5           0.2   \n",
      "4      5            5.0           3.6            1.4           0.2   \n",
      "..   ...            ...           ...            ...           ...   \n",
      "144  146            6.7           3.0            5.2           2.3   \n",
      "145  147            6.3           2.5            5.0           1.9   \n",
      "146  148            6.5           3.0            5.2           2.0   \n",
      "147  149            6.2           3.4            5.4           2.3   \n",
      "148  150            5.9           3.0            5.1           1.8   \n",
      "\n",
      "            Species  \n",
      "0       Iris-setosa  \n",
      "1       Iris-setosa  \n",
      "2       Iris-setosa  \n",
      "3       Iris-setosa  \n",
      "4       Iris-setosa  \n",
      "..              ...  \n",
      "144  Iris-virginica  \n",
      "145  Iris-virginica  \n",
      "146  Iris-virginica  \n",
      "147  Iris-virginica  \n",
      "148  Iris-virginica  \n",
      "\n",
      "[147 rows x 6 columns]\n"
     ]
    }
   ],
   "source": [
    "df_cleaned = df_main.dropna(subset=['Species'])\n",
    "print(df_cleaned)"
   ]
  },
  {
   "cell_type": "code",
   "execution_count": null,
   "metadata": {
    "cell_id": "407fcbfabefa4423be68399f33e8a165",
    "deepnote_cell_type": "code",
    "deepnote_to_be_reexecuted": false,
    "execution_millis": 399,
    "execution_start": 1711547887669,
    "source_hash": null
   },
   "outputs": [
    {
     "data": {
      "application/vnd.deepnote.dataframe.v3+json": {
       "column_count": 6,
       "columns": [
        {
         "dtype": "int64",
         "name": "id",
         "stats": {
          "histogram": [
           {
            "bin_end": 15.9,
            "bin_start": 1,
            "count": 14
           },
           {
            "bin_end": 30.8,
            "bin_start": 15.9,
            "count": 15
           },
           {
            "bin_end": 45.7,
            "bin_start": 30.8,
            "count": 15
           },
           {
            "bin_end": 60.6,
            "bin_start": 45.7,
            "count": 15
           },
           {
            "bin_end": 75.5,
            "bin_start": 60.6,
            "count": 15
           },
           {
            "bin_end": 90.4,
            "bin_start": 75.5,
            "count": 14
           },
           {
            "bin_end": 105.3,
            "bin_start": 90.4,
            "count": 15
           },
           {
            "bin_end": 120.2,
            "bin_start": 105.3,
            "count": 14
           },
           {
            "bin_end": 135.1,
            "bin_start": 120.2,
            "count": 15
           },
           {
            "bin_end": 150,
            "bin_start": 135.1,
            "count": 15
           }
          ],
          "max": "150",
          "min": "1",
          "nan_count": 0,
          "unique_count": 147
         }
        },
        {
         "dtype": "float64",
         "name": "SepalLengthCm",
         "stats": {
          "histogram": [
           {
            "bin_end": 4.66,
            "bin_start": 4.3,
            "count": 8
           },
           {
            "bin_end": 5.02,
            "bin_start": 4.66,
            "count": 23
           },
           {
            "bin_end": 5.38,
            "bin_start": 5.02,
            "count": 14
           },
           {
            "bin_end": 5.74,
            "bin_start": 5.38,
            "count": 25
           },
           {
            "bin_end": 6.1,
            "bin_start": 5.74,
            "count": 15
           },
           {
            "bin_end": 6.46,
            "bin_start": 6.1,
            "count": 26
           },
           {
            "bin_end": 6.82,
            "bin_start": 6.46,
            "count": 17
           },
           {
            "bin_end": 7.18,
            "bin_start": 6.82,
            "count": 6
           },
           {
            "bin_end": 7.54,
            "bin_start": 7.18,
            "count": 5
           },
           {
            "bin_end": 7.9,
            "bin_start": 7.54,
            "count": 5
           }
          ],
          "max": "7.9",
          "min": "4.3",
          "nan_count": 3,
          "unique_count": 35
         }
        },
        {
         "dtype": "float64",
         "name": "SepalWidthCm",
         "stats": {
          "histogram": [
           {
            "bin_end": 2.24,
            "bin_start": 2,
            "count": 4
           },
           {
            "bin_end": 2.48,
            "bin_start": 2.24,
            "count": 7
           },
           {
            "bin_end": 2.72,
            "bin_start": 2.48,
            "count": 22
           },
           {
            "bin_end": 2.96,
            "bin_start": 2.72,
            "count": 24
           },
           {
            "bin_end": 3.2,
            "bin_start": 2.96,
            "count": 37
           },
           {
            "bin_end": 3.4400000000000004,
            "bin_start": 3.2,
            "count": 30
           },
           {
            "bin_end": 3.6800000000000006,
            "bin_start": 3.4400000000000004,
            "count": 9
           },
           {
            "bin_end": 3.9200000000000004,
            "bin_start": 3.6800000000000006,
            "count": 10
           },
           {
            "bin_end": 4.16,
            "bin_start": 3.9200000000000004,
            "count": 2
           },
           {
            "bin_end": 4.4,
            "bin_start": 4.16,
            "count": 2
           }
          ],
          "max": "4.4",
          "min": "2.0",
          "nan_count": 0,
          "unique_count": 23
         }
        },
        {
         "dtype": "float64",
         "name": "PetalLengthCm",
         "stats": {
          "histogram": [
           {
            "bin_end": 1.59,
            "bin_start": 1,
            "count": 37
           },
           {
            "bin_end": 2.18,
            "bin_start": 1.59,
            "count": 12
           },
           {
            "bin_end": 2.7700000000000005,
            "bin_start": 2.18,
            "count": 0
           },
           {
            "bin_end": 3.3600000000000003,
            "bin_start": 2.7700000000000005,
            "count": 3
           },
           {
            "bin_end": 3.95,
            "bin_start": 3.3600000000000003,
            "count": 8
           },
           {
            "bin_end": 4.540000000000001,
            "bin_start": 3.95,
            "count": 25
           },
           {
            "bin_end": 5.130000000000001,
            "bin_start": 4.540000000000001,
            "count": 28
           },
           {
            "bin_end": 5.720000000000001,
            "bin_start": 5.130000000000001,
            "count": 18
           },
           {
            "bin_end": 6.3100000000000005,
            "bin_start": 5.720000000000001,
            "count": 11
           },
           {
            "bin_end": 6.9,
            "bin_start": 6.3100000000000005,
            "count": 5
           }
          ],
          "max": "6.9",
          "min": "1.0",
          "nan_count": 0,
          "unique_count": 43
         }
        },
        {
         "dtype": "float64",
         "name": "PetalWidthCm",
         "stats": {
          "histogram": [
           {
            "bin_end": 0.33999999999999997,
            "bin_start": 0.1,
            "count": 41
           },
           {
            "bin_end": 0.58,
            "bin_start": 0.33999999999999997,
            "count": 7
           },
           {
            "bin_end": 0.82,
            "bin_start": 0.58,
            "count": 1
           },
           {
            "bin_end": 1.06,
            "bin_start": 0.82,
            "count": 7
           },
           {
            "bin_end": 1.3,
            "bin_start": 1.06,
            "count": 8
           },
           {
            "bin_end": 1.54,
            "bin_start": 1.3,
            "count": 32
           },
           {
            "bin_end": 1.78,
            "bin_start": 1.54,
            "count": 6
           },
           {
            "bin_end": 2.02,
            "bin_start": 1.78,
            "count": 22
           },
           {
            "bin_end": 2.2600000000000002,
            "bin_start": 2.02,
            "count": 9
           },
           {
            "bin_end": 2.5,
            "bin_start": 2.2600000000000002,
            "count": 14
           }
          ],
          "max": "2.5",
          "min": "0.1",
          "nan_count": 0,
          "unique_count": 22
         }
        },
        {
         "dtype": "object",
         "name": "Species",
         "stats": {
          "categories": [
           {
            "count": 49,
            "name": "Iris-setosa"
           },
           {
            "count": 49,
            "name": "Iris-versicolor"
           },
           {
            "count": 49,
            "name": "Iris-virginica"
           }
          ],
          "nan_count": 0,
          "unique_count": 3
         }
        },
        {
         "dtype": "int64",
         "name": "_deepnote_index_column"
        }
       ],
       "row_count": 147,
       "rows": [
        {
         "PetalLengthCm": 1.4,
         "PetalWidthCm": 0.2,
         "SepalLengthCm": 5.1,
         "SepalWidthCm": 3.5,
         "Species": "Iris-setosa",
         "_deepnote_index_column": 0,
         "id": 1
        },
        {
         "PetalLengthCm": 1.4,
         "PetalWidthCm": 0.2,
         "SepalLengthCm": 4.9,
         "SepalWidthCm": 3,
         "Species": "Iris-setosa",
         "_deepnote_index_column": 1,
         "id": 2
        },
        {
         "PetalLengthCm": 1.3,
         "PetalWidthCm": 0.2,
         "SepalLengthCm": 4.7,
         "SepalWidthCm": 3.2,
         "Species": "Iris-setosa",
         "_deepnote_index_column": 2,
         "id": 3
        },
        {
         "PetalLengthCm": 1.5,
         "PetalWidthCm": 0.2,
         "SepalLengthCm": 4.6,
         "SepalWidthCm": 3.1,
         "Species": "Iris-setosa",
         "_deepnote_index_column": 3,
         "id": 4
        },
        {
         "PetalLengthCm": 1.4,
         "PetalWidthCm": 0.2,
         "SepalLengthCm": 5,
         "SepalWidthCm": 3.6,
         "Species": "Iris-setosa",
         "_deepnote_index_column": 4,
         "id": 5
        },
        {
         "PetalLengthCm": 1.4,
         "PetalWidthCm": 0.3,
         "SepalLengthCm": 4.6,
         "SepalWidthCm": 3.4,
         "Species": "Iris-setosa",
         "_deepnote_index_column": 6,
         "id": 7
        },
        {
         "PetalLengthCm": 1.5,
         "PetalWidthCm": 0.2,
         "SepalLengthCm": 5,
         "SepalWidthCm": 3.4,
         "Species": "Iris-setosa",
         "_deepnote_index_column": 7,
         "id": 8
        },
        {
         "PetalLengthCm": 1.4,
         "PetalWidthCm": 0.2,
         "SepalLengthCm": "nan",
         "SepalWidthCm": 2.9,
         "Species": "Iris-setosa",
         "_deepnote_index_column": 8,
         "id": 9
        },
        {
         "PetalLengthCm": 1.5,
         "PetalWidthCm": 0.1,
         "SepalLengthCm": 4.9,
         "SepalWidthCm": 3.1,
         "Species": "Iris-setosa",
         "_deepnote_index_column": 9,
         "id": 10
        },
        {
         "PetalLengthCm": 1.5,
         "PetalWidthCm": 0.2,
         "SepalLengthCm": 5.4,
         "SepalWidthCm": 3.7,
         "Species": "Iris-setosa",
         "_deepnote_index_column": 10,
         "id": 11
        }
       ]
      },
      "text/html": [
       "<div>\n",
       "<style scoped>\n",
       "    .dataframe tbody tr th:only-of-type {\n",
       "        vertical-align: middle;\n",
       "    }\n",
       "\n",
       "    .dataframe tbody tr th {\n",
       "        vertical-align: top;\n",
       "    }\n",
       "\n",
       "    .dataframe thead th {\n",
       "        text-align: right;\n",
       "    }\n",
       "</style>\n",
       "<table border=\"1\" class=\"dataframe\">\n",
       "  <thead>\n",
       "    <tr style=\"text-align: right;\">\n",
       "      <th></th>\n",
       "      <th>id</th>\n",
       "      <th>SepalLengthCm</th>\n",
       "      <th>SepalWidthCm</th>\n",
       "      <th>PetalLengthCm</th>\n",
       "      <th>PetalWidthCm</th>\n",
       "      <th>Species</th>\n",
       "    </tr>\n",
       "  </thead>\n",
       "  <tbody>\n",
       "    <tr>\n",
       "      <th>0</th>\n",
       "      <td>1</td>\n",
       "      <td>5.1</td>\n",
       "      <td>3.5</td>\n",
       "      <td>1.4</td>\n",
       "      <td>0.2</td>\n",
       "      <td>Iris-setosa</td>\n",
       "    </tr>\n",
       "    <tr>\n",
       "      <th>1</th>\n",
       "      <td>2</td>\n",
       "      <td>4.9</td>\n",
       "      <td>3.0</td>\n",
       "      <td>1.4</td>\n",
       "      <td>0.2</td>\n",
       "      <td>Iris-setosa</td>\n",
       "    </tr>\n",
       "    <tr>\n",
       "      <th>2</th>\n",
       "      <td>3</td>\n",
       "      <td>4.7</td>\n",
       "      <td>3.2</td>\n",
       "      <td>1.3</td>\n",
       "      <td>0.2</td>\n",
       "      <td>Iris-setosa</td>\n",
       "    </tr>\n",
       "    <tr>\n",
       "      <th>3</th>\n",
       "      <td>4</td>\n",
       "      <td>4.6</td>\n",
       "      <td>3.1</td>\n",
       "      <td>1.5</td>\n",
       "      <td>0.2</td>\n",
       "      <td>Iris-setosa</td>\n",
       "    </tr>\n",
       "    <tr>\n",
       "      <th>4</th>\n",
       "      <td>5</td>\n",
       "      <td>5.0</td>\n",
       "      <td>3.6</td>\n",
       "      <td>1.4</td>\n",
       "      <td>0.2</td>\n",
       "      <td>Iris-setosa</td>\n",
       "    </tr>\n",
       "    <tr>\n",
       "      <th>...</th>\n",
       "      <td>...</td>\n",
       "      <td>...</td>\n",
       "      <td>...</td>\n",
       "      <td>...</td>\n",
       "      <td>...</td>\n",
       "      <td>...</td>\n",
       "    </tr>\n",
       "    <tr>\n",
       "      <th>144</th>\n",
       "      <td>146</td>\n",
       "      <td>6.7</td>\n",
       "      <td>3.0</td>\n",
       "      <td>5.2</td>\n",
       "      <td>2.3</td>\n",
       "      <td>Iris-virginica</td>\n",
       "    </tr>\n",
       "    <tr>\n",
       "      <th>145</th>\n",
       "      <td>147</td>\n",
       "      <td>6.3</td>\n",
       "      <td>2.5</td>\n",
       "      <td>5.0</td>\n",
       "      <td>1.9</td>\n",
       "      <td>Iris-virginica</td>\n",
       "    </tr>\n",
       "    <tr>\n",
       "      <th>146</th>\n",
       "      <td>148</td>\n",
       "      <td>6.5</td>\n",
       "      <td>3.0</td>\n",
       "      <td>5.2</td>\n",
       "      <td>2.0</td>\n",
       "      <td>Iris-virginica</td>\n",
       "    </tr>\n",
       "    <tr>\n",
       "      <th>147</th>\n",
       "      <td>149</td>\n",
       "      <td>6.2</td>\n",
       "      <td>3.4</td>\n",
       "      <td>5.4</td>\n",
       "      <td>2.3</td>\n",
       "      <td>Iris-virginica</td>\n",
       "    </tr>\n",
       "    <tr>\n",
       "      <th>148</th>\n",
       "      <td>150</td>\n",
       "      <td>5.9</td>\n",
       "      <td>3.0</td>\n",
       "      <td>5.1</td>\n",
       "      <td>1.8</td>\n",
       "      <td>Iris-virginica</td>\n",
       "    </tr>\n",
       "  </tbody>\n",
       "</table>\n",
       "<p>147 rows × 6 columns</p>\n",
       "</div>"
      ],
      "text/plain": [
       "      id  SepalLengthCm  SepalWidthCm  PetalLengthCm  PetalWidthCm  \\\n",
       "0      1            5.1           3.5            1.4           0.2   \n",
       "1      2            4.9           3.0            1.4           0.2   \n",
       "2      3            4.7           3.2            1.3           0.2   \n",
       "3      4            4.6           3.1            1.5           0.2   \n",
       "4      5            5.0           3.6            1.4           0.2   \n",
       "..   ...            ...           ...            ...           ...   \n",
       "144  146            6.7           3.0            5.2           2.3   \n",
       "145  147            6.3           2.5            5.0           1.9   \n",
       "146  148            6.5           3.0            5.2           2.0   \n",
       "147  149            6.2           3.4            5.4           2.3   \n",
       "148  150            5.9           3.0            5.1           1.8   \n",
       "\n",
       "            Species  \n",
       "0       Iris-setosa  \n",
       "1       Iris-setosa  \n",
       "2       Iris-setosa  \n",
       "3       Iris-setosa  \n",
       "4       Iris-setosa  \n",
       "..              ...  \n",
       "144  Iris-virginica  \n",
       "145  Iris-virginica  \n",
       "146  Iris-virginica  \n",
       "147  Iris-virginica  \n",
       "148  Iris-virginica  \n",
       "\n",
       "[147 rows x 6 columns]"
      ]
     },
     "execution_count": 10,
     "metadata": {},
     "output_type": "execute_result"
    }
   ],
   "source": [
    "df_cleaned.head(len(df_cleaned))"
   ]
  },
  {
   "cell_type": "markdown",
   "metadata": {
    "cell_id": "7cc89affffcd4a84ba90ecc23e96756f",
    "deepnote_cell_type": "text-cell-h1",
    "formattedRanges": []
   },
   "source": [
    "# missing value dengan rata rata"
   ]
  },
  {
   "cell_type": "markdown",
   "metadata": {
    "cell_id": "2bba21c38b33409186b512264d2f2b81",
    "deepnote_cell_type": "text-cell-p",
    "formattedRanges": []
   },
   "source": [
    "disini saya mencari nilai  yang kosong di kolom sepallength dan mencari nilai nya dengan menggunakan metode rata rata sesuai speciesnya"
   ]
  },
  {
   "cell_type": "markdown",
   "metadata": {
    "cell_id": "3d016b8b1455409d84124adb72af26de",
    "deepnote_cell_type": "text-cell-p",
    "formattedRanges": []
   },
   "source": []
  },
  {
   "cell_type": "markdown",
   "metadata": {
    "cell_id": "38965d5ce701481ebca99b70c0066d6c",
    "deepnote_cell_type": "text-cell-p",
    "formattedRanges": []
   },
   "source": [
    "ini species yang setosa"
   ]
  },
  {
   "cell_type": "code",
   "execution_count": null,
   "metadata": {
    "cell_id": "05cead7765604d26aef637cce725f819",
    "deepnote_cell_type": "code",
    "deepnote_to_be_reexecuted": false,
    "execution_millis": 397,
    "execution_start": 1711547887672,
    "source_hash": null
   },
   "outputs": [
    {
     "name": "stdout",
     "output_type": "stream",
     "text": [
      "5.010416666666667\n"
     ]
    }
   ],
   "source": [
    "setosa_df = df_cleaned[df_cleaned['Species'] == 'Iris-setosa']\n",
    "mean_sepal_length_setosa = setosa_df['SepalLengthCm'].mean()\n",
    "print(mean_sepal_length_setosa)"
   ]
  },
  {
   "cell_type": "markdown",
   "metadata": {
    "cell_id": "408785c11a6e4399a347f4f3e9d0e4cc",
    "deepnote_cell_type": "text-cell-p",
    "formattedRanges": []
   },
   "source": [
    "kemudian nilainya dibulatkan"
   ]
  },
  {
   "cell_type": "code",
   "execution_count": null,
   "metadata": {
    "cell_id": "c65b2c8adc3f41fb85fb047d89c7d334",
    "deepnote_cell_type": "code",
    "deepnote_to_be_reexecuted": false,
    "execution_millis": 390,
    "execution_start": 1711547887679,
    "source_hash": null
   },
   "outputs": [
    {
     "name": "stdout",
     "output_type": "stream",
     "text": [
      "5.0\n"
     ]
    }
   ],
   "source": [
    "mean_sepal_length_setosa_rounded = round(mean_sepal_length_setosa, 1)\n",
    "print(mean_sepal_length_setosa_rounded)\n"
   ]
  },
  {
   "cell_type": "markdown",
   "metadata": {
    "cell_id": "cf75da2155324bf6a7a63d5786e9b5a4",
    "deepnote_cell_type": "text-cell-p",
    "formattedRanges": []
   },
   "source": []
  },
  {
   "cell_type": "markdown",
   "metadata": {
    "cell_id": "bbf6b78dd0d4499dbe1c5ae241c98799",
    "deepnote_cell_type": "text-cell-p",
    "formattedRanges": []
   },
   "source": [
    "ini species versicolor"
   ]
  },
  {
   "cell_type": "code",
   "execution_count": null,
   "metadata": {
    "cell_id": "8516d6a3f8a5429f8fdc40818873c224",
    "deepnote_cell_type": "code",
    "deepnote_to_be_reexecuted": false,
    "execution_millis": 343,
    "execution_start": 1711547887727,
    "source_hash": null
   },
   "outputs": [
    {
     "name": "stdout",
     "output_type": "stream",
     "text": [
      "5.947916666666667\n"
     ]
    }
   ],
   "source": [
    "versicolor_df = df_cleaned[df_cleaned['Species'] == 'Iris-versicolor']\n",
    "mean_sepal_length_versicolor = versicolor_df['SepalLengthCm'].mean()\n",
    "print(mean_sepal_length_versicolor)"
   ]
  },
  {
   "cell_type": "markdown",
   "metadata": {
    "cell_id": "0411adc098994bc88b556ebfba915ec6",
    "deepnote_cell_type": "text-cell-p",
    "formattedRanges": []
   },
   "source": [
    "kemudian nilainya dibulatkan"
   ]
  },
  {
   "cell_type": "code",
   "execution_count": null,
   "metadata": {
    "cell_id": "58f31f914c98452d9c5ddfb3e6300548",
    "deepnote_cell_type": "code",
    "deepnote_to_be_reexecuted": false,
    "execution_millis": 342,
    "execution_start": 1711547887728,
    "source_hash": null
   },
   "outputs": [
    {
     "name": "stdout",
     "output_type": "stream",
     "text": [
      "5.9\n"
     ]
    }
   ],
   "source": [
    "mean_sepal_length_versicolor_rounded = round(mean_sepal_length_versicolor, 1)\n",
    "print(mean_sepal_length_versicolor_rounded)"
   ]
  },
  {
   "cell_type": "markdown",
   "metadata": {
    "cell_id": "7639643beabf437c83645e73a51fb19f",
    "deepnote_cell_type": "text-cell-p",
    "formattedRanges": []
   },
   "source": []
  },
  {
   "cell_type": "markdown",
   "metadata": {
    "cell_id": "ad9d935880f24b10afc1ca9f4341b427",
    "deepnote_cell_type": "text-cell-p",
    "formattedRanges": []
   },
   "source": [
    "ini species virginica"
   ]
  },
  {
   "cell_type": "code",
   "execution_count": null,
   "metadata": {
    "cell_id": "05aad0e2b6be497b87aa81e8c7369559",
    "deepnote_cell_type": "code",
    "deepnote_to_be_reexecuted": false,
    "execution_millis": 341,
    "execution_start": 1711547887729,
    "source_hash": null
   },
   "outputs": [
    {
     "name": "stdout",
     "output_type": "stream",
     "text": [
      "6.566666666666666\n"
     ]
    }
   ],
   "source": [
    "virginica_df = df_cleaned[df_cleaned['Species'] == 'Iris-virginica']\n",
    "mean_sepal_length_virginica = virginica_df['SepalLengthCm'].mean()\n",
    "print(mean_sepal_length_virginica)"
   ]
  },
  {
   "cell_type": "markdown",
   "metadata": {
    "cell_id": "352ac58f11964c52be11be6427dcee1c",
    "deepnote_cell_type": "text-cell-p",
    "formattedRanges": []
   },
   "source": [
    "kemudian nilainya dibulatkan"
   ]
  },
  {
   "cell_type": "code",
   "execution_count": null,
   "metadata": {
    "cell_id": "e3f2a3c336b14579aa4e59258231174c",
    "deepnote_cell_type": "code",
    "deepnote_to_be_reexecuted": false,
    "execution_millis": 340,
    "execution_start": 1711547887731,
    "source_hash": null
   },
   "outputs": [
    {
     "name": "stdout",
     "output_type": "stream",
     "text": [
      "6.6\n"
     ]
    }
   ],
   "source": [
    "mean_sepal_length_virginica_rounded = round(mean_sepal_length_virginica, 1)\n",
    "print(mean_sepal_length_virginica_rounded)"
   ]
  },
  {
   "cell_type": "markdown",
   "metadata": {
    "cell_id": "d31cd75f53264506b60924aec58802eb",
    "deepnote_cell_type": "text-cell-p",
    "formattedRanges": []
   },
   "source": []
  },
  {
   "cell_type": "markdown",
   "metadata": {
    "cell_id": "56f1c0048b4340a28f13910565592e2f",
    "deepnote_cell_type": "text-cell-p",
    "formattedRanges": []
   },
   "source": [
    "disini tahap memasukkan nilai yang sudah dicari menggunakan rata rata sesuai speciesnya"
   ]
  },
  {
   "cell_type": "markdown",
   "metadata": {
    "cell_id": "e7aa14ff1a964ce6a50b8d8b2881d171",
    "deepnote_cell_type": "text-cell-p",
    "formattedRanges": []
   },
   "source": [
    "ini yang setosa"
   ]
  },
  {
   "cell_type": "code",
   "execution_count": null,
   "metadata": {
    "cell_id": "d26b426bed38457b840411a286cf406a",
    "deepnote_cell_type": "code",
    "deepnote_table_loading": false,
    "deepnote_table_state": {
     "filters": [],
     "pageIndex": 0,
     "pageSize": 10,
     "sortBy": []
    },
    "deepnote_to_be_reexecuted": false,
    "execution_millis": 337,
    "execution_start": 1711547887734,
    "source_hash": null
   },
   "outputs": [
    {
     "data": {
      "application/vnd.deepnote.dataframe.v3+json": {
       "column_count": 6,
       "columns": [
        {
         "dtype": "int64",
         "name": "id",
         "stats": {
          "histogram": [
           {
            "bin_end": 15.9,
            "bin_start": 1,
            "count": 14
           },
           {
            "bin_end": 30.8,
            "bin_start": 15.9,
            "count": 15
           },
           {
            "bin_end": 45.7,
            "bin_start": 30.8,
            "count": 15
           },
           {
            "bin_end": 60.6,
            "bin_start": 45.7,
            "count": 15
           },
           {
            "bin_end": 75.5,
            "bin_start": 60.6,
            "count": 15
           },
           {
            "bin_end": 90.4,
            "bin_start": 75.5,
            "count": 14
           },
           {
            "bin_end": 105.3,
            "bin_start": 90.4,
            "count": 15
           },
           {
            "bin_end": 120.2,
            "bin_start": 105.3,
            "count": 14
           },
           {
            "bin_end": 135.1,
            "bin_start": 120.2,
            "count": 15
           },
           {
            "bin_end": 150,
            "bin_start": 135.1,
            "count": 15
           }
          ],
          "max": "150",
          "min": "1",
          "nan_count": 0,
          "unique_count": 147
         }
        },
        {
         "dtype": "float64",
         "name": "SepalLengthCm",
         "stats": {
          "histogram": [
           {
            "bin_end": 4.66,
            "bin_start": 4.3,
            "count": 8
           },
           {
            "bin_end": 5.02,
            "bin_start": 4.66,
            "count": 24
           },
           {
            "bin_end": 5.38,
            "bin_start": 5.02,
            "count": 14
           },
           {
            "bin_end": 5.74,
            "bin_start": 5.38,
            "count": 25
           },
           {
            "bin_end": 6.1,
            "bin_start": 5.74,
            "count": 15
           },
           {
            "bin_end": 6.46,
            "bin_start": 6.1,
            "count": 26
           },
           {
            "bin_end": 6.82,
            "bin_start": 6.46,
            "count": 17
           },
           {
            "bin_end": 7.18,
            "bin_start": 6.82,
            "count": 6
           },
           {
            "bin_end": 7.54,
            "bin_start": 7.18,
            "count": 5
           },
           {
            "bin_end": 7.9,
            "bin_start": 7.54,
            "count": 5
           }
          ],
          "max": "7.9",
          "min": "4.3",
          "nan_count": 2,
          "unique_count": 35
         }
        },
        {
         "dtype": "float64",
         "name": "SepalWidthCm",
         "stats": {
          "histogram": [
           {
            "bin_end": 2.24,
            "bin_start": 2,
            "count": 4
           },
           {
            "bin_end": 2.48,
            "bin_start": 2.24,
            "count": 7
           },
           {
            "bin_end": 2.72,
            "bin_start": 2.48,
            "count": 22
           },
           {
            "bin_end": 2.96,
            "bin_start": 2.72,
            "count": 24
           },
           {
            "bin_end": 3.2,
            "bin_start": 2.96,
            "count": 37
           },
           {
            "bin_end": 3.4400000000000004,
            "bin_start": 3.2,
            "count": 30
           },
           {
            "bin_end": 3.6800000000000006,
            "bin_start": 3.4400000000000004,
            "count": 9
           },
           {
            "bin_end": 3.9200000000000004,
            "bin_start": 3.6800000000000006,
            "count": 10
           },
           {
            "bin_end": 4.16,
            "bin_start": 3.9200000000000004,
            "count": 2
           },
           {
            "bin_end": 4.4,
            "bin_start": 4.16,
            "count": 2
           }
          ],
          "max": "4.4",
          "min": "2.0",
          "nan_count": 0,
          "unique_count": 23
         }
        },
        {
         "dtype": "float64",
         "name": "PetalLengthCm",
         "stats": {
          "histogram": [
           {
            "bin_end": 1.59,
            "bin_start": 1,
            "count": 37
           },
           {
            "bin_end": 2.18,
            "bin_start": 1.59,
            "count": 12
           },
           {
            "bin_end": 2.7700000000000005,
            "bin_start": 2.18,
            "count": 0
           },
           {
            "bin_end": 3.3600000000000003,
            "bin_start": 2.7700000000000005,
            "count": 3
           },
           {
            "bin_end": 3.95,
            "bin_start": 3.3600000000000003,
            "count": 8
           },
           {
            "bin_end": 4.540000000000001,
            "bin_start": 3.95,
            "count": 25
           },
           {
            "bin_end": 5.130000000000001,
            "bin_start": 4.540000000000001,
            "count": 28
           },
           {
            "bin_end": 5.720000000000001,
            "bin_start": 5.130000000000001,
            "count": 18
           },
           {
            "bin_end": 6.3100000000000005,
            "bin_start": 5.720000000000001,
            "count": 11
           },
           {
            "bin_end": 6.9,
            "bin_start": 6.3100000000000005,
            "count": 5
           }
          ],
          "max": "6.9",
          "min": "1.0",
          "nan_count": 0,
          "unique_count": 43
         }
        },
        {
         "dtype": "float64",
         "name": "PetalWidthCm",
         "stats": {
          "histogram": [
           {
            "bin_end": 0.33999999999999997,
            "bin_start": 0.1,
            "count": 41
           },
           {
            "bin_end": 0.58,
            "bin_start": 0.33999999999999997,
            "count": 7
           },
           {
            "bin_end": 0.82,
            "bin_start": 0.58,
            "count": 1
           },
           {
            "bin_end": 1.06,
            "bin_start": 0.82,
            "count": 7
           },
           {
            "bin_end": 1.3,
            "bin_start": 1.06,
            "count": 8
           },
           {
            "bin_end": 1.54,
            "bin_start": 1.3,
            "count": 32
           },
           {
            "bin_end": 1.78,
            "bin_start": 1.54,
            "count": 6
           },
           {
            "bin_end": 2.02,
            "bin_start": 1.78,
            "count": 22
           },
           {
            "bin_end": 2.2600000000000002,
            "bin_start": 2.02,
            "count": 9
           },
           {
            "bin_end": 2.5,
            "bin_start": 2.2600000000000002,
            "count": 14
           }
          ],
          "max": "2.5",
          "min": "0.1",
          "nan_count": 0,
          "unique_count": 22
         }
        },
        {
         "dtype": "object",
         "name": "Species",
         "stats": {
          "categories": [
           {
            "count": 49,
            "name": "Iris-setosa"
           },
           {
            "count": 49,
            "name": "Iris-versicolor"
           },
           {
            "count": 49,
            "name": "Iris-virginica"
           }
          ],
          "nan_count": 0,
          "unique_count": 3
         }
        },
        {
         "dtype": "int64",
         "name": "_deepnote_index_column"
        }
       ],
       "row_count": 147,
       "rows": [
        {
         "PetalLengthCm": 1.4,
         "PetalWidthCm": 0.2,
         "SepalLengthCm": 5.1,
         "SepalWidthCm": 3.5,
         "Species": "Iris-setosa",
         "_deepnote_index_column": 0,
         "id": 1
        },
        {
         "PetalLengthCm": 1.4,
         "PetalWidthCm": 0.2,
         "SepalLengthCm": 4.9,
         "SepalWidthCm": 3,
         "Species": "Iris-setosa",
         "_deepnote_index_column": 1,
         "id": 2
        },
        {
         "PetalLengthCm": 1.3,
         "PetalWidthCm": 0.2,
         "SepalLengthCm": 4.7,
         "SepalWidthCm": 3.2,
         "Species": "Iris-setosa",
         "_deepnote_index_column": 2,
         "id": 3
        },
        {
         "PetalLengthCm": 1.5,
         "PetalWidthCm": 0.2,
         "SepalLengthCm": 4.6,
         "SepalWidthCm": 3.1,
         "Species": "Iris-setosa",
         "_deepnote_index_column": 3,
         "id": 4
        },
        {
         "PetalLengthCm": 1.4,
         "PetalWidthCm": 0.2,
         "SepalLengthCm": 5,
         "SepalWidthCm": 3.6,
         "Species": "Iris-setosa",
         "_deepnote_index_column": 4,
         "id": 5
        },
        {
         "PetalLengthCm": 1.4,
         "PetalWidthCm": 0.3,
         "SepalLengthCm": 4.6,
         "SepalWidthCm": 3.4,
         "Species": "Iris-setosa",
         "_deepnote_index_column": 6,
         "id": 7
        },
        {
         "PetalLengthCm": 1.5,
         "PetalWidthCm": 0.2,
         "SepalLengthCm": 5,
         "SepalWidthCm": 3.4,
         "Species": "Iris-setosa",
         "_deepnote_index_column": 7,
         "id": 8
        },
        {
         "PetalLengthCm": 1.4,
         "PetalWidthCm": 0.2,
         "SepalLengthCm": 5,
         "SepalWidthCm": 2.9,
         "Species": "Iris-setosa",
         "_deepnote_index_column": 8,
         "id": 9
        },
        {
         "PetalLengthCm": 1.5,
         "PetalWidthCm": 0.1,
         "SepalLengthCm": 4.9,
         "SepalWidthCm": 3.1,
         "Species": "Iris-setosa",
         "_deepnote_index_column": 9,
         "id": 10
        },
        {
         "PetalLengthCm": 1.5,
         "PetalWidthCm": 0.2,
         "SepalLengthCm": 5.4,
         "SepalWidthCm": 3.7,
         "Species": "Iris-setosa",
         "_deepnote_index_column": 10,
         "id": 11
        }
       ]
      },
      "text/html": [
       "<div>\n",
       "<style scoped>\n",
       "    .dataframe tbody tr th:only-of-type {\n",
       "        vertical-align: middle;\n",
       "    }\n",
       "\n",
       "    .dataframe tbody tr th {\n",
       "        vertical-align: top;\n",
       "    }\n",
       "\n",
       "    .dataframe thead th {\n",
       "        text-align: right;\n",
       "    }\n",
       "</style>\n",
       "<table border=\"1\" class=\"dataframe\">\n",
       "  <thead>\n",
       "    <tr style=\"text-align: right;\">\n",
       "      <th></th>\n",
       "      <th>id</th>\n",
       "      <th>SepalLengthCm</th>\n",
       "      <th>SepalWidthCm</th>\n",
       "      <th>PetalLengthCm</th>\n",
       "      <th>PetalWidthCm</th>\n",
       "      <th>Species</th>\n",
       "    </tr>\n",
       "  </thead>\n",
       "  <tbody>\n",
       "    <tr>\n",
       "      <th>0</th>\n",
       "      <td>1</td>\n",
       "      <td>5.1</td>\n",
       "      <td>3.5</td>\n",
       "      <td>1.4</td>\n",
       "      <td>0.2</td>\n",
       "      <td>Iris-setosa</td>\n",
       "    </tr>\n",
       "    <tr>\n",
       "      <th>1</th>\n",
       "      <td>2</td>\n",
       "      <td>4.9</td>\n",
       "      <td>3.0</td>\n",
       "      <td>1.4</td>\n",
       "      <td>0.2</td>\n",
       "      <td>Iris-setosa</td>\n",
       "    </tr>\n",
       "    <tr>\n",
       "      <th>2</th>\n",
       "      <td>3</td>\n",
       "      <td>4.7</td>\n",
       "      <td>3.2</td>\n",
       "      <td>1.3</td>\n",
       "      <td>0.2</td>\n",
       "      <td>Iris-setosa</td>\n",
       "    </tr>\n",
       "    <tr>\n",
       "      <th>3</th>\n",
       "      <td>4</td>\n",
       "      <td>4.6</td>\n",
       "      <td>3.1</td>\n",
       "      <td>1.5</td>\n",
       "      <td>0.2</td>\n",
       "      <td>Iris-setosa</td>\n",
       "    </tr>\n",
       "    <tr>\n",
       "      <th>4</th>\n",
       "      <td>5</td>\n",
       "      <td>5.0</td>\n",
       "      <td>3.6</td>\n",
       "      <td>1.4</td>\n",
       "      <td>0.2</td>\n",
       "      <td>Iris-setosa</td>\n",
       "    </tr>\n",
       "    <tr>\n",
       "      <th>...</th>\n",
       "      <td>...</td>\n",
       "      <td>...</td>\n",
       "      <td>...</td>\n",
       "      <td>...</td>\n",
       "      <td>...</td>\n",
       "      <td>...</td>\n",
       "    </tr>\n",
       "    <tr>\n",
       "      <th>144</th>\n",
       "      <td>146</td>\n",
       "      <td>6.7</td>\n",
       "      <td>3.0</td>\n",
       "      <td>5.2</td>\n",
       "      <td>2.3</td>\n",
       "      <td>Iris-virginica</td>\n",
       "    </tr>\n",
       "    <tr>\n",
       "      <th>145</th>\n",
       "      <td>147</td>\n",
       "      <td>6.3</td>\n",
       "      <td>2.5</td>\n",
       "      <td>5.0</td>\n",
       "      <td>1.9</td>\n",
       "      <td>Iris-virginica</td>\n",
       "    </tr>\n",
       "    <tr>\n",
       "      <th>146</th>\n",
       "      <td>148</td>\n",
       "      <td>6.5</td>\n",
       "      <td>3.0</td>\n",
       "      <td>5.2</td>\n",
       "      <td>2.0</td>\n",
       "      <td>Iris-virginica</td>\n",
       "    </tr>\n",
       "    <tr>\n",
       "      <th>147</th>\n",
       "      <td>149</td>\n",
       "      <td>6.2</td>\n",
       "      <td>3.4</td>\n",
       "      <td>5.4</td>\n",
       "      <td>2.3</td>\n",
       "      <td>Iris-virginica</td>\n",
       "    </tr>\n",
       "    <tr>\n",
       "      <th>148</th>\n",
       "      <td>150</td>\n",
       "      <td>5.9</td>\n",
       "      <td>3.0</td>\n",
       "      <td>5.1</td>\n",
       "      <td>1.8</td>\n",
       "      <td>Iris-virginica</td>\n",
       "    </tr>\n",
       "  </tbody>\n",
       "</table>\n",
       "<p>147 rows × 6 columns</p>\n",
       "</div>"
      ],
      "text/plain": [
       "      id  SepalLengthCm  SepalWidthCm  PetalLengthCm  PetalWidthCm  \\\n",
       "0      1            5.1           3.5            1.4           0.2   \n",
       "1      2            4.9           3.0            1.4           0.2   \n",
       "2      3            4.7           3.2            1.3           0.2   \n",
       "3      4            4.6           3.1            1.5           0.2   \n",
       "4      5            5.0           3.6            1.4           0.2   \n",
       "..   ...            ...           ...            ...           ...   \n",
       "144  146            6.7           3.0            5.2           2.3   \n",
       "145  147            6.3           2.5            5.0           1.9   \n",
       "146  148            6.5           3.0            5.2           2.0   \n",
       "147  149            6.2           3.4            5.4           2.3   \n",
       "148  150            5.9           3.0            5.1           1.8   \n",
       "\n",
       "            Species  \n",
       "0       Iris-setosa  \n",
       "1       Iris-setosa  \n",
       "2       Iris-setosa  \n",
       "3       Iris-setosa  \n",
       "4       Iris-setosa  \n",
       "..              ...  \n",
       "144  Iris-virginica  \n",
       "145  Iris-virginica  \n",
       "146  Iris-virginica  \n",
       "147  Iris-virginica  \n",
       "148  Iris-virginica  \n",
       "\n",
       "[147 rows x 6 columns]"
      ]
     },
     "execution_count": 17,
     "metadata": {},
     "output_type": "execute_result"
    }
   ],
   "source": [
    "df_cleaned.loc[(df_cleaned['Species'] == 'Iris-setosa') & (df_cleaned['SepalLengthCm'].isnull()), 'SepalLengthCm'] = mean_sepal_length_setosa_rounded\n",
    "df_cleaned\n",
    "\n"
   ]
  },
  {
   "cell_type": "markdown",
   "metadata": {
    "cell_id": "6b4fc7c9becf4f98948c17e1a12a44ed",
    "deepnote_cell_type": "text-cell-p",
    "formattedRanges": []
   },
   "source": []
  },
  {
   "cell_type": "markdown",
   "metadata": {
    "cell_id": "e3e4a16efdcc48e39d8675f2eba6412b",
    "deepnote_cell_type": "text-cell-p",
    "formattedRanges": []
   },
   "source": [
    "ini versicolor"
   ]
  },
  {
   "cell_type": "code",
   "execution_count": null,
   "metadata": {
    "cell_id": "b2d77ff9991042358e855aaaa192a0cb",
    "deepnote_cell_type": "code",
    "deepnote_table_loading": false,
    "deepnote_table_state": {
     "filters": [],
     "pageIndex": 0,
     "pageSize": 10,
     "sortBy": []
    },
    "deepnote_to_be_reexecuted": false,
    "execution_millis": 313,
    "execution_start": 1711547887759,
    "source_hash": null
   },
   "outputs": [
    {
     "data": {
      "application/vnd.deepnote.dataframe.v3+json": {
       "column_count": 6,
       "columns": [
        {
         "dtype": "int64",
         "name": "id",
         "stats": {
          "histogram": [
           {
            "bin_end": 15.9,
            "bin_start": 1,
            "count": 14
           },
           {
            "bin_end": 30.8,
            "bin_start": 15.9,
            "count": 15
           },
           {
            "bin_end": 45.7,
            "bin_start": 30.8,
            "count": 15
           },
           {
            "bin_end": 60.6,
            "bin_start": 45.7,
            "count": 15
           },
           {
            "bin_end": 75.5,
            "bin_start": 60.6,
            "count": 15
           },
           {
            "bin_end": 90.4,
            "bin_start": 75.5,
            "count": 14
           },
           {
            "bin_end": 105.3,
            "bin_start": 90.4,
            "count": 15
           },
           {
            "bin_end": 120.2,
            "bin_start": 105.3,
            "count": 14
           },
           {
            "bin_end": 135.1,
            "bin_start": 120.2,
            "count": 15
           },
           {
            "bin_end": 150,
            "bin_start": 135.1,
            "count": 15
           }
          ],
          "max": "150",
          "min": "1",
          "nan_count": 0,
          "unique_count": 147
         }
        },
        {
         "dtype": "float64",
         "name": "SepalLengthCm",
         "stats": {
          "histogram": [
           {
            "bin_end": 4.66,
            "bin_start": 4.3,
            "count": 8
           },
           {
            "bin_end": 5.02,
            "bin_start": 4.66,
            "count": 24
           },
           {
            "bin_end": 5.38,
            "bin_start": 5.02,
            "count": 14
           },
           {
            "bin_end": 5.74,
            "bin_start": 5.38,
            "count": 25
           },
           {
            "bin_end": 6.1,
            "bin_start": 5.74,
            "count": 16
           },
           {
            "bin_end": 6.46,
            "bin_start": 6.1,
            "count": 26
           },
           {
            "bin_end": 6.82,
            "bin_start": 6.46,
            "count": 17
           },
           {
            "bin_end": 7.18,
            "bin_start": 6.82,
            "count": 6
           },
           {
            "bin_end": 7.54,
            "bin_start": 7.18,
            "count": 5
           },
           {
            "bin_end": 7.9,
            "bin_start": 7.54,
            "count": 5
           }
          ],
          "max": "7.9",
          "min": "4.3",
          "nan_count": 1,
          "unique_count": 35
         }
        },
        {
         "dtype": "float64",
         "name": "SepalWidthCm",
         "stats": {
          "histogram": [
           {
            "bin_end": 2.24,
            "bin_start": 2,
            "count": 4
           },
           {
            "bin_end": 2.48,
            "bin_start": 2.24,
            "count": 7
           },
           {
            "bin_end": 2.72,
            "bin_start": 2.48,
            "count": 22
           },
           {
            "bin_end": 2.96,
            "bin_start": 2.72,
            "count": 24
           },
           {
            "bin_end": 3.2,
            "bin_start": 2.96,
            "count": 37
           },
           {
            "bin_end": 3.4400000000000004,
            "bin_start": 3.2,
            "count": 30
           },
           {
            "bin_end": 3.6800000000000006,
            "bin_start": 3.4400000000000004,
            "count": 9
           },
           {
            "bin_end": 3.9200000000000004,
            "bin_start": 3.6800000000000006,
            "count": 10
           },
           {
            "bin_end": 4.16,
            "bin_start": 3.9200000000000004,
            "count": 2
           },
           {
            "bin_end": 4.4,
            "bin_start": 4.16,
            "count": 2
           }
          ],
          "max": "4.4",
          "min": "2.0",
          "nan_count": 0,
          "unique_count": 23
         }
        },
        {
         "dtype": "float64",
         "name": "PetalLengthCm",
         "stats": {
          "histogram": [
           {
            "bin_end": 1.59,
            "bin_start": 1,
            "count": 37
           },
           {
            "bin_end": 2.18,
            "bin_start": 1.59,
            "count": 12
           },
           {
            "bin_end": 2.7700000000000005,
            "bin_start": 2.18,
            "count": 0
           },
           {
            "bin_end": 3.3600000000000003,
            "bin_start": 2.7700000000000005,
            "count": 3
           },
           {
            "bin_end": 3.95,
            "bin_start": 3.3600000000000003,
            "count": 8
           },
           {
            "bin_end": 4.540000000000001,
            "bin_start": 3.95,
            "count": 25
           },
           {
            "bin_end": 5.130000000000001,
            "bin_start": 4.540000000000001,
            "count": 28
           },
           {
            "bin_end": 5.720000000000001,
            "bin_start": 5.130000000000001,
            "count": 18
           },
           {
            "bin_end": 6.3100000000000005,
            "bin_start": 5.720000000000001,
            "count": 11
           },
           {
            "bin_end": 6.9,
            "bin_start": 6.3100000000000005,
            "count": 5
           }
          ],
          "max": "6.9",
          "min": "1.0",
          "nan_count": 0,
          "unique_count": 43
         }
        },
        {
         "dtype": "float64",
         "name": "PetalWidthCm",
         "stats": {
          "histogram": [
           {
            "bin_end": 0.33999999999999997,
            "bin_start": 0.1,
            "count": 41
           },
           {
            "bin_end": 0.58,
            "bin_start": 0.33999999999999997,
            "count": 7
           },
           {
            "bin_end": 0.82,
            "bin_start": 0.58,
            "count": 1
           },
           {
            "bin_end": 1.06,
            "bin_start": 0.82,
            "count": 7
           },
           {
            "bin_end": 1.3,
            "bin_start": 1.06,
            "count": 8
           },
           {
            "bin_end": 1.54,
            "bin_start": 1.3,
            "count": 32
           },
           {
            "bin_end": 1.78,
            "bin_start": 1.54,
            "count": 6
           },
           {
            "bin_end": 2.02,
            "bin_start": 1.78,
            "count": 22
           },
           {
            "bin_end": 2.2600000000000002,
            "bin_start": 2.02,
            "count": 9
           },
           {
            "bin_end": 2.5,
            "bin_start": 2.2600000000000002,
            "count": 14
           }
          ],
          "max": "2.5",
          "min": "0.1",
          "nan_count": 0,
          "unique_count": 22
         }
        },
        {
         "dtype": "object",
         "name": "Species",
         "stats": {
          "categories": [
           {
            "count": 49,
            "name": "Iris-setosa"
           },
           {
            "count": 49,
            "name": "Iris-versicolor"
           },
           {
            "count": 49,
            "name": "Iris-virginica"
           }
          ],
          "nan_count": 0,
          "unique_count": 3
         }
        },
        {
         "dtype": "int64",
         "name": "_deepnote_index_column"
        }
       ],
       "row_count": 147,
       "rows": [
        {
         "PetalLengthCm": 1.4,
         "PetalWidthCm": 0.2,
         "SepalLengthCm": 5.1,
         "SepalWidthCm": 3.5,
         "Species": "Iris-setosa",
         "_deepnote_index_column": 0,
         "id": 1
        },
        {
         "PetalLengthCm": 1.4,
         "PetalWidthCm": 0.2,
         "SepalLengthCm": 4.9,
         "SepalWidthCm": 3,
         "Species": "Iris-setosa",
         "_deepnote_index_column": 1,
         "id": 2
        },
        {
         "PetalLengthCm": 1.3,
         "PetalWidthCm": 0.2,
         "SepalLengthCm": 4.7,
         "SepalWidthCm": 3.2,
         "Species": "Iris-setosa",
         "_deepnote_index_column": 2,
         "id": 3
        },
        {
         "PetalLengthCm": 1.5,
         "PetalWidthCm": 0.2,
         "SepalLengthCm": 4.6,
         "SepalWidthCm": 3.1,
         "Species": "Iris-setosa",
         "_deepnote_index_column": 3,
         "id": 4
        },
        {
         "PetalLengthCm": 1.4,
         "PetalWidthCm": 0.2,
         "SepalLengthCm": 5,
         "SepalWidthCm": 3.6,
         "Species": "Iris-setosa",
         "_deepnote_index_column": 4,
         "id": 5
        },
        {
         "PetalLengthCm": 1.4,
         "PetalWidthCm": 0.3,
         "SepalLengthCm": 4.6,
         "SepalWidthCm": 3.4,
         "Species": "Iris-setosa",
         "_deepnote_index_column": 6,
         "id": 7
        },
        {
         "PetalLengthCm": 1.5,
         "PetalWidthCm": 0.2,
         "SepalLengthCm": 5,
         "SepalWidthCm": 3.4,
         "Species": "Iris-setosa",
         "_deepnote_index_column": 7,
         "id": 8
        },
        {
         "PetalLengthCm": 1.4,
         "PetalWidthCm": 0.2,
         "SepalLengthCm": 5,
         "SepalWidthCm": 2.9,
         "Species": "Iris-setosa",
         "_deepnote_index_column": 8,
         "id": 9
        },
        {
         "PetalLengthCm": 1.5,
         "PetalWidthCm": 0.1,
         "SepalLengthCm": 4.9,
         "SepalWidthCm": 3.1,
         "Species": "Iris-setosa",
         "_deepnote_index_column": 9,
         "id": 10
        },
        {
         "PetalLengthCm": 1.5,
         "PetalWidthCm": 0.2,
         "SepalLengthCm": 5.4,
         "SepalWidthCm": 3.7,
         "Species": "Iris-setosa",
         "_deepnote_index_column": 10,
         "id": 11
        }
       ]
      },
      "text/html": [
       "<div>\n",
       "<style scoped>\n",
       "    .dataframe tbody tr th:only-of-type {\n",
       "        vertical-align: middle;\n",
       "    }\n",
       "\n",
       "    .dataframe tbody tr th {\n",
       "        vertical-align: top;\n",
       "    }\n",
       "\n",
       "    .dataframe thead th {\n",
       "        text-align: right;\n",
       "    }\n",
       "</style>\n",
       "<table border=\"1\" class=\"dataframe\">\n",
       "  <thead>\n",
       "    <tr style=\"text-align: right;\">\n",
       "      <th></th>\n",
       "      <th>id</th>\n",
       "      <th>SepalLengthCm</th>\n",
       "      <th>SepalWidthCm</th>\n",
       "      <th>PetalLengthCm</th>\n",
       "      <th>PetalWidthCm</th>\n",
       "      <th>Species</th>\n",
       "    </tr>\n",
       "  </thead>\n",
       "  <tbody>\n",
       "    <tr>\n",
       "      <th>0</th>\n",
       "      <td>1</td>\n",
       "      <td>5.1</td>\n",
       "      <td>3.5</td>\n",
       "      <td>1.4</td>\n",
       "      <td>0.2</td>\n",
       "      <td>Iris-setosa</td>\n",
       "    </tr>\n",
       "    <tr>\n",
       "      <th>1</th>\n",
       "      <td>2</td>\n",
       "      <td>4.9</td>\n",
       "      <td>3.0</td>\n",
       "      <td>1.4</td>\n",
       "      <td>0.2</td>\n",
       "      <td>Iris-setosa</td>\n",
       "    </tr>\n",
       "    <tr>\n",
       "      <th>2</th>\n",
       "      <td>3</td>\n",
       "      <td>4.7</td>\n",
       "      <td>3.2</td>\n",
       "      <td>1.3</td>\n",
       "      <td>0.2</td>\n",
       "      <td>Iris-setosa</td>\n",
       "    </tr>\n",
       "    <tr>\n",
       "      <th>3</th>\n",
       "      <td>4</td>\n",
       "      <td>4.6</td>\n",
       "      <td>3.1</td>\n",
       "      <td>1.5</td>\n",
       "      <td>0.2</td>\n",
       "      <td>Iris-setosa</td>\n",
       "    </tr>\n",
       "    <tr>\n",
       "      <th>4</th>\n",
       "      <td>5</td>\n",
       "      <td>5.0</td>\n",
       "      <td>3.6</td>\n",
       "      <td>1.4</td>\n",
       "      <td>0.2</td>\n",
       "      <td>Iris-setosa</td>\n",
       "    </tr>\n",
       "    <tr>\n",
       "      <th>...</th>\n",
       "      <td>...</td>\n",
       "      <td>...</td>\n",
       "      <td>...</td>\n",
       "      <td>...</td>\n",
       "      <td>...</td>\n",
       "      <td>...</td>\n",
       "    </tr>\n",
       "    <tr>\n",
       "      <th>144</th>\n",
       "      <td>146</td>\n",
       "      <td>6.7</td>\n",
       "      <td>3.0</td>\n",
       "      <td>5.2</td>\n",
       "      <td>2.3</td>\n",
       "      <td>Iris-virginica</td>\n",
       "    </tr>\n",
       "    <tr>\n",
       "      <th>145</th>\n",
       "      <td>147</td>\n",
       "      <td>6.3</td>\n",
       "      <td>2.5</td>\n",
       "      <td>5.0</td>\n",
       "      <td>1.9</td>\n",
       "      <td>Iris-virginica</td>\n",
       "    </tr>\n",
       "    <tr>\n",
       "      <th>146</th>\n",
       "      <td>148</td>\n",
       "      <td>6.5</td>\n",
       "      <td>3.0</td>\n",
       "      <td>5.2</td>\n",
       "      <td>2.0</td>\n",
       "      <td>Iris-virginica</td>\n",
       "    </tr>\n",
       "    <tr>\n",
       "      <th>147</th>\n",
       "      <td>149</td>\n",
       "      <td>6.2</td>\n",
       "      <td>3.4</td>\n",
       "      <td>5.4</td>\n",
       "      <td>2.3</td>\n",
       "      <td>Iris-virginica</td>\n",
       "    </tr>\n",
       "    <tr>\n",
       "      <th>148</th>\n",
       "      <td>150</td>\n",
       "      <td>5.9</td>\n",
       "      <td>3.0</td>\n",
       "      <td>5.1</td>\n",
       "      <td>1.8</td>\n",
       "      <td>Iris-virginica</td>\n",
       "    </tr>\n",
       "  </tbody>\n",
       "</table>\n",
       "<p>147 rows × 6 columns</p>\n",
       "</div>"
      ],
      "text/plain": [
       "      id  SepalLengthCm  SepalWidthCm  PetalLengthCm  PetalWidthCm  \\\n",
       "0      1            5.1           3.5            1.4           0.2   \n",
       "1      2            4.9           3.0            1.4           0.2   \n",
       "2      3            4.7           3.2            1.3           0.2   \n",
       "3      4            4.6           3.1            1.5           0.2   \n",
       "4      5            5.0           3.6            1.4           0.2   \n",
       "..   ...            ...           ...            ...           ...   \n",
       "144  146            6.7           3.0            5.2           2.3   \n",
       "145  147            6.3           2.5            5.0           1.9   \n",
       "146  148            6.5           3.0            5.2           2.0   \n",
       "147  149            6.2           3.4            5.4           2.3   \n",
       "148  150            5.9           3.0            5.1           1.8   \n",
       "\n",
       "            Species  \n",
       "0       Iris-setosa  \n",
       "1       Iris-setosa  \n",
       "2       Iris-setosa  \n",
       "3       Iris-setosa  \n",
       "4       Iris-setosa  \n",
       "..              ...  \n",
       "144  Iris-virginica  \n",
       "145  Iris-virginica  \n",
       "146  Iris-virginica  \n",
       "147  Iris-virginica  \n",
       "148  Iris-virginica  \n",
       "\n",
       "[147 rows x 6 columns]"
      ]
     },
     "execution_count": 18,
     "metadata": {},
     "output_type": "execute_result"
    }
   ],
   "source": [
    "df_cleaned.loc[(df_cleaned['Species'] == 'Iris-versicolor') & (df_cleaned['SepalLengthCm'].isnull()), 'SepalLengthCm'] = mean_sepal_length_versicolor_rounded\n",
    "df_cleaned"
   ]
  },
  {
   "cell_type": "markdown",
   "metadata": {
    "cell_id": "46598db0b3044e36837048498f2a4381",
    "deepnote_cell_type": "text-cell-p",
    "formattedRanges": []
   },
   "source": []
  },
  {
   "cell_type": "markdown",
   "metadata": {
    "cell_id": "d528b74eaee34aedac47eb141a831dc5",
    "deepnote_cell_type": "text-cell-p",
    "formattedRanges": []
   },
   "source": [
    "ini virginica"
   ]
  },
  {
   "cell_type": "code",
   "execution_count": null,
   "metadata": {
    "cell_id": "ed175a8c8c90478f91e17d2e9e026a84",
    "deepnote_cell_type": "code",
    "deepnote_table_loading": false,
    "deepnote_table_state": {
     "filters": [],
     "pageIndex": 0,
     "pageSize": 10,
     "sortBy": []
    },
    "deepnote_to_be_reexecuted": false,
    "execution_millis": 672,
    "execution_start": 1711547887821,
    "source_hash": null
   },
   "outputs": [
    {
     "data": {
      "application/vnd.deepnote.dataframe.v3+json": {
       "column_count": 6,
       "columns": [
        {
         "dtype": "int64",
         "name": "id",
         "stats": {
          "histogram": [
           {
            "bin_end": 15.9,
            "bin_start": 1,
            "count": 14
           },
           {
            "bin_end": 30.8,
            "bin_start": 15.9,
            "count": 15
           },
           {
            "bin_end": 45.7,
            "bin_start": 30.8,
            "count": 15
           },
           {
            "bin_end": 60.6,
            "bin_start": 45.7,
            "count": 15
           },
           {
            "bin_end": 75.5,
            "bin_start": 60.6,
            "count": 15
           },
           {
            "bin_end": 90.4,
            "bin_start": 75.5,
            "count": 14
           },
           {
            "bin_end": 105.3,
            "bin_start": 90.4,
            "count": 15
           },
           {
            "bin_end": 120.2,
            "bin_start": 105.3,
            "count": 14
           },
           {
            "bin_end": 135.1,
            "bin_start": 120.2,
            "count": 15
           },
           {
            "bin_end": 150,
            "bin_start": 135.1,
            "count": 15
           }
          ],
          "max": "150",
          "min": "1",
          "nan_count": 0,
          "unique_count": 147
         }
        },
        {
         "dtype": "float64",
         "name": "SepalLengthCm",
         "stats": {
          "histogram": [
           {
            "bin_end": 4.66,
            "bin_start": 4.3,
            "count": 8
           },
           {
            "bin_end": 5.02,
            "bin_start": 4.66,
            "count": 24
           },
           {
            "bin_end": 5.38,
            "bin_start": 5.02,
            "count": 14
           },
           {
            "bin_end": 5.74,
            "bin_start": 5.38,
            "count": 25
           },
           {
            "bin_end": 6.1,
            "bin_start": 5.74,
            "count": 16
           },
           {
            "bin_end": 6.46,
            "bin_start": 6.1,
            "count": 26
           },
           {
            "bin_end": 6.82,
            "bin_start": 6.46,
            "count": 18
           },
           {
            "bin_end": 7.18,
            "bin_start": 6.82,
            "count": 6
           },
           {
            "bin_end": 7.54,
            "bin_start": 7.18,
            "count": 5
           },
           {
            "bin_end": 7.9,
            "bin_start": 7.54,
            "count": 5
           }
          ],
          "max": "7.9",
          "min": "4.3",
          "nan_count": 0,
          "unique_count": 35
         }
        },
        {
         "dtype": "float64",
         "name": "SepalWidthCm",
         "stats": {
          "histogram": [
           {
            "bin_end": 2.24,
            "bin_start": 2,
            "count": 4
           },
           {
            "bin_end": 2.48,
            "bin_start": 2.24,
            "count": 7
           },
           {
            "bin_end": 2.72,
            "bin_start": 2.48,
            "count": 22
           },
           {
            "bin_end": 2.96,
            "bin_start": 2.72,
            "count": 24
           },
           {
            "bin_end": 3.2,
            "bin_start": 2.96,
            "count": 37
           },
           {
            "bin_end": 3.4400000000000004,
            "bin_start": 3.2,
            "count": 30
           },
           {
            "bin_end": 3.6800000000000006,
            "bin_start": 3.4400000000000004,
            "count": 9
           },
           {
            "bin_end": 3.9200000000000004,
            "bin_start": 3.6800000000000006,
            "count": 10
           },
           {
            "bin_end": 4.16,
            "bin_start": 3.9200000000000004,
            "count": 2
           },
           {
            "bin_end": 4.4,
            "bin_start": 4.16,
            "count": 2
           }
          ],
          "max": "4.4",
          "min": "2.0",
          "nan_count": 0,
          "unique_count": 23
         }
        },
        {
         "dtype": "float64",
         "name": "PetalLengthCm",
         "stats": {
          "histogram": [
           {
            "bin_end": 1.59,
            "bin_start": 1,
            "count": 37
           },
           {
            "bin_end": 2.18,
            "bin_start": 1.59,
            "count": 12
           },
           {
            "bin_end": 2.7700000000000005,
            "bin_start": 2.18,
            "count": 0
           },
           {
            "bin_end": 3.3600000000000003,
            "bin_start": 2.7700000000000005,
            "count": 3
           },
           {
            "bin_end": 3.95,
            "bin_start": 3.3600000000000003,
            "count": 8
           },
           {
            "bin_end": 4.540000000000001,
            "bin_start": 3.95,
            "count": 25
           },
           {
            "bin_end": 5.130000000000001,
            "bin_start": 4.540000000000001,
            "count": 28
           },
           {
            "bin_end": 5.720000000000001,
            "bin_start": 5.130000000000001,
            "count": 18
           },
           {
            "bin_end": 6.3100000000000005,
            "bin_start": 5.720000000000001,
            "count": 11
           },
           {
            "bin_end": 6.9,
            "bin_start": 6.3100000000000005,
            "count": 5
           }
          ],
          "max": "6.9",
          "min": "1.0",
          "nan_count": 0,
          "unique_count": 43
         }
        },
        {
         "dtype": "float64",
         "name": "PetalWidthCm",
         "stats": {
          "histogram": [
           {
            "bin_end": 0.33999999999999997,
            "bin_start": 0.1,
            "count": 41
           },
           {
            "bin_end": 0.58,
            "bin_start": 0.33999999999999997,
            "count": 7
           },
           {
            "bin_end": 0.82,
            "bin_start": 0.58,
            "count": 1
           },
           {
            "bin_end": 1.06,
            "bin_start": 0.82,
            "count": 7
           },
           {
            "bin_end": 1.3,
            "bin_start": 1.06,
            "count": 8
           },
           {
            "bin_end": 1.54,
            "bin_start": 1.3,
            "count": 32
           },
           {
            "bin_end": 1.78,
            "bin_start": 1.54,
            "count": 6
           },
           {
            "bin_end": 2.02,
            "bin_start": 1.78,
            "count": 22
           },
           {
            "bin_end": 2.2600000000000002,
            "bin_start": 2.02,
            "count": 9
           },
           {
            "bin_end": 2.5,
            "bin_start": 2.2600000000000002,
            "count": 14
           }
          ],
          "max": "2.5",
          "min": "0.1",
          "nan_count": 0,
          "unique_count": 22
         }
        },
        {
         "dtype": "object",
         "name": "Species",
         "stats": {
          "categories": [
           {
            "count": 49,
            "name": "Iris-setosa"
           },
           {
            "count": 49,
            "name": "Iris-versicolor"
           },
           {
            "count": 49,
            "name": "Iris-virginica"
           }
          ],
          "nan_count": 0,
          "unique_count": 3
         }
        },
        {
         "dtype": "int64",
         "name": "_deepnote_index_column"
        }
       ],
       "row_count": 147,
       "rows": [
        {
         "PetalLengthCm": 1.4,
         "PetalWidthCm": 0.2,
         "SepalLengthCm": 5.1,
         "SepalWidthCm": 3.5,
         "Species": "Iris-setosa",
         "_deepnote_index_column": 0,
         "id": 1
        },
        {
         "PetalLengthCm": 1.4,
         "PetalWidthCm": 0.2,
         "SepalLengthCm": 4.9,
         "SepalWidthCm": 3,
         "Species": "Iris-setosa",
         "_deepnote_index_column": 1,
         "id": 2
        },
        {
         "PetalLengthCm": 1.3,
         "PetalWidthCm": 0.2,
         "SepalLengthCm": 4.7,
         "SepalWidthCm": 3.2,
         "Species": "Iris-setosa",
         "_deepnote_index_column": 2,
         "id": 3
        },
        {
         "PetalLengthCm": 1.5,
         "PetalWidthCm": 0.2,
         "SepalLengthCm": 4.6,
         "SepalWidthCm": 3.1,
         "Species": "Iris-setosa",
         "_deepnote_index_column": 3,
         "id": 4
        },
        {
         "PetalLengthCm": 1.4,
         "PetalWidthCm": 0.2,
         "SepalLengthCm": 5,
         "SepalWidthCm": 3.6,
         "Species": "Iris-setosa",
         "_deepnote_index_column": 4,
         "id": 5
        },
        {
         "PetalLengthCm": 1.4,
         "PetalWidthCm": 0.3,
         "SepalLengthCm": 4.6,
         "SepalWidthCm": 3.4,
         "Species": "Iris-setosa",
         "_deepnote_index_column": 6,
         "id": 7
        },
        {
         "PetalLengthCm": 1.5,
         "PetalWidthCm": 0.2,
         "SepalLengthCm": 5,
         "SepalWidthCm": 3.4,
         "Species": "Iris-setosa",
         "_deepnote_index_column": 7,
         "id": 8
        },
        {
         "PetalLengthCm": 1.4,
         "PetalWidthCm": 0.2,
         "SepalLengthCm": 5,
         "SepalWidthCm": 2.9,
         "Species": "Iris-setosa",
         "_deepnote_index_column": 8,
         "id": 9
        },
        {
         "PetalLengthCm": 1.5,
         "PetalWidthCm": 0.1,
         "SepalLengthCm": 4.9,
         "SepalWidthCm": 3.1,
         "Species": "Iris-setosa",
         "_deepnote_index_column": 9,
         "id": 10
        },
        {
         "PetalLengthCm": 1.5,
         "PetalWidthCm": 0.2,
         "SepalLengthCm": 5.4,
         "SepalWidthCm": 3.7,
         "Species": "Iris-setosa",
         "_deepnote_index_column": 10,
         "id": 11
        }
       ]
      },
      "text/html": [
       "<div>\n",
       "<style scoped>\n",
       "    .dataframe tbody tr th:only-of-type {\n",
       "        vertical-align: middle;\n",
       "    }\n",
       "\n",
       "    .dataframe tbody tr th {\n",
       "        vertical-align: top;\n",
       "    }\n",
       "\n",
       "    .dataframe thead th {\n",
       "        text-align: right;\n",
       "    }\n",
       "</style>\n",
       "<table border=\"1\" class=\"dataframe\">\n",
       "  <thead>\n",
       "    <tr style=\"text-align: right;\">\n",
       "      <th></th>\n",
       "      <th>id</th>\n",
       "      <th>SepalLengthCm</th>\n",
       "      <th>SepalWidthCm</th>\n",
       "      <th>PetalLengthCm</th>\n",
       "      <th>PetalWidthCm</th>\n",
       "      <th>Species</th>\n",
       "    </tr>\n",
       "  </thead>\n",
       "  <tbody>\n",
       "    <tr>\n",
       "      <th>0</th>\n",
       "      <td>1</td>\n",
       "      <td>5.1</td>\n",
       "      <td>3.5</td>\n",
       "      <td>1.4</td>\n",
       "      <td>0.2</td>\n",
       "      <td>Iris-setosa</td>\n",
       "    </tr>\n",
       "    <tr>\n",
       "      <th>1</th>\n",
       "      <td>2</td>\n",
       "      <td>4.9</td>\n",
       "      <td>3.0</td>\n",
       "      <td>1.4</td>\n",
       "      <td>0.2</td>\n",
       "      <td>Iris-setosa</td>\n",
       "    </tr>\n",
       "    <tr>\n",
       "      <th>2</th>\n",
       "      <td>3</td>\n",
       "      <td>4.7</td>\n",
       "      <td>3.2</td>\n",
       "      <td>1.3</td>\n",
       "      <td>0.2</td>\n",
       "      <td>Iris-setosa</td>\n",
       "    </tr>\n",
       "    <tr>\n",
       "      <th>3</th>\n",
       "      <td>4</td>\n",
       "      <td>4.6</td>\n",
       "      <td>3.1</td>\n",
       "      <td>1.5</td>\n",
       "      <td>0.2</td>\n",
       "      <td>Iris-setosa</td>\n",
       "    </tr>\n",
       "    <tr>\n",
       "      <th>4</th>\n",
       "      <td>5</td>\n",
       "      <td>5.0</td>\n",
       "      <td>3.6</td>\n",
       "      <td>1.4</td>\n",
       "      <td>0.2</td>\n",
       "      <td>Iris-setosa</td>\n",
       "    </tr>\n",
       "    <tr>\n",
       "      <th>...</th>\n",
       "      <td>...</td>\n",
       "      <td>...</td>\n",
       "      <td>...</td>\n",
       "      <td>...</td>\n",
       "      <td>...</td>\n",
       "      <td>...</td>\n",
       "    </tr>\n",
       "    <tr>\n",
       "      <th>144</th>\n",
       "      <td>146</td>\n",
       "      <td>6.7</td>\n",
       "      <td>3.0</td>\n",
       "      <td>5.2</td>\n",
       "      <td>2.3</td>\n",
       "      <td>Iris-virginica</td>\n",
       "    </tr>\n",
       "    <tr>\n",
       "      <th>145</th>\n",
       "      <td>147</td>\n",
       "      <td>6.3</td>\n",
       "      <td>2.5</td>\n",
       "      <td>5.0</td>\n",
       "      <td>1.9</td>\n",
       "      <td>Iris-virginica</td>\n",
       "    </tr>\n",
       "    <tr>\n",
       "      <th>146</th>\n",
       "      <td>148</td>\n",
       "      <td>6.5</td>\n",
       "      <td>3.0</td>\n",
       "      <td>5.2</td>\n",
       "      <td>2.0</td>\n",
       "      <td>Iris-virginica</td>\n",
       "    </tr>\n",
       "    <tr>\n",
       "      <th>147</th>\n",
       "      <td>149</td>\n",
       "      <td>6.2</td>\n",
       "      <td>3.4</td>\n",
       "      <td>5.4</td>\n",
       "      <td>2.3</td>\n",
       "      <td>Iris-virginica</td>\n",
       "    </tr>\n",
       "    <tr>\n",
       "      <th>148</th>\n",
       "      <td>150</td>\n",
       "      <td>5.9</td>\n",
       "      <td>3.0</td>\n",
       "      <td>5.1</td>\n",
       "      <td>1.8</td>\n",
       "      <td>Iris-virginica</td>\n",
       "    </tr>\n",
       "  </tbody>\n",
       "</table>\n",
       "<p>147 rows × 6 columns</p>\n",
       "</div>"
      ],
      "text/plain": [
       "      id  SepalLengthCm  SepalWidthCm  PetalLengthCm  PetalWidthCm  \\\n",
       "0      1            5.1           3.5            1.4           0.2   \n",
       "1      2            4.9           3.0            1.4           0.2   \n",
       "2      3            4.7           3.2            1.3           0.2   \n",
       "3      4            4.6           3.1            1.5           0.2   \n",
       "4      5            5.0           3.6            1.4           0.2   \n",
       "..   ...            ...           ...            ...           ...   \n",
       "144  146            6.7           3.0            5.2           2.3   \n",
       "145  147            6.3           2.5            5.0           1.9   \n",
       "146  148            6.5           3.0            5.2           2.0   \n",
       "147  149            6.2           3.4            5.4           2.3   \n",
       "148  150            5.9           3.0            5.1           1.8   \n",
       "\n",
       "            Species  \n",
       "0       Iris-setosa  \n",
       "1       Iris-setosa  \n",
       "2       Iris-setosa  \n",
       "3       Iris-setosa  \n",
       "4       Iris-setosa  \n",
       "..              ...  \n",
       "144  Iris-virginica  \n",
       "145  Iris-virginica  \n",
       "146  Iris-virginica  \n",
       "147  Iris-virginica  \n",
       "148  Iris-virginica  \n",
       "\n",
       "[147 rows x 6 columns]"
      ]
     },
     "execution_count": 19,
     "metadata": {},
     "output_type": "execute_result"
    }
   ],
   "source": [
    "df_cleaned.loc[(df_cleaned['Species'] == 'Iris-virginica') & (df_cleaned['SepalLengthCm'].isnull()), 'SepalLengthCm'] = mean_sepal_length_virginica_rounded\n",
    "df_cleaned"
   ]
  },
  {
   "cell_type": "markdown",
   "metadata": {
    "cell_id": "9aa5100f36354395916ac02503c5cff8",
    "deepnote_cell_type": "text-cell-h1",
    "formattedRanges": []
   },
   "source": [
    "# metode knn"
   ]
  },
  {
   "cell_type": "code",
   "execution_count": null,
   "metadata": {
    "cell_id": "7450e6fc154d48ec8c5080b9bb9f4f2e",
    "deepnote_cell_type": "code",
    "deepnote_table_loading": false,
    "deepnote_table_state": {
     "filters": [],
     "pageIndex": 0,
     "pageSize": 10,
     "sortBy": []
    },
    "deepnote_to_be_reexecuted": false,
    "execution_millis": 629,
    "execution_start": 1711547887865,
    "source_hash": null
   },
   "outputs": [
    {
     "data": {
      "application/vnd.deepnote.dataframe.v3+json": {
       "column_count": 6,
       "columns": [
        {
         "dtype": "int64",
         "name": "id",
         "stats": {
          "histogram": [
           {
            "bin_end": 15.9,
            "bin_start": 1,
            "count": 14
           },
           {
            "bin_end": 30.8,
            "bin_start": 15.9,
            "count": 15
           },
           {
            "bin_end": 45.7,
            "bin_start": 30.8,
            "count": 15
           },
           {
            "bin_end": 60.6,
            "bin_start": 45.7,
            "count": 15
           },
           {
            "bin_end": 75.5,
            "bin_start": 60.6,
            "count": 15
           },
           {
            "bin_end": 90.4,
            "bin_start": 75.5,
            "count": 14
           },
           {
            "bin_end": 105.3,
            "bin_start": 90.4,
            "count": 15
           },
           {
            "bin_end": 120.2,
            "bin_start": 105.3,
            "count": 14
           },
           {
            "bin_end": 135.1,
            "bin_start": 120.2,
            "count": 15
           },
           {
            "bin_end": 150,
            "bin_start": 135.1,
            "count": 15
           }
          ],
          "max": "150",
          "min": "1",
          "nan_count": 0,
          "unique_count": 147
         }
        },
        {
         "dtype": "float64",
         "name": "SepalLengthCm",
         "stats": {
          "histogram": [
           {
            "bin_end": 4.66,
            "bin_start": 4.3,
            "count": 8
           },
           {
            "bin_end": 5.02,
            "bin_start": 4.66,
            "count": 23
           },
           {
            "bin_end": 5.38,
            "bin_start": 5.02,
            "count": 14
           },
           {
            "bin_end": 5.74,
            "bin_start": 5.38,
            "count": 25
           },
           {
            "bin_end": 6.1,
            "bin_start": 5.74,
            "count": 15
           },
           {
            "bin_end": 6.46,
            "bin_start": 6.1,
            "count": 26
           },
           {
            "bin_end": 6.82,
            "bin_start": 6.46,
            "count": 17
           },
           {
            "bin_end": 7.18,
            "bin_start": 6.82,
            "count": 6
           },
           {
            "bin_end": 7.54,
            "bin_start": 7.18,
            "count": 5
           },
           {
            "bin_end": 7.9,
            "bin_start": 7.54,
            "count": 5
           }
          ],
          "max": "7.9",
          "min": "4.3",
          "nan_count": 3,
          "unique_count": 35
         }
        },
        {
         "dtype": "float64",
         "name": "SepalWidthCm",
         "stats": {
          "histogram": [
           {
            "bin_end": 2.24,
            "bin_start": 2,
            "count": 4
           },
           {
            "bin_end": 2.48,
            "bin_start": 2.24,
            "count": 7
           },
           {
            "bin_end": 2.72,
            "bin_start": 2.48,
            "count": 22
           },
           {
            "bin_end": 2.96,
            "bin_start": 2.72,
            "count": 24
           },
           {
            "bin_end": 3.2,
            "bin_start": 2.96,
            "count": 37
           },
           {
            "bin_end": 3.4400000000000004,
            "bin_start": 3.2,
            "count": 30
           },
           {
            "bin_end": 3.6800000000000006,
            "bin_start": 3.4400000000000004,
            "count": 9
           },
           {
            "bin_end": 3.9200000000000004,
            "bin_start": 3.6800000000000006,
            "count": 10
           },
           {
            "bin_end": 4.16,
            "bin_start": 3.9200000000000004,
            "count": 2
           },
           {
            "bin_end": 4.4,
            "bin_start": 4.16,
            "count": 2
           }
          ],
          "max": "4.4",
          "min": "2.0",
          "nan_count": 0,
          "unique_count": 23
         }
        },
        {
         "dtype": "float64",
         "name": "PetalLengthCm",
         "stats": {
          "histogram": [
           {
            "bin_end": 1.59,
            "bin_start": 1,
            "count": 37
           },
           {
            "bin_end": 2.18,
            "bin_start": 1.59,
            "count": 12
           },
           {
            "bin_end": 2.7700000000000005,
            "bin_start": 2.18,
            "count": 0
           },
           {
            "bin_end": 3.3600000000000003,
            "bin_start": 2.7700000000000005,
            "count": 3
           },
           {
            "bin_end": 3.95,
            "bin_start": 3.3600000000000003,
            "count": 8
           },
           {
            "bin_end": 4.540000000000001,
            "bin_start": 3.95,
            "count": 25
           },
           {
            "bin_end": 5.130000000000001,
            "bin_start": 4.540000000000001,
            "count": 28
           },
           {
            "bin_end": 5.720000000000001,
            "bin_start": 5.130000000000001,
            "count": 18
           },
           {
            "bin_end": 6.3100000000000005,
            "bin_start": 5.720000000000001,
            "count": 11
           },
           {
            "bin_end": 6.9,
            "bin_start": 6.3100000000000005,
            "count": 5
           }
          ],
          "max": "6.9",
          "min": "1.0",
          "nan_count": 0,
          "unique_count": 43
         }
        },
        {
         "dtype": "float64",
         "name": "PetalWidthCm",
         "stats": {
          "histogram": [
           {
            "bin_end": 0.33999999999999997,
            "bin_start": 0.1,
            "count": 41
           },
           {
            "bin_end": 0.58,
            "bin_start": 0.33999999999999997,
            "count": 7
           },
           {
            "bin_end": 0.82,
            "bin_start": 0.58,
            "count": 1
           },
           {
            "bin_end": 1.06,
            "bin_start": 0.82,
            "count": 7
           },
           {
            "bin_end": 1.3,
            "bin_start": 1.06,
            "count": 8
           },
           {
            "bin_end": 1.54,
            "bin_start": 1.3,
            "count": 32
           },
           {
            "bin_end": 1.78,
            "bin_start": 1.54,
            "count": 6
           },
           {
            "bin_end": 2.02,
            "bin_start": 1.78,
            "count": 22
           },
           {
            "bin_end": 2.2600000000000002,
            "bin_start": 2.02,
            "count": 9
           },
           {
            "bin_end": 2.5,
            "bin_start": 2.2600000000000002,
            "count": 14
           }
          ],
          "max": "2.5",
          "min": "0.1",
          "nan_count": 0,
          "unique_count": 22
         }
        },
        {
         "dtype": "object",
         "name": "Species",
         "stats": {
          "categories": [
           {
            "count": 49,
            "name": "Iris-setosa"
           },
           {
            "count": 49,
            "name": "Iris-versicolor"
           },
           {
            "count": 49,
            "name": "Iris-virginica"
           }
          ],
          "nan_count": 0,
          "unique_count": 3
         }
        },
        {
         "dtype": "int64",
         "name": "_deepnote_index_column"
        }
       ],
       "row_count": 147,
       "rows": [
        {
         "PetalLengthCm": 1.4,
         "PetalWidthCm": 0.2,
         "SepalLengthCm": 5.1,
         "SepalWidthCm": 3.5,
         "Species": "Iris-setosa",
         "_deepnote_index_column": 0,
         "id": 1
        },
        {
         "PetalLengthCm": 1.4,
         "PetalWidthCm": 0.2,
         "SepalLengthCm": 4.9,
         "SepalWidthCm": 3,
         "Species": "Iris-setosa",
         "_deepnote_index_column": 1,
         "id": 2
        },
        {
         "PetalLengthCm": 1.3,
         "PetalWidthCm": 0.2,
         "SepalLengthCm": 4.7,
         "SepalWidthCm": 3.2,
         "Species": "Iris-setosa",
         "_deepnote_index_column": 2,
         "id": 3
        },
        {
         "PetalLengthCm": 1.5,
         "PetalWidthCm": 0.2,
         "SepalLengthCm": 4.6,
         "SepalWidthCm": 3.1,
         "Species": "Iris-setosa",
         "_deepnote_index_column": 3,
         "id": 4
        },
        {
         "PetalLengthCm": 1.4,
         "PetalWidthCm": 0.2,
         "SepalLengthCm": 5,
         "SepalWidthCm": 3.6,
         "Species": "Iris-setosa",
         "_deepnote_index_column": 4,
         "id": 5
        },
        {
         "PetalLengthCm": 1.4,
         "PetalWidthCm": 0.3,
         "SepalLengthCm": 4.6,
         "SepalWidthCm": 3.4,
         "Species": "Iris-setosa",
         "_deepnote_index_column": 6,
         "id": 7
        },
        {
         "PetalLengthCm": 1.5,
         "PetalWidthCm": 0.2,
         "SepalLengthCm": 5,
         "SepalWidthCm": 3.4,
         "Species": "Iris-setosa",
         "_deepnote_index_column": 7,
         "id": 8
        },
        {
         "PetalLengthCm": 1.4,
         "PetalWidthCm": 0.2,
         "SepalLengthCm": "nan",
         "SepalWidthCm": 2.9,
         "Species": "Iris-setosa",
         "_deepnote_index_column": 8,
         "id": 9
        },
        {
         "PetalLengthCm": 1.5,
         "PetalWidthCm": 0.1,
         "SepalLengthCm": 4.9,
         "SepalWidthCm": 3.1,
         "Species": "Iris-setosa",
         "_deepnote_index_column": 9,
         "id": 10
        },
        {
         "PetalLengthCm": 1.5,
         "PetalWidthCm": 0.2,
         "SepalLengthCm": 5.4,
         "SepalWidthCm": 3.7,
         "Species": "Iris-setosa",
         "_deepnote_index_column": 10,
         "id": 11
        }
       ]
      },
      "text/html": [
       "<div>\n",
       "<style scoped>\n",
       "    .dataframe tbody tr th:only-of-type {\n",
       "        vertical-align: middle;\n",
       "    }\n",
       "\n",
       "    .dataframe tbody tr th {\n",
       "        vertical-align: top;\n",
       "    }\n",
       "\n",
       "    .dataframe thead th {\n",
       "        text-align: right;\n",
       "    }\n",
       "</style>\n",
       "<table border=\"1\" class=\"dataframe\">\n",
       "  <thead>\n",
       "    <tr style=\"text-align: right;\">\n",
       "      <th></th>\n",
       "      <th>id</th>\n",
       "      <th>SepalLengthCm</th>\n",
       "      <th>SepalWidthCm</th>\n",
       "      <th>PetalLengthCm</th>\n",
       "      <th>PetalWidthCm</th>\n",
       "      <th>Species</th>\n",
       "    </tr>\n",
       "  </thead>\n",
       "  <tbody>\n",
       "    <tr>\n",
       "      <th>0</th>\n",
       "      <td>1</td>\n",
       "      <td>5.1</td>\n",
       "      <td>3.5</td>\n",
       "      <td>1.4</td>\n",
       "      <td>0.2</td>\n",
       "      <td>Iris-setosa</td>\n",
       "    </tr>\n",
       "    <tr>\n",
       "      <th>1</th>\n",
       "      <td>2</td>\n",
       "      <td>4.9</td>\n",
       "      <td>3.0</td>\n",
       "      <td>1.4</td>\n",
       "      <td>0.2</td>\n",
       "      <td>Iris-setosa</td>\n",
       "    </tr>\n",
       "    <tr>\n",
       "      <th>2</th>\n",
       "      <td>3</td>\n",
       "      <td>4.7</td>\n",
       "      <td>3.2</td>\n",
       "      <td>1.3</td>\n",
       "      <td>0.2</td>\n",
       "      <td>Iris-setosa</td>\n",
       "    </tr>\n",
       "    <tr>\n",
       "      <th>3</th>\n",
       "      <td>4</td>\n",
       "      <td>4.6</td>\n",
       "      <td>3.1</td>\n",
       "      <td>1.5</td>\n",
       "      <td>0.2</td>\n",
       "      <td>Iris-setosa</td>\n",
       "    </tr>\n",
       "    <tr>\n",
       "      <th>4</th>\n",
       "      <td>5</td>\n",
       "      <td>5.0</td>\n",
       "      <td>3.6</td>\n",
       "      <td>1.4</td>\n",
       "      <td>0.2</td>\n",
       "      <td>Iris-setosa</td>\n",
       "    </tr>\n",
       "    <tr>\n",
       "      <th>...</th>\n",
       "      <td>...</td>\n",
       "      <td>...</td>\n",
       "      <td>...</td>\n",
       "      <td>...</td>\n",
       "      <td>...</td>\n",
       "      <td>...</td>\n",
       "    </tr>\n",
       "    <tr>\n",
       "      <th>144</th>\n",
       "      <td>146</td>\n",
       "      <td>6.7</td>\n",
       "      <td>3.0</td>\n",
       "      <td>5.2</td>\n",
       "      <td>2.3</td>\n",
       "      <td>Iris-virginica</td>\n",
       "    </tr>\n",
       "    <tr>\n",
       "      <th>145</th>\n",
       "      <td>147</td>\n",
       "      <td>6.3</td>\n",
       "      <td>2.5</td>\n",
       "      <td>5.0</td>\n",
       "      <td>1.9</td>\n",
       "      <td>Iris-virginica</td>\n",
       "    </tr>\n",
       "    <tr>\n",
       "      <th>146</th>\n",
       "      <td>148</td>\n",
       "      <td>6.5</td>\n",
       "      <td>3.0</td>\n",
       "      <td>5.2</td>\n",
       "      <td>2.0</td>\n",
       "      <td>Iris-virginica</td>\n",
       "    </tr>\n",
       "    <tr>\n",
       "      <th>147</th>\n",
       "      <td>149</td>\n",
       "      <td>6.2</td>\n",
       "      <td>3.4</td>\n",
       "      <td>5.4</td>\n",
       "      <td>2.3</td>\n",
       "      <td>Iris-virginica</td>\n",
       "    </tr>\n",
       "    <tr>\n",
       "      <th>148</th>\n",
       "      <td>150</td>\n",
       "      <td>5.9</td>\n",
       "      <td>3.0</td>\n",
       "      <td>5.1</td>\n",
       "      <td>1.8</td>\n",
       "      <td>Iris-virginica</td>\n",
       "    </tr>\n",
       "  </tbody>\n",
       "</table>\n",
       "<p>147 rows × 6 columns</p>\n",
       "</div>"
      ],
      "text/plain": [
       "      id  SepalLengthCm  SepalWidthCm  PetalLengthCm  PetalWidthCm  \\\n",
       "0      1            5.1           3.5            1.4           0.2   \n",
       "1      2            4.9           3.0            1.4           0.2   \n",
       "2      3            4.7           3.2            1.3           0.2   \n",
       "3      4            4.6           3.1            1.5           0.2   \n",
       "4      5            5.0           3.6            1.4           0.2   \n",
       "..   ...            ...           ...            ...           ...   \n",
       "144  146            6.7           3.0            5.2           2.3   \n",
       "145  147            6.3           2.5            5.0           1.9   \n",
       "146  148            6.5           3.0            5.2           2.0   \n",
       "147  149            6.2           3.4            5.4           2.3   \n",
       "148  150            5.9           3.0            5.1           1.8   \n",
       "\n",
       "            Species  \n",
       "0       Iris-setosa  \n",
       "1       Iris-setosa  \n",
       "2       Iris-setosa  \n",
       "3       Iris-setosa  \n",
       "4       Iris-setosa  \n",
       "..              ...  \n",
       "144  Iris-virginica  \n",
       "145  Iris-virginica  \n",
       "146  Iris-virginica  \n",
       "147  Iris-virginica  \n",
       "148  Iris-virginica  \n",
       "\n",
       "[147 rows x 6 columns]"
      ]
     },
     "execution_count": 20,
     "metadata": {},
     "output_type": "execute_result"
    }
   ],
   "source": [
    "df_cleaned_knn = df_main.dropna(subset=['Species'])\n",
    "df_cleaned_knn"
   ]
  },
  {
   "cell_type": "markdown",
   "metadata": {
    "cell_id": "72b2e31f435f4603803f0a8f30ab2d0d",
    "deepnote_cell_type": "text-cell-p",
    "formattedRanges": []
   },
   "source": [
    "disini dilakukan proses pengisian nilai yang kosong menggunakan konsep knn"
   ]
  },
  {
   "cell_type": "code",
   "execution_count": null,
   "metadata": {
    "cell_id": "ceb150f66d324aee9f5972a51a86c900",
    "deepnote_cell_type": "code",
    "deepnote_to_be_reexecuted": false,
    "execution_millis": 621,
    "execution_start": 1711547887873,
    "source_hash": null
   },
   "outputs": [
    {
     "name": "stderr",
     "output_type": "stream",
     "text": [
      "/tmp/ipykernel_153/1583004780.py:4: SettingWithCopyWarning: \n",
      "A value is trying to be set on a copy of a slice from a DataFrame.\n",
      "Try using .loc[row_indexer,col_indexer] = value instead\n",
      "\n",
      "See the caveats in the documentation: https://pandas.pydata.org/pandas-docs/stable/user_guide/indexing.html#returning-a-view-versus-a-copy\n",
      "  df_cleaned_knn['SepalLengthCm'] = imputer.fit_transform(df_cleaned_knn[['SepalLengthCm']]).round(1)\n"
     ]
    },
    {
     "data": {
      "application/vnd.deepnote.dataframe.v3+json": {
       "column_count": 6,
       "columns": [
        {
         "dtype": "int64",
         "name": "id",
         "stats": {
          "histogram": [
           {
            "bin_end": 15.9,
            "bin_start": 1,
            "count": 14
           },
           {
            "bin_end": 30.8,
            "bin_start": 15.9,
            "count": 15
           },
           {
            "bin_end": 45.7,
            "bin_start": 30.8,
            "count": 15
           },
           {
            "bin_end": 60.6,
            "bin_start": 45.7,
            "count": 15
           },
           {
            "bin_end": 75.5,
            "bin_start": 60.6,
            "count": 15
           },
           {
            "bin_end": 90.4,
            "bin_start": 75.5,
            "count": 14
           },
           {
            "bin_end": 105.3,
            "bin_start": 90.4,
            "count": 15
           },
           {
            "bin_end": 120.2,
            "bin_start": 105.3,
            "count": 14
           },
           {
            "bin_end": 135.1,
            "bin_start": 120.2,
            "count": 15
           },
           {
            "bin_end": 150,
            "bin_start": 135.1,
            "count": 15
           }
          ],
          "max": "150",
          "min": "1",
          "nan_count": 0,
          "unique_count": 147
         }
        },
        {
         "dtype": "float64",
         "name": "SepalLengthCm",
         "stats": {
          "histogram": [
           {
            "bin_end": 4.66,
            "bin_start": 4.3,
            "count": 8
           },
           {
            "bin_end": 5.02,
            "bin_start": 4.66,
            "count": 23
           },
           {
            "bin_end": 5.38,
            "bin_start": 5.02,
            "count": 14
           },
           {
            "bin_end": 5.74,
            "bin_start": 5.38,
            "count": 25
           },
           {
            "bin_end": 6.1,
            "bin_start": 5.74,
            "count": 18
           },
           {
            "bin_end": 6.46,
            "bin_start": 6.1,
            "count": 26
           },
           {
            "bin_end": 6.82,
            "bin_start": 6.46,
            "count": 17
           },
           {
            "bin_end": 7.18,
            "bin_start": 6.82,
            "count": 6
           },
           {
            "bin_end": 7.54,
            "bin_start": 7.18,
            "count": 5
           },
           {
            "bin_end": 7.9,
            "bin_start": 7.54,
            "count": 5
           }
          ],
          "max": "7.9",
          "min": "4.3",
          "nan_count": 0,
          "unique_count": 35
         }
        },
        {
         "dtype": "float64",
         "name": "SepalWidthCm",
         "stats": {
          "histogram": [
           {
            "bin_end": 2.24,
            "bin_start": 2,
            "count": 4
           },
           {
            "bin_end": 2.48,
            "bin_start": 2.24,
            "count": 7
           },
           {
            "bin_end": 2.72,
            "bin_start": 2.48,
            "count": 22
           },
           {
            "bin_end": 2.96,
            "bin_start": 2.72,
            "count": 24
           },
           {
            "bin_end": 3.2,
            "bin_start": 2.96,
            "count": 37
           },
           {
            "bin_end": 3.4400000000000004,
            "bin_start": 3.2,
            "count": 30
           },
           {
            "bin_end": 3.6800000000000006,
            "bin_start": 3.4400000000000004,
            "count": 9
           },
           {
            "bin_end": 3.9200000000000004,
            "bin_start": 3.6800000000000006,
            "count": 10
           },
           {
            "bin_end": 4.16,
            "bin_start": 3.9200000000000004,
            "count": 2
           },
           {
            "bin_end": 4.4,
            "bin_start": 4.16,
            "count": 2
           }
          ],
          "max": "4.4",
          "min": "2.0",
          "nan_count": 0,
          "unique_count": 23
         }
        },
        {
         "dtype": "float64",
         "name": "PetalLengthCm",
         "stats": {
          "histogram": [
           {
            "bin_end": 1.59,
            "bin_start": 1,
            "count": 37
           },
           {
            "bin_end": 2.18,
            "bin_start": 1.59,
            "count": 12
           },
           {
            "bin_end": 2.7700000000000005,
            "bin_start": 2.18,
            "count": 0
           },
           {
            "bin_end": 3.3600000000000003,
            "bin_start": 2.7700000000000005,
            "count": 3
           },
           {
            "bin_end": 3.95,
            "bin_start": 3.3600000000000003,
            "count": 8
           },
           {
            "bin_end": 4.540000000000001,
            "bin_start": 3.95,
            "count": 25
           },
           {
            "bin_end": 5.130000000000001,
            "bin_start": 4.540000000000001,
            "count": 28
           },
           {
            "bin_end": 5.720000000000001,
            "bin_start": 5.130000000000001,
            "count": 18
           },
           {
            "bin_end": 6.3100000000000005,
            "bin_start": 5.720000000000001,
            "count": 11
           },
           {
            "bin_end": 6.9,
            "bin_start": 6.3100000000000005,
            "count": 5
           }
          ],
          "max": "6.9",
          "min": "1.0",
          "nan_count": 0,
          "unique_count": 43
         }
        },
        {
         "dtype": "float64",
         "name": "PetalWidthCm",
         "stats": {
          "histogram": [
           {
            "bin_end": 0.33999999999999997,
            "bin_start": 0.1,
            "count": 41
           },
           {
            "bin_end": 0.58,
            "bin_start": 0.33999999999999997,
            "count": 7
           },
           {
            "bin_end": 0.82,
            "bin_start": 0.58,
            "count": 1
           },
           {
            "bin_end": 1.06,
            "bin_start": 0.82,
            "count": 7
           },
           {
            "bin_end": 1.3,
            "bin_start": 1.06,
            "count": 8
           },
           {
            "bin_end": 1.54,
            "bin_start": 1.3,
            "count": 32
           },
           {
            "bin_end": 1.78,
            "bin_start": 1.54,
            "count": 6
           },
           {
            "bin_end": 2.02,
            "bin_start": 1.78,
            "count": 22
           },
           {
            "bin_end": 2.2600000000000002,
            "bin_start": 2.02,
            "count": 9
           },
           {
            "bin_end": 2.5,
            "bin_start": 2.2600000000000002,
            "count": 14
           }
          ],
          "max": "2.5",
          "min": "0.1",
          "nan_count": 0,
          "unique_count": 22
         }
        },
        {
         "dtype": "object",
         "name": "Species",
         "stats": {
          "categories": [
           {
            "count": 49,
            "name": "Iris-setosa"
           },
           {
            "count": 49,
            "name": "Iris-versicolor"
           },
           {
            "count": 49,
            "name": "Iris-virginica"
           }
          ],
          "nan_count": 0,
          "unique_count": 3
         }
        },
        {
         "dtype": "int64",
         "name": "_deepnote_index_column"
        }
       ],
       "row_count": 147,
       "rows": [
        {
         "PetalLengthCm": 1.4,
         "PetalWidthCm": 0.2,
         "SepalLengthCm": 5.1,
         "SepalWidthCm": 3.5,
         "Species": "Iris-setosa",
         "_deepnote_index_column": 0,
         "id": 1
        },
        {
         "PetalLengthCm": 1.4,
         "PetalWidthCm": 0.2,
         "SepalLengthCm": 4.9,
         "SepalWidthCm": 3,
         "Species": "Iris-setosa",
         "_deepnote_index_column": 1,
         "id": 2
        },
        {
         "PetalLengthCm": 1.3,
         "PetalWidthCm": 0.2,
         "SepalLengthCm": 4.7,
         "SepalWidthCm": 3.2,
         "Species": "Iris-setosa",
         "_deepnote_index_column": 2,
         "id": 3
        },
        {
         "PetalLengthCm": 1.5,
         "PetalWidthCm": 0.2,
         "SepalLengthCm": 4.6,
         "SepalWidthCm": 3.1,
         "Species": "Iris-setosa",
         "_deepnote_index_column": 3,
         "id": 4
        },
        {
         "PetalLengthCm": 1.4,
         "PetalWidthCm": 0.2,
         "SepalLengthCm": 5,
         "SepalWidthCm": 3.6,
         "Species": "Iris-setosa",
         "_deepnote_index_column": 4,
         "id": 5
        },
        {
         "PetalLengthCm": 1.4,
         "PetalWidthCm": 0.3,
         "SepalLengthCm": 4.6,
         "SepalWidthCm": 3.4,
         "Species": "Iris-setosa",
         "_deepnote_index_column": 6,
         "id": 7
        },
        {
         "PetalLengthCm": 1.5,
         "PetalWidthCm": 0.2,
         "SepalLengthCm": 5,
         "SepalWidthCm": 3.4,
         "Species": "Iris-setosa",
         "_deepnote_index_column": 7,
         "id": 8
        },
        {
         "PetalLengthCm": 1.4,
         "PetalWidthCm": 0.2,
         "SepalLengthCm": 5.8,
         "SepalWidthCm": 2.9,
         "Species": "Iris-setosa",
         "_deepnote_index_column": 8,
         "id": 9
        },
        {
         "PetalLengthCm": 1.5,
         "PetalWidthCm": 0.1,
         "SepalLengthCm": 4.9,
         "SepalWidthCm": 3.1,
         "Species": "Iris-setosa",
         "_deepnote_index_column": 9,
         "id": 10
        },
        {
         "PetalLengthCm": 1.5,
         "PetalWidthCm": 0.2,
         "SepalLengthCm": 5.4,
         "SepalWidthCm": 3.7,
         "Species": "Iris-setosa",
         "_deepnote_index_column": 10,
         "id": 11
        }
       ]
      },
      "text/html": [
       "<div>\n",
       "<style scoped>\n",
       "    .dataframe tbody tr th:only-of-type {\n",
       "        vertical-align: middle;\n",
       "    }\n",
       "\n",
       "    .dataframe tbody tr th {\n",
       "        vertical-align: top;\n",
       "    }\n",
       "\n",
       "    .dataframe thead th {\n",
       "        text-align: right;\n",
       "    }\n",
       "</style>\n",
       "<table border=\"1\" class=\"dataframe\">\n",
       "  <thead>\n",
       "    <tr style=\"text-align: right;\">\n",
       "      <th></th>\n",
       "      <th>id</th>\n",
       "      <th>SepalLengthCm</th>\n",
       "      <th>SepalWidthCm</th>\n",
       "      <th>PetalLengthCm</th>\n",
       "      <th>PetalWidthCm</th>\n",
       "      <th>Species</th>\n",
       "    </tr>\n",
       "  </thead>\n",
       "  <tbody>\n",
       "    <tr>\n",
       "      <th>0</th>\n",
       "      <td>1</td>\n",
       "      <td>5.1</td>\n",
       "      <td>3.5</td>\n",
       "      <td>1.4</td>\n",
       "      <td>0.2</td>\n",
       "      <td>Iris-setosa</td>\n",
       "    </tr>\n",
       "    <tr>\n",
       "      <th>1</th>\n",
       "      <td>2</td>\n",
       "      <td>4.9</td>\n",
       "      <td>3.0</td>\n",
       "      <td>1.4</td>\n",
       "      <td>0.2</td>\n",
       "      <td>Iris-setosa</td>\n",
       "    </tr>\n",
       "    <tr>\n",
       "      <th>2</th>\n",
       "      <td>3</td>\n",
       "      <td>4.7</td>\n",
       "      <td>3.2</td>\n",
       "      <td>1.3</td>\n",
       "      <td>0.2</td>\n",
       "      <td>Iris-setosa</td>\n",
       "    </tr>\n",
       "    <tr>\n",
       "      <th>3</th>\n",
       "      <td>4</td>\n",
       "      <td>4.6</td>\n",
       "      <td>3.1</td>\n",
       "      <td>1.5</td>\n",
       "      <td>0.2</td>\n",
       "      <td>Iris-setosa</td>\n",
       "    </tr>\n",
       "    <tr>\n",
       "      <th>4</th>\n",
       "      <td>5</td>\n",
       "      <td>5.0</td>\n",
       "      <td>3.6</td>\n",
       "      <td>1.4</td>\n",
       "      <td>0.2</td>\n",
       "      <td>Iris-setosa</td>\n",
       "    </tr>\n",
       "    <tr>\n",
       "      <th>...</th>\n",
       "      <td>...</td>\n",
       "      <td>...</td>\n",
       "      <td>...</td>\n",
       "      <td>...</td>\n",
       "      <td>...</td>\n",
       "      <td>...</td>\n",
       "    </tr>\n",
       "    <tr>\n",
       "      <th>144</th>\n",
       "      <td>146</td>\n",
       "      <td>6.7</td>\n",
       "      <td>3.0</td>\n",
       "      <td>5.2</td>\n",
       "      <td>2.3</td>\n",
       "      <td>Iris-virginica</td>\n",
       "    </tr>\n",
       "    <tr>\n",
       "      <th>145</th>\n",
       "      <td>147</td>\n",
       "      <td>6.3</td>\n",
       "      <td>2.5</td>\n",
       "      <td>5.0</td>\n",
       "      <td>1.9</td>\n",
       "      <td>Iris-virginica</td>\n",
       "    </tr>\n",
       "    <tr>\n",
       "      <th>146</th>\n",
       "      <td>148</td>\n",
       "      <td>6.5</td>\n",
       "      <td>3.0</td>\n",
       "      <td>5.2</td>\n",
       "      <td>2.0</td>\n",
       "      <td>Iris-virginica</td>\n",
       "    </tr>\n",
       "    <tr>\n",
       "      <th>147</th>\n",
       "      <td>149</td>\n",
       "      <td>6.2</td>\n",
       "      <td>3.4</td>\n",
       "      <td>5.4</td>\n",
       "      <td>2.3</td>\n",
       "      <td>Iris-virginica</td>\n",
       "    </tr>\n",
       "    <tr>\n",
       "      <th>148</th>\n",
       "      <td>150</td>\n",
       "      <td>5.9</td>\n",
       "      <td>3.0</td>\n",
       "      <td>5.1</td>\n",
       "      <td>1.8</td>\n",
       "      <td>Iris-virginica</td>\n",
       "    </tr>\n",
       "  </tbody>\n",
       "</table>\n",
       "<p>147 rows × 6 columns</p>\n",
       "</div>"
      ],
      "text/plain": [
       "      id  SepalLengthCm  SepalWidthCm  PetalLengthCm  PetalWidthCm  \\\n",
       "0      1            5.1           3.5            1.4           0.2   \n",
       "1      2            4.9           3.0            1.4           0.2   \n",
       "2      3            4.7           3.2            1.3           0.2   \n",
       "3      4            4.6           3.1            1.5           0.2   \n",
       "4      5            5.0           3.6            1.4           0.2   \n",
       "..   ...            ...           ...            ...           ...   \n",
       "144  146            6.7           3.0            5.2           2.3   \n",
       "145  147            6.3           2.5            5.0           1.9   \n",
       "146  148            6.5           3.0            5.2           2.0   \n",
       "147  149            6.2           3.4            5.4           2.3   \n",
       "148  150            5.9           3.0            5.1           1.8   \n",
       "\n",
       "            Species  \n",
       "0       Iris-setosa  \n",
       "1       Iris-setosa  \n",
       "2       Iris-setosa  \n",
       "3       Iris-setosa  \n",
       "4       Iris-setosa  \n",
       "..              ...  \n",
       "144  Iris-virginica  \n",
       "145  Iris-virginica  \n",
       "146  Iris-virginica  \n",
       "147  Iris-virginica  \n",
       "148  Iris-virginica  \n",
       "\n",
       "[147 rows x 6 columns]"
      ]
     },
     "execution_count": 21,
     "metadata": {},
     "output_type": "execute_result"
    }
   ],
   "source": [
    "from sklearn.impute import KNNImputer\n",
    "\n",
    "imputer = KNNImputer(n_neighbors=3)\n",
    "df_cleaned_knn['SepalLengthCm'] = imputer.fit_transform(df_cleaned_knn[['SepalLengthCm']]).round(1)\n",
    "\n",
    "df_cleaned_knn"
   ]
  },
  {
   "cell_type": "code",
   "execution_count": null,
   "metadata": {
    "cell_id": "4517582c97494505af92fc8efc87221e",
    "deepnote_cell_type": "sql",
    "deepnote_sql_source": "SELECT * FROM iris",
    "deepnote_to_be_reexecuted": false,
    "deepnote_variable_name": "df_4",
    "execution_millis": 3088,
    "execution_start": 1711547888327,
    "source_hash": null,
    "sql_integration_id": "1ebcde9e-ae53-4fed-98a8-03783a766d52"
   },
   "outputs": [
    {
     "data": {
      "application/vnd.deepnote.sql-output-metadata+json": {
       "size_in_bytes": 16678,
       "status": "success_no_cache"
      }
     },
     "metadata": {},
     "output_type": "display_data"
    },
    {
     "data": {
      "application/vnd.deepnote.dataframe.v3+json": {
       "column_count": 6,
       "columns": [
        {
         "dtype": "int64",
         "name": "id",
         "stats": {
          "histogram": [
           {
            "bin_end": 15.9,
            "bin_start": 1,
            "count": 15
           },
           {
            "bin_end": 30.8,
            "bin_start": 15.9,
            "count": 15
           },
           {
            "bin_end": 45.7,
            "bin_start": 30.8,
            "count": 15
           },
           {
            "bin_end": 60.6,
            "bin_start": 45.7,
            "count": 15
           },
           {
            "bin_end": 75.5,
            "bin_start": 60.6,
            "count": 15
           },
           {
            "bin_end": 90.4,
            "bin_start": 75.5,
            "count": 15
           },
           {
            "bin_end": 105.3,
            "bin_start": 90.4,
            "count": 15
           },
           {
            "bin_end": 120.2,
            "bin_start": 105.3,
            "count": 15
           },
           {
            "bin_end": 135.1,
            "bin_start": 120.2,
            "count": 15
           },
           {
            "bin_end": 150,
            "bin_start": 135.1,
            "count": 15
           }
          ],
          "max": "150",
          "min": "1",
          "nan_count": 0,
          "unique_count": 150
         }
        },
        {
         "dtype": "float64",
         "name": "SepalLengthCm",
         "stats": {
          "histogram": [
           {
            "bin_end": 4.66,
            "bin_start": 4.3,
            "count": 9
           },
           {
            "bin_end": 5.02,
            "bin_start": 4.66,
            "count": 23
           },
           {
            "bin_end": 5.38,
            "bin_start": 5.02,
            "count": 14
           },
           {
            "bin_end": 5.74,
            "bin_start": 5.38,
            "count": 27
           },
           {
            "bin_end": 6.1,
            "bin_start": 5.74,
            "count": 16
           },
           {
            "bin_end": 6.46,
            "bin_start": 6.1,
            "count": 26
           },
           {
            "bin_end": 6.82,
            "bin_start": 6.46,
            "count": 18
           },
           {
            "bin_end": 7.18,
            "bin_start": 6.82,
            "count": 6
           },
           {
            "bin_end": 7.54,
            "bin_start": 7.18,
            "count": 5
           },
           {
            "bin_end": 7.9,
            "bin_start": 7.54,
            "count": 6
           }
          ],
          "max": "7.9",
          "min": "4.3",
          "nan_count": 0,
          "unique_count": 35
         }
        },
        {
         "dtype": "float64",
         "name": "SepalWidthCm",
         "stats": {
          "histogram": [
           {
            "bin_end": 2.24,
            "bin_start": 2,
            "count": 4
           },
           {
            "bin_end": 2.48,
            "bin_start": 2.24,
            "count": 7
           },
           {
            "bin_end": 2.72,
            "bin_start": 2.48,
            "count": 22
           },
           {
            "bin_end": 2.96,
            "bin_start": 2.72,
            "count": 24
           },
           {
            "bin_end": 3.2,
            "bin_start": 2.96,
            "count": 38
           },
           {
            "bin_end": 3.4400000000000004,
            "bin_start": 3.2,
            "count": 31
           },
           {
            "bin_end": 3.6800000000000006,
            "bin_start": 3.4400000000000004,
            "count": 9
           },
           {
            "bin_end": 3.9200000000000004,
            "bin_start": 3.6800000000000006,
            "count": 11
           },
           {
            "bin_end": 4.16,
            "bin_start": 3.9200000000000004,
            "count": 2
           },
           {
            "bin_end": 4.4,
            "bin_start": 4.16,
            "count": 2
           }
          ],
          "max": "4.4",
          "min": "2.0",
          "nan_count": 0,
          "unique_count": 23
         }
        },
        {
         "dtype": "float64",
         "name": "PetalLengthCm",
         "stats": {
          "histogram": [
           {
            "bin_end": 1.59,
            "bin_start": 1,
            "count": 37
           },
           {
            "bin_end": 2.18,
            "bin_start": 1.59,
            "count": 13
           },
           {
            "bin_end": 2.7700000000000005,
            "bin_start": 2.18,
            "count": 0
           },
           {
            "bin_end": 3.3600000000000003,
            "bin_start": 2.7700000000000005,
            "count": 3
           },
           {
            "bin_end": 3.95,
            "bin_start": 3.3600000000000003,
            "count": 8
           },
           {
            "bin_end": 4.540000000000001,
            "bin_start": 3.95,
            "count": 26
           },
           {
            "bin_end": 5.130000000000001,
            "bin_start": 4.540000000000001,
            "count": 29
           },
           {
            "bin_end": 5.720000000000001,
            "bin_start": 5.130000000000001,
            "count": 18
           },
           {
            "bin_end": 6.3100000000000005,
            "bin_start": 5.720000000000001,
            "count": 11
           },
           {
            "bin_end": 6.9,
            "bin_start": 6.3100000000000005,
            "count": 5
           }
          ],
          "max": "6.9",
          "min": "1.0",
          "nan_count": 0,
          "unique_count": 43
         }
        },
        {
         "dtype": "float64",
         "name": "PetalWidthCm",
         "stats": {
          "histogram": [
           {
            "bin_end": 0.33999999999999997,
            "bin_start": 0.1,
            "count": 41
           },
           {
            "bin_end": 0.58,
            "bin_start": 0.33999999999999997,
            "count": 8
           },
           {
            "bin_end": 0.82,
            "bin_start": 0.58,
            "count": 1
           },
           {
            "bin_end": 1.06,
            "bin_start": 0.82,
            "count": 7
           },
           {
            "bin_end": 1.3,
            "bin_start": 1.06,
            "count": 8
           },
           {
            "bin_end": 1.54,
            "bin_start": 1.3,
            "count": 33
           },
           {
            "bin_end": 1.78,
            "bin_start": 1.54,
            "count": 6
           },
           {
            "bin_end": 2.02,
            "bin_start": 1.78,
            "count": 23
           },
           {
            "bin_end": 2.2600000000000002,
            "bin_start": 2.02,
            "count": 9
           },
           {
            "bin_end": 2.5,
            "bin_start": 2.2600000000000002,
            "count": 14
           }
          ],
          "max": "2.5",
          "min": "0.1",
          "nan_count": 0,
          "unique_count": 22
         }
        },
        {
         "dtype": "object",
         "name": "Species",
         "stats": {
          "categories": [
           {
            "count": 50,
            "name": "Iris-setosa"
           },
           {
            "count": 50,
            "name": "Iris-versicolor"
           },
           {
            "count": 50,
            "name": "Iris-virginica"
           }
          ],
          "nan_count": 0,
          "unique_count": 3
         }
        },
        {
         "dtype": "int64",
         "name": "_deepnote_index_column"
        }
       ],
       "row_count": 150,
       "rows": [
        {
         "PetalLengthCm": 1.4,
         "PetalWidthCm": 0.2,
         "SepalLengthCm": 5.1,
         "SepalWidthCm": 3.5,
         "Species": "Iris-setosa",
         "_deepnote_index_column": 0,
         "id": 1
        },
        {
         "PetalLengthCm": 1.4,
         "PetalWidthCm": 0.2,
         "SepalLengthCm": 4.9,
         "SepalWidthCm": 3,
         "Species": "Iris-setosa",
         "_deepnote_index_column": 1,
         "id": 2
        },
        {
         "PetalLengthCm": 1.3,
         "PetalWidthCm": 0.2,
         "SepalLengthCm": 4.7,
         "SepalWidthCm": 3.2,
         "Species": "Iris-setosa",
         "_deepnote_index_column": 2,
         "id": 3
        },
        {
         "PetalLengthCm": 1.5,
         "PetalWidthCm": 0.2,
         "SepalLengthCm": 4.6,
         "SepalWidthCm": 3.1,
         "Species": "Iris-setosa",
         "_deepnote_index_column": 3,
         "id": 4
        },
        {
         "PetalLengthCm": 1.4,
         "PetalWidthCm": 0.2,
         "SepalLengthCm": 5,
         "SepalWidthCm": 3.6,
         "Species": "Iris-setosa",
         "_deepnote_index_column": 4,
         "id": 5
        },
        {
         "PetalLengthCm": 1.7,
         "PetalWidthCm": 0.4,
         "SepalLengthCm": 5.4,
         "SepalWidthCm": 3.9,
         "Species": "Iris-setosa",
         "_deepnote_index_column": 5,
         "id": 6
        },
        {
         "PetalLengthCm": 1.4,
         "PetalWidthCm": 0.3,
         "SepalLengthCm": 4.6,
         "SepalWidthCm": 3.4,
         "Species": "Iris-setosa",
         "_deepnote_index_column": 6,
         "id": 7
        },
        {
         "PetalLengthCm": 1.5,
         "PetalWidthCm": 0.2,
         "SepalLengthCm": 5,
         "SepalWidthCm": 3.4,
         "Species": "Iris-setosa",
         "_deepnote_index_column": 7,
         "id": 8
        },
        {
         "PetalLengthCm": 1.4,
         "PetalWidthCm": 0.2,
         "SepalLengthCm": 4.4,
         "SepalWidthCm": 2.9,
         "Species": "Iris-setosa",
         "_deepnote_index_column": 8,
         "id": 9
        },
        {
         "PetalLengthCm": 1.5,
         "PetalWidthCm": 0.1,
         "SepalLengthCm": 4.9,
         "SepalWidthCm": 3.1,
         "Species": "Iris-setosa",
         "_deepnote_index_column": 9,
         "id": 10
        }
       ]
      },
      "text/html": [
       "<div>\n",
       "<style scoped>\n",
       "    .dataframe tbody tr th:only-of-type {\n",
       "        vertical-align: middle;\n",
       "    }\n",
       "\n",
       "    .dataframe tbody tr th {\n",
       "        vertical-align: top;\n",
       "    }\n",
       "\n",
       "    .dataframe thead th {\n",
       "        text-align: right;\n",
       "    }\n",
       "</style>\n",
       "<table border=\"1\" class=\"dataframe\">\n",
       "  <thead>\n",
       "    <tr style=\"text-align: right;\">\n",
       "      <th></th>\n",
       "      <th>id</th>\n",
       "      <th>SepalLengthCm</th>\n",
       "      <th>SepalWidthCm</th>\n",
       "      <th>PetalLengthCm</th>\n",
       "      <th>PetalWidthCm</th>\n",
       "      <th>Species</th>\n",
       "    </tr>\n",
       "  </thead>\n",
       "  <tbody>\n",
       "    <tr>\n",
       "      <th>0</th>\n",
       "      <td>1</td>\n",
       "      <td>5.1</td>\n",
       "      <td>3.5</td>\n",
       "      <td>1.4</td>\n",
       "      <td>0.2</td>\n",
       "      <td>Iris-setosa</td>\n",
       "    </tr>\n",
       "    <tr>\n",
       "      <th>1</th>\n",
       "      <td>2</td>\n",
       "      <td>4.9</td>\n",
       "      <td>3.0</td>\n",
       "      <td>1.4</td>\n",
       "      <td>0.2</td>\n",
       "      <td>Iris-setosa</td>\n",
       "    </tr>\n",
       "    <tr>\n",
       "      <th>2</th>\n",
       "      <td>3</td>\n",
       "      <td>4.7</td>\n",
       "      <td>3.2</td>\n",
       "      <td>1.3</td>\n",
       "      <td>0.2</td>\n",
       "      <td>Iris-setosa</td>\n",
       "    </tr>\n",
       "    <tr>\n",
       "      <th>3</th>\n",
       "      <td>4</td>\n",
       "      <td>4.6</td>\n",
       "      <td>3.1</td>\n",
       "      <td>1.5</td>\n",
       "      <td>0.2</td>\n",
       "      <td>Iris-setosa</td>\n",
       "    </tr>\n",
       "    <tr>\n",
       "      <th>4</th>\n",
       "      <td>5</td>\n",
       "      <td>5.0</td>\n",
       "      <td>3.6</td>\n",
       "      <td>1.4</td>\n",
       "      <td>0.2</td>\n",
       "      <td>Iris-setosa</td>\n",
       "    </tr>\n",
       "    <tr>\n",
       "      <th>...</th>\n",
       "      <td>...</td>\n",
       "      <td>...</td>\n",
       "      <td>...</td>\n",
       "      <td>...</td>\n",
       "      <td>...</td>\n",
       "      <td>...</td>\n",
       "    </tr>\n",
       "    <tr>\n",
       "      <th>145</th>\n",
       "      <td>146</td>\n",
       "      <td>6.7</td>\n",
       "      <td>3.0</td>\n",
       "      <td>5.2</td>\n",
       "      <td>2.3</td>\n",
       "      <td>Iris-virginica</td>\n",
       "    </tr>\n",
       "    <tr>\n",
       "      <th>146</th>\n",
       "      <td>147</td>\n",
       "      <td>6.3</td>\n",
       "      <td>2.5</td>\n",
       "      <td>5.0</td>\n",
       "      <td>1.9</td>\n",
       "      <td>Iris-virginica</td>\n",
       "    </tr>\n",
       "    <tr>\n",
       "      <th>147</th>\n",
       "      <td>148</td>\n",
       "      <td>6.5</td>\n",
       "      <td>3.0</td>\n",
       "      <td>5.2</td>\n",
       "      <td>2.0</td>\n",
       "      <td>Iris-virginica</td>\n",
       "    </tr>\n",
       "    <tr>\n",
       "      <th>148</th>\n",
       "      <td>149</td>\n",
       "      <td>6.2</td>\n",
       "      <td>3.4</td>\n",
       "      <td>5.4</td>\n",
       "      <td>2.3</td>\n",
       "      <td>Iris-virginica</td>\n",
       "    </tr>\n",
       "    <tr>\n",
       "      <th>149</th>\n",
       "      <td>150</td>\n",
       "      <td>5.9</td>\n",
       "      <td>3.0</td>\n",
       "      <td>5.1</td>\n",
       "      <td>1.8</td>\n",
       "      <td>Iris-virginica</td>\n",
       "    </tr>\n",
       "  </tbody>\n",
       "</table>\n",
       "<p>150 rows × 6 columns</p>\n",
       "</div>"
      ],
      "text/plain": [
       "      id  SepalLengthCm  SepalWidthCm  PetalLengthCm  PetalWidthCm  \\\n",
       "0      1            5.1           3.5            1.4           0.2   \n",
       "1      2            4.9           3.0            1.4           0.2   \n",
       "2      3            4.7           3.2            1.3           0.2   \n",
       "3      4            4.6           3.1            1.5           0.2   \n",
       "4      5            5.0           3.6            1.4           0.2   \n",
       "..   ...            ...           ...            ...           ...   \n",
       "145  146            6.7           3.0            5.2           2.3   \n",
       "146  147            6.3           2.5            5.0           1.9   \n",
       "147  148            6.5           3.0            5.2           2.0   \n",
       "148  149            6.2           3.4            5.4           2.3   \n",
       "149  150            5.9           3.0            5.1           1.8   \n",
       "\n",
       "            Species  \n",
       "0       Iris-setosa  \n",
       "1       Iris-setosa  \n",
       "2       Iris-setosa  \n",
       "3       Iris-setosa  \n",
       "4       Iris-setosa  \n",
       "..              ...  \n",
       "145  Iris-virginica  \n",
       "146  Iris-virginica  \n",
       "147  Iris-virginica  \n",
       "148  Iris-virginica  \n",
       "149  Iris-virginica  \n",
       "\n",
       "[150 rows x 6 columns]"
      ]
     },
     "execution_count": 22,
     "metadata": {},
     "output_type": "execute_result"
    }
   ],
   "source": [
    "df_4 = _deepnote_execute_sql('SELECT * FROM iris', 'SQL_1EBCDE9E_AE53_4FED_98A8_03783A766D52', audit_sql_comment='', sql_cache_mode='cache_disabled')\n",
    "df_4"
   ]
  },
  {
   "cell_type": "markdown",
   "metadata": {
    "cell_id": "7b0375d3054549dda1f94da54cd3544c",
    "deepnote_app_block_visible": false,
    "deepnote_cell_type": "text-cell-h2",
    "formattedRanges": [],
    "is_collapsed": false
   },
   "source": [
    "## masukkan data ke tabel baru yang berisi sepallength dari data asli, proses rata2, dan proses knn"
   ]
  },
  {
   "cell_type": "code",
   "execution_count": null,
   "metadata": {
    "cell_id": "346a6b5ca78940119f157cb9067d7334",
    "deepnote_cell_type": "code",
    "deepnote_to_be_reexecuted": false,
    "execution_millis": 33916,
    "execution_start": 1711547891462,
    "source_hash": null
   },
   "outputs": [],
   "source": [
    "import pymysql\n",
    "\n",
    "# Mengatur koneksi ke database MySQL\n",
    "host = '{YOUR_HOST}'\n",
    "user = '{YOUR_USER}'\n",
    "password = '{YOUR_PASSWORD}'\n",
    "database = 'defaultdb'\n",
    "port = 20051\n",
    "conn = pymysql.connect(host=host, user=user, password=password, database=database, port=port)\n",
    "\n",
    "# Nama kolom yang ingin dimasukkan ke dalam tabel\n",
    "kolom_id = 'id'\n",
    "kolom_1 = 'SepalLengthCm_asli'\n",
    "kolom_2 = 'SepalLengthCm_rata2'\n",
    "kolom_3 = 'SepalLengthCm_knn'\n",
    "\n",
    "# Nama tabel di database\n",
    "nama_tabel = 'data_gabung'\n",
    "\n",
    "# Mendapatkan nilai dari kolom DataFrame\n",
    "nilai_kolom_2 = df_cleaned['SepalLengthCm']\n",
    "nilai_kolom_3 = df_cleaned_knn['SepalLengthCm']\n",
    "\n",
    "# Membuat kursor untuk eksekusi perintah SQL\n",
    "cursor = conn.cursor()\n",
    "\n",
    "# Memasukkan nilai ke dalam tabel\n",
    "for id,nilai_2, nilai_3 in zip( df_cleaned['id'],nilai_kolom_2, nilai_kolom_3):\n",
    "    if pd.isnull(id):  # Jika Id kosong, gunakan pernyataan INSERT INTO\n",
    "        query = f\"INSERT INTO {nama_tabel}, {kolom_2}), {kolom_3}) VALUES ('{nilai_1}', '{nilai_2}', '{nilai_3}')\"\n",
    "    else:  # Jika Id sudah ada, gunakan pernyataan UPDATE\n",
    "        query = f\"UPDATE {nama_tabel} SET {kolom_2} = '{nilai_2}', {kolom_3} = '{nilai_3}' WHERE {kolom_id} = {id}\"\n",
    "    cursor.execute(query)\n",
    "\n",
    "# Melakukan commit untuk menyimpan perubahan\n",
    "conn.commit()\n",
    "\n",
    "# Menutup koneksi\n",
    "conn.close()"
   ]
  },
  {
   "cell_type": "code",
   "execution_count": null,
   "metadata": {
    "cell_id": "c4ba1fa76c8642678471588c6a569458",
    "deepnote_cell_type": "sql",
    "deepnote_sql_source": "SELECT * FROM data_gabung",
    "deepnote_table_loading": false,
    "deepnote_table_state": {
     "filters": [],
     "pageIndex": 0,
     "pageSize": 10,
     "sortBy": []
    },
    "deepnote_to_be_reexecuted": false,
    "deepnote_variable_name": "df_5",
    "execution_millis": 3321,
    "execution_start": 1711547925380,
    "source_hash": null,
    "sql_integration_id": "1ebcde9e-ae53-4fed-98a8-03783a766d52"
   },
   "outputs": [
    {
     "data": {
      "application/vnd.deepnote.sql-output-metadata+json": {
       "size_in_bytes": 4928,
       "status": "success_no_cache"
      }
     },
     "metadata": {},
     "output_type": "display_data"
    },
    {
     "data": {
      "application/vnd.deepnote.dataframe.v3+json": {
       "column_count": 4,
       "columns": [
        {
         "dtype": "int64",
         "name": "id",
         "stats": {
          "histogram": [
           {
            "bin_end": 15.9,
            "bin_start": 1,
            "count": 15
           },
           {
            "bin_end": 30.8,
            "bin_start": 15.9,
            "count": 15
           },
           {
            "bin_end": 45.7,
            "bin_start": 30.8,
            "count": 15
           },
           {
            "bin_end": 60.6,
            "bin_start": 45.7,
            "count": 15
           },
           {
            "bin_end": 75.5,
            "bin_start": 60.6,
            "count": 15
           },
           {
            "bin_end": 90.4,
            "bin_start": 75.5,
            "count": 15
           },
           {
            "bin_end": 105.3,
            "bin_start": 90.4,
            "count": 15
           },
           {
            "bin_end": 120.2,
            "bin_start": 105.3,
            "count": 15
           },
           {
            "bin_end": 135.1,
            "bin_start": 120.2,
            "count": 15
           },
           {
            "bin_end": 150,
            "bin_start": 135.1,
            "count": 15
           }
          ],
          "max": "150",
          "min": "1",
          "nan_count": 0,
          "unique_count": 150
         }
        },
        {
         "dtype": "float64",
         "name": "SepalLengthCm_asli",
         "stats": {
          "histogram": [
           {
            "bin_end": 4.66,
            "bin_start": 4.3,
            "count": 9
           },
           {
            "bin_end": 5.02,
            "bin_start": 4.66,
            "count": 23
           },
           {
            "bin_end": 5.38,
            "bin_start": 5.02,
            "count": 14
           },
           {
            "bin_end": 5.74,
            "bin_start": 5.38,
            "count": 27
           },
           {
            "bin_end": 6.1,
            "bin_start": 5.74,
            "count": 16
           },
           {
            "bin_end": 6.46,
            "bin_start": 6.1,
            "count": 26
           },
           {
            "bin_end": 6.82,
            "bin_start": 6.46,
            "count": 18
           },
           {
            "bin_end": 7.18,
            "bin_start": 6.82,
            "count": 6
           },
           {
            "bin_end": 7.54,
            "bin_start": 7.18,
            "count": 5
           },
           {
            "bin_end": 7.9,
            "bin_start": 7.54,
            "count": 6
           }
          ],
          "max": "7.9",
          "min": "4.3",
          "nan_count": 0,
          "unique_count": 35
         }
        },
        {
         "dtype": "float64",
         "name": "SepalLengthCm_rata2",
         "stats": {
          "histogram": [
           {
            "bin_end": 4.66,
            "bin_start": 4.3,
            "count": 8
           },
           {
            "bin_end": 5.02,
            "bin_start": 4.66,
            "count": 24
           },
           {
            "bin_end": 5.38,
            "bin_start": 5.02,
            "count": 14
           },
           {
            "bin_end": 5.74,
            "bin_start": 5.38,
            "count": 25
           },
           {
            "bin_end": 6.1,
            "bin_start": 5.74,
            "count": 16
           },
           {
            "bin_end": 6.46,
            "bin_start": 6.1,
            "count": 26
           },
           {
            "bin_end": 6.82,
            "bin_start": 6.46,
            "count": 18
           },
           {
            "bin_end": 7.18,
            "bin_start": 6.82,
            "count": 6
           },
           {
            "bin_end": 7.54,
            "bin_start": 7.18,
            "count": 5
           },
           {
            "bin_end": 7.9,
            "bin_start": 7.54,
            "count": 5
           }
          ],
          "max": "7.9",
          "min": "4.3",
          "nan_count": 3,
          "unique_count": 35
         }
        },
        {
         "dtype": "float64",
         "name": "SepalLengthCm_knn",
         "stats": {
          "histogram": [
           {
            "bin_end": 4.66,
            "bin_start": 4.3,
            "count": 8
           },
           {
            "bin_end": 5.02,
            "bin_start": 4.66,
            "count": 23
           },
           {
            "bin_end": 5.38,
            "bin_start": 5.02,
            "count": 14
           },
           {
            "bin_end": 5.74,
            "bin_start": 5.38,
            "count": 25
           },
           {
            "bin_end": 6.1,
            "bin_start": 5.74,
            "count": 18
           },
           {
            "bin_end": 6.46,
            "bin_start": 6.1,
            "count": 26
           },
           {
            "bin_end": 6.82,
            "bin_start": 6.46,
            "count": 17
           },
           {
            "bin_end": 7.18,
            "bin_start": 6.82,
            "count": 6
           },
           {
            "bin_end": 7.54,
            "bin_start": 7.18,
            "count": 5
           },
           {
            "bin_end": 7.9,
            "bin_start": 7.54,
            "count": 5
           }
          ],
          "max": "7.9",
          "min": "4.3",
          "nan_count": 3,
          "unique_count": 35
         }
        },
        {
         "dtype": "int64",
         "name": "_deepnote_index_column"
        }
       ],
       "row_count": 150,
       "rows": [
        {
         "SepalLengthCm_asli": 5.1,
         "SepalLengthCm_knn": 5.1,
         "SepalLengthCm_rata2": 5.1,
         "_deepnote_index_column": 0,
         "id": 1
        },
        {
         "SepalLengthCm_asli": 4.9,
         "SepalLengthCm_knn": 4.9,
         "SepalLengthCm_rata2": 4.9,
         "_deepnote_index_column": 1,
         "id": 2
        },
        {
         "SepalLengthCm_asli": 4.7,
         "SepalLengthCm_knn": 4.7,
         "SepalLengthCm_rata2": 4.7,
         "_deepnote_index_column": 2,
         "id": 3
        },
        {
         "SepalLengthCm_asli": 4.6,
         "SepalLengthCm_knn": 4.6,
         "SepalLengthCm_rata2": 4.6,
         "_deepnote_index_column": 3,
         "id": 4
        },
        {
         "SepalLengthCm_asli": 5,
         "SepalLengthCm_knn": 5,
         "SepalLengthCm_rata2": 5,
         "_deepnote_index_column": 4,
         "id": 5
        },
        {
         "SepalLengthCm_asli": 5.4,
         "SepalLengthCm_knn": "nan",
         "SepalLengthCm_rata2": "nan",
         "_deepnote_index_column": 5,
         "id": 6
        },
        {
         "SepalLengthCm_asli": 4.6,
         "SepalLengthCm_knn": 4.6,
         "SepalLengthCm_rata2": 4.6,
         "_deepnote_index_column": 6,
         "id": 7
        },
        {
         "SepalLengthCm_asli": 5,
         "SepalLengthCm_knn": 5,
         "SepalLengthCm_rata2": 5,
         "_deepnote_index_column": 7,
         "id": 8
        },
        {
         "SepalLengthCm_asli": 4.4,
         "SepalLengthCm_knn": 5.8,
         "SepalLengthCm_rata2": 5,
         "_deepnote_index_column": 8,
         "id": 9
        },
        {
         "SepalLengthCm_asli": 4.9,
         "SepalLengthCm_knn": 4.9,
         "SepalLengthCm_rata2": 4.9,
         "_deepnote_index_column": 9,
         "id": 10
        }
       ]
      },
      "text/html": [
       "<div>\n",
       "<style scoped>\n",
       "    .dataframe tbody tr th:only-of-type {\n",
       "        vertical-align: middle;\n",
       "    }\n",
       "\n",
       "    .dataframe tbody tr th {\n",
       "        vertical-align: top;\n",
       "    }\n",
       "\n",
       "    .dataframe thead th {\n",
       "        text-align: right;\n",
       "    }\n",
       "</style>\n",
       "<table border=\"1\" class=\"dataframe\">\n",
       "  <thead>\n",
       "    <tr style=\"text-align: right;\">\n",
       "      <th></th>\n",
       "      <th>id</th>\n",
       "      <th>SepalLengthCm_asli</th>\n",
       "      <th>SepalLengthCm_rata2</th>\n",
       "      <th>SepalLengthCm_knn</th>\n",
       "    </tr>\n",
       "  </thead>\n",
       "  <tbody>\n",
       "    <tr>\n",
       "      <th>0</th>\n",
       "      <td>1</td>\n",
       "      <td>5.1</td>\n",
       "      <td>5.1</td>\n",
       "      <td>5.1</td>\n",
       "    </tr>\n",
       "    <tr>\n",
       "      <th>1</th>\n",
       "      <td>2</td>\n",
       "      <td>4.9</td>\n",
       "      <td>4.9</td>\n",
       "      <td>4.9</td>\n",
       "    </tr>\n",
       "    <tr>\n",
       "      <th>2</th>\n",
       "      <td>3</td>\n",
       "      <td>4.7</td>\n",
       "      <td>4.7</td>\n",
       "      <td>4.7</td>\n",
       "    </tr>\n",
       "    <tr>\n",
       "      <th>3</th>\n",
       "      <td>4</td>\n",
       "      <td>4.6</td>\n",
       "      <td>4.6</td>\n",
       "      <td>4.6</td>\n",
       "    </tr>\n",
       "    <tr>\n",
       "      <th>4</th>\n",
       "      <td>5</td>\n",
       "      <td>5.0</td>\n",
       "      <td>5.0</td>\n",
       "      <td>5.0</td>\n",
       "    </tr>\n",
       "    <tr>\n",
       "      <th>...</th>\n",
       "      <td>...</td>\n",
       "      <td>...</td>\n",
       "      <td>...</td>\n",
       "      <td>...</td>\n",
       "    </tr>\n",
       "    <tr>\n",
       "      <th>145</th>\n",
       "      <td>146</td>\n",
       "      <td>6.7</td>\n",
       "      <td>6.7</td>\n",
       "      <td>6.7</td>\n",
       "    </tr>\n",
       "    <tr>\n",
       "      <th>146</th>\n",
       "      <td>147</td>\n",
       "      <td>6.3</td>\n",
       "      <td>6.3</td>\n",
       "      <td>6.3</td>\n",
       "    </tr>\n",
       "    <tr>\n",
       "      <th>147</th>\n",
       "      <td>148</td>\n",
       "      <td>6.5</td>\n",
       "      <td>6.5</td>\n",
       "      <td>6.5</td>\n",
       "    </tr>\n",
       "    <tr>\n",
       "      <th>148</th>\n",
       "      <td>149</td>\n",
       "      <td>6.2</td>\n",
       "      <td>6.2</td>\n",
       "      <td>6.2</td>\n",
       "    </tr>\n",
       "    <tr>\n",
       "      <th>149</th>\n",
       "      <td>150</td>\n",
       "      <td>5.9</td>\n",
       "      <td>5.9</td>\n",
       "      <td>5.9</td>\n",
       "    </tr>\n",
       "  </tbody>\n",
       "</table>\n",
       "<p>150 rows × 4 columns</p>\n",
       "</div>"
      ],
      "text/plain": [
       "      id  SepalLengthCm_asli  SepalLengthCm_rata2  SepalLengthCm_knn\n",
       "0      1                 5.1                  5.1                5.1\n",
       "1      2                 4.9                  4.9                4.9\n",
       "2      3                 4.7                  4.7                4.7\n",
       "3      4                 4.6                  4.6                4.6\n",
       "4      5                 5.0                  5.0                5.0\n",
       "..   ...                 ...                  ...                ...\n",
       "145  146                 6.7                  6.7                6.7\n",
       "146  147                 6.3                  6.3                6.3\n",
       "147  148                 6.5                  6.5                6.5\n",
       "148  149                 6.2                  6.2                6.2\n",
       "149  150                 5.9                  5.9                5.9\n",
       "\n",
       "[150 rows x 4 columns]"
      ]
     },
     "execution_count": 24,
     "metadata": {},
     "output_type": "execute_result"
    }
   ],
   "source": [
    "df_5 = _deepnote_execute_sql('SELECT * FROM data_gabung', 'SQL_1EBCDE9E_AE53_4FED_98A8_03783A766D52', audit_sql_comment='', sql_cache_mode='cache_disabled')\n",
    "df_5"
   ]
  },
  {
   "cell_type": "markdown",
   "metadata": {
    "cell_id": "7bc58457d1504d99a1fe93f01215d1e5",
    "deepnote_cell_type": "text-cell-h1",
    "formattedRanges": []
   },
   "source": [
    "# Deteksi Outliers (Local Outlier Factor)"
   ]
  },
  {
   "cell_type": "markdown",
   "metadata": {
    "cell_id": "cab6d33c81a949efaad384d45c7304dd",
    "deepnote_app_block_visible": false,
    "deepnote_cell_type": "text-cell-h2",
    "formattedRanges": [],
    "is_collapsed": false
   },
   "source": [
    "## Konsep Local Outlier"
   ]
  },
  {
   "cell_type": "markdown",
   "metadata": {
    "cell_id": "afc8b13b3d464eba9c17db670ca82a9e",
    "deepnote_app_block_visible": false,
    "deepnote_cell_type": "text-cell-p",
    "formattedRanges": [],
    "is_collapsed": false
   },
   "source": [
    "Outlier adalah bagian dari data yang sangat berbeda dari sebagian besar data lainnya. Mungkin sulit untuk menentukan apa yang tepat dianggap sebagai outlier, karena bisa bersifat subjektif. Outlier dapat dianggap sebagai bagian data yang sangat rendah atau tinggi, jauh dari rata-rata atau norma dari kumpulan data. Outlier bisa disebabkan oleh kebetulan atau kesalahan dalam pengukuran. Hal ini dapat mempengaruhi hasil analisis data secara keseluruhan, sehingga penting untuk mengidentifikasi dan menghapus outlier dari data. Ada berbagai cara untuk mengidentifikasi outlier, dan tidak ada cara baku yang tepat untuk setiap data. Dalam bagian selanjutnya, akan dibahas 5 cara untuk mendeteksi outlier."
   ]
  },
  {
   "cell_type": "markdown",
   "metadata": {
    "cell_id": "a47d8c578c734f42aac7d35bcb3dc5a8",
    "deepnote_app_block_visible": false,
    "deepnote_cell_type": "text-cell-h2",
    "formattedRanges": [],
    "is_collapsed": false
   },
   "source": [
    "## Menghitung Manual Local Outlier"
   ]
  },
  {
   "cell_type": "markdown",
   "metadata": {
    "cell_id": "bc24730a190a4891ac74f6fb52acf225",
    "deepnote_app_block_visible": false,
    "deepnote_cell_type": "text-cell-p",
    "formattedRanges": [],
    "is_collapsed": false
   },
   "source": [
    "data contoh dengan tipe numerik 3 fitur , jumlah data 10, K = 3, p=2 (euclidian)"
   ]
  },
  {
   "cell_type": "markdown",
   "metadata": {
    "cell_id": "fa9c8d23ca974823a447e45bd6cc94eb",
    "deepnote_cell_type": "text-cell-p",
    "formattedRanges": []
   },
   "source": []
  },
  {
   "cell_type": "markdown",
   "metadata": {
    "cell_id": "0de70e1512e04d4391a0181576d2352b",
    "deepnote_cell_type": "image",
    "deepnote_img_alignment": "left",
    "deepnote_img_src": "image-20240321-012506.png"
   },
   "source": [
    "<img src=\"foto/image-20240321-012506.png\" width=\"\" align=\"left\" />"
   ]
  },
  {
   "cell_type": "markdown",
   "metadata": {
    "cell_id": "9127e8b0114141a896137fca0b77aef6",
    "deepnote_cell_type": "text-cell-p",
    "formattedRanges": []
   },
   "source": []
  },
  {
   "cell_type": "markdown",
   "metadata": {
    "cell_id": "3a2f0b2297f9433da0b1d996827b369c",
    "deepnote_app_block_visible": false,
    "deepnote_cell_type": "text-cell-bullet",
    "formattedRanges": [],
    "is_collapsed": false
   },
   "source": [
    "- step 1 hitung jarak antar setiap data dengan euclidean"
   ]
  },
  {
   "cell_type": "markdown",
   "metadata": {
    "cell_id": "bfaeb71c2b3041f5b28706d3d8c2bb7d",
    "deepnote_cell_type": "text-cell-p",
    "formattedRanges": []
   },
   "source": []
  },
  {
   "cell_type": "markdown",
   "metadata": {
    "cell_id": "163836a03cea450cb7332e1f89753c78",
    "deepnote_cell_type": "image",
    "deepnote_img_alignment": "left",
    "deepnote_img_src": "image-20240321-001910.png"
   },
   "source": [
    "<img src=\"foto/image-20240321-001910.png\" width=\"\" align=\"left\" />"
   ]
  },
  {
   "cell_type": "markdown",
   "metadata": {
    "cell_id": "3b498b198b1c4e37b1ca126999b3cd73",
    "deepnote_app_block_visible": false,
    "deepnote_cell_type": "text-cell-bullet",
    "formattedRanges": [],
    "is_collapsed": false
   },
   "source": [
    "- step 2 Menentukan k-Nearest Neighbors (k= 3)"
   ]
  },
  {
   "cell_type": "markdown",
   "metadata": {
    "cell_id": "577369d79c1846fda32b07485978718b",
    "deepnote_cell_type": "image",
    "deepnote_img_alignment": "left",
    "deepnote_img_src": "image-20240321-001954.png"
   },
   "source": [
    "<img src=\"foto/image-20240321-001954.png\" width=\"\" align=\"left\" />"
   ]
  },
  {
   "cell_type": "markdown",
   "metadata": {
    "cell_id": "ba1cb3454436466a8502fb0bf9d86a77",
    "deepnote_app_block_visible": false,
    "deepnote_cell_type": "text-cell-bullet",
    "formattedRanges": [],
    "is_collapsed": false
   },
   "source": [
    "- step 3 Menghitung Local Reachability Density (LRD)"
   ]
  },
  {
   "cell_type": "markdown",
   "metadata": {
    "cell_id": "65a7ba7f69fc4e42a2fd69282254e9f4",
    "deepnote_app_block_visible": false,
    "deepnote_cell_type": "text-cell-bullet",
    "formattedRanges": [],
    "is_collapsed": false
   },
   "source": [
    "- k-distance neighborhood of o, Nk(o) = {o’| \n",
    "o’ in D, dist(o, o’) ≤ distk(o)}"
   ]
  },
  {
   "cell_type": "markdown",
   "metadata": {
    "cell_id": "78201b352f264607ae3aa1f6363747df",
    "deepnote_cell_type": "text-cell-p",
    "formattedRanges": []
   },
   "source": []
  },
  {
   "cell_type": "markdown",
   "metadata": {
    "cell_id": "ec797bd438e64f70b31fb08798b607b0",
    "deepnote_cell_type": "image",
    "deepnote_img_alignment": "left",
    "deepnote_img_src": "image-20240321-002033.png"
   },
   "source": [
    "<img src=\"foto/image-20240321-002033.png\" width=\"\" align=\"left\" />"
   ]
  },
  {
   "cell_type": "markdown",
   "metadata": {
    "cell_id": "5cf9decbbf854d6ea8e8eef4fef812cf",
    "deepnote_app_block_visible": false,
    "deepnote_cell_type": "text-cell-bullet",
    "formattedRanges": [],
    "is_collapsed": false
   },
   "source": [
    "- || Nk(o) || means the number of objects in Nk(o)"
   ]
  },
  {
   "cell_type": "markdown",
   "metadata": {
    "cell_id": "d9db4b6a2a5c42189c08e48112fc94e6",
    "deepnote_cell_type": "text-cell-p",
    "formattedRanges": []
   },
   "source": []
  },
  {
   "cell_type": "markdown",
   "metadata": {
    "cell_id": "1237b0ebea2249fc8257ef84ce4ec1b1",
    "deepnote_cell_type": "image",
    "deepnote_img_alignment": "left",
    "deepnote_img_src": "image-20240321-002111.png"
   },
   "source": [
    "<img src=\"foto/image-20240321-002111.png\" width=\"\" align=\"left\" />"
   ]
  },
  {
   "cell_type": "markdown",
   "metadata": {
    "cell_id": "6ca6f43756704ee1a70452b838150426",
    "deepnote_app_block_visible": false,
    "deepnote_cell_type": "text-cell-bullet",
    "formattedRanges": [],
    "is_collapsed": false
   },
   "source": [
    "- Menghitung RD dengan rumus :"
   ]
  },
  {
   "cell_type": "markdown",
   "metadata": {
    "cell_id": "c14d068b8137448d857718e5284eb20f",
    "deepnote_cell_type": "image",
    "deepnote_img_alignment": "left",
    "deepnote_img_src": "image-20240320-002729.png"
   },
   "source": [
    "<img src=\"foto/image-20240320-002729.png\" width=\"\" align=\"left\" />"
   ]
  },
  {
   "cell_type": "markdown",
   "metadata": {
    "cell_id": "6d1aee5dc26447cfb19b46d1cd577050",
    "deepnote_cell_type": "text-cell-p",
    "formattedRanges": []
   },
   "source": []
  },
  {
   "cell_type": "markdown",
   "metadata": {
    "cell_id": "b9f4957e7aaa446196acb025ffeffb59",
    "deepnote_cell_type": "image",
    "deepnote_img_src": "image-20240321-002148.png"
   },
   "source": [
    "<img src=\"foto/image-20240321-002148.png\" width=\"\" align=\"\" />"
   ]
  },
  {
   "cell_type": "markdown",
   "metadata": {
    "cell_id": "13f6f3e00ae1404883adbf1799f3053f",
    "deepnote_app_block_visible": false,
    "deepnote_cell_type": "text-cell-bullet",
    "formattedRanges": [],
    "is_collapsed": false
   },
   "source": [
    "- Menghitung LRD dengan rumus :"
   ]
  },
  {
   "cell_type": "markdown",
   "metadata": {
    "cell_id": "8e36d8d299854a15943083bd09f4e8c8",
    "deepnote_cell_type": "image",
    "deepnote_img_alignment": "left",
    "deepnote_img_src": "image-20240320-003001.png"
   },
   "source": [
    "<img src=\"foto/image-20240320-003001.png\" width=\"\" align=\"left\" />"
   ]
  },
  {
   "cell_type": "markdown",
   "metadata": {
    "cell_id": "2b19b1417b154817a5243b5717c24fdd",
    "deepnote_cell_type": "text-cell-p",
    "formattedRanges": []
   },
   "source": []
  },
  {
   "cell_type": "markdown",
   "metadata": {
    "cell_id": "d56cee3fe63e4f64baafdac468b15571",
    "deepnote_cell_type": "image",
    "deepnote_img_src": "image-20240321-002215.png"
   },
   "source": [
    "<img src=\"foto/image-20240321-002215.png\" width=\"\" align=\"\" />"
   ]
  },
  {
   "cell_type": "markdown",
   "metadata": {
    "cell_id": "ffd88e91de7b4a6eb38987d0a3273ab3",
    "deepnote_app_block_visible": false,
    "deepnote_cell_type": "text-cell-bullet",
    "formattedRanges": [],
    "is_collapsed": false
   },
   "source": [
    "- Step 4 calculate all the LOFk(o) "
   ]
  },
  {
   "cell_type": "markdown",
   "metadata": {
    "cell_id": "03bd55949c73478b89e787024b2c6d3b",
    "deepnote_cell_type": "text-cell-p",
    "formattedRanges": []
   },
   "source": []
  },
  {
   "cell_type": "markdown",
   "metadata": {
    "cell_id": "653726e882ea45568d1b6a608cda38ed",
    "deepnote_cell_type": "image",
    "deepnote_img_src": "image-20240321-002246.png"
   },
   "source": [
    "<img src=\"foto/image-20240321-002246.png\" width=\"\" align=\"\" />"
   ]
  },
  {
   "cell_type": "markdown",
   "metadata": {
    "cell_id": "99cabd9356fe47adaa5a267f39988947",
    "deepnote_app_block_visible": false,
    "deepnote_cell_type": "text-cell-bullet",
    "formattedRanges": [],
    "is_collapsed": false
   },
   "source": [
    "- Mengurutkan nilai outliernya "
   ]
  },
  {
   "cell_type": "markdown",
   "metadata": {
    "cell_id": "91029ea174df49ef8afe7a89bf2651d6",
    "deepnote_cell_type": "text-cell-p",
    "formattedRanges": []
   },
   "source": [
    "Sort all the LOFk(o)\t\n",
    "LOF3(e) =  78.888\t\n",
    "LOF3(j) = 37,172\t\n",
    "LOF3(f) =  21.197\t\n",
    "LOF3(c) = 15.221\t\n",
    "LOF3(h) = 12.747\t\n",
    "LOF3(i) = 10,186\t\n",
    "LOF3(g) = 9.378\t\n",
    "LOF3(b) = 8.828\t\n",
    "LOF3(a) = 7.736\t\n",
    "LOF3(d) = 7.392\t\n"
   ]
  },
  {
   "cell_type": "markdown",
   "metadata": {
    "cell_id": "934be8a966cb499ab2c02ddc0d8b70b4",
    "deepnote_cell_type": "text-cell-h2",
    "formattedRanges": []
   },
   "source": [
    "## Menghitung outlier menggunakan python(scikit learn)"
   ]
  },
  {
   "cell_type": "markdown",
   "metadata": {
    "cell_id": "615817a3bbbd49809d7634f599cdf52c",
    "deepnote_cell_type": "text-cell-p",
    "formattedRanges": []
   },
   "source": [
    "Label -1 menunjukkan bahwa sampel dianggap sebagai outlier, sementara label 1 menunjukkan bahwa sampel dianggap sebagai data normal."
   ]
  },
  {
   "cell_type": "code",
   "execution_count": null,
   "metadata": {
    "cell_id": "a619263973b345e9a59938062318e834",
    "deepnote_cell_type": "code",
    "deepnote_to_be_reexecuted": false,
    "execution_millis": 221,
    "execution_start": 1711547928712,
    "source_hash": null
   },
   "outputs": [
    {
     "name": "stdout",
     "output_type": "stream",
     "text": [
      "Predicted table: [ 1  1 -1  1  1  1  1  1  1  1]\n",
      "Negative LOF scores: [1.10945798 0.89650378 1.56719796 0.93491262 1.09532716 1.0180369\n",
      " 1.029565   1.20000458 0.98197218 1.3103592 ]\n"
     ]
    }
   ],
   "source": [
    "from sklearn.neighbors import LocalOutlierFactor\n",
    "import numpy as np\n",
    "\n",
    "X = [\n",
    "    (0,0,1),\n",
    "    (2,1,2),\n",
    "    (0,3,3),\n",
    "    (1,2,2),\n",
    "    (3,2,2),\n",
    "    (1,1,1),\n",
    "    (2,2,2),\n",
    "    (0,0,0),\n",
    "    (0,1,2),\n",
    "    (3,3,3)\n",
    "\n",
    "]\n",
    "\n",
    "lof = LocalOutlierFactor(n_neighbors=3, contamination=0.1)\n",
    "\n",
    "y_pred = lof.fit_predict(X)\n",
    "\n",
    "print(\"Predicted table:\", y_pred)\n",
    "print(\"Negative LOF scores:\", -lof.negative_outlier_factor_)  # Ubah tanda negatif untuk mendapatkan nilai LOF positif"
   ]
  },
  {
   "cell_type": "code",
   "execution_count": null,
   "metadata": {
    "cell_id": "56aaedb23ac7496f87b8d2477ba3f7e8",
    "deepnote_cell_type": "sql",
    "deepnote_sql_source": "SELECT * FROM iris\n\n",
    "deepnote_to_be_reexecuted": false,
    "deepnote_variable_name": "df_6",
    "execution_millis": 3135,
    "execution_start": 1711547928717,
    "source_hash": null,
    "sql_integration_id": "1ebcde9e-ae53-4fed-98a8-03783a766d52"
   },
   "outputs": [
    {
     "data": {
      "application/vnd.deepnote.sql-output-metadata+json": {
       "size_in_bytes": 16678,
       "status": "success_no_cache"
      }
     },
     "metadata": {},
     "output_type": "display_data"
    },
    {
     "data": {
      "application/vnd.deepnote.dataframe.v3+json": {
       "column_count": 6,
       "columns": [
        {
         "dtype": "int64",
         "name": "id",
         "stats": {
          "histogram": [
           {
            "bin_end": 15.9,
            "bin_start": 1,
            "count": 15
           },
           {
            "bin_end": 30.8,
            "bin_start": 15.9,
            "count": 15
           },
           {
            "bin_end": 45.7,
            "bin_start": 30.8,
            "count": 15
           },
           {
            "bin_end": 60.6,
            "bin_start": 45.7,
            "count": 15
           },
           {
            "bin_end": 75.5,
            "bin_start": 60.6,
            "count": 15
           },
           {
            "bin_end": 90.4,
            "bin_start": 75.5,
            "count": 15
           },
           {
            "bin_end": 105.3,
            "bin_start": 90.4,
            "count": 15
           },
           {
            "bin_end": 120.2,
            "bin_start": 105.3,
            "count": 15
           },
           {
            "bin_end": 135.1,
            "bin_start": 120.2,
            "count": 15
           },
           {
            "bin_end": 150,
            "bin_start": 135.1,
            "count": 15
           }
          ],
          "max": "150",
          "min": "1",
          "nan_count": 0,
          "unique_count": 150
         }
        },
        {
         "dtype": "float64",
         "name": "SepalLengthCm",
         "stats": {
          "histogram": [
           {
            "bin_end": 4.66,
            "bin_start": 4.3,
            "count": 9
           },
           {
            "bin_end": 5.02,
            "bin_start": 4.66,
            "count": 23
           },
           {
            "bin_end": 5.38,
            "bin_start": 5.02,
            "count": 14
           },
           {
            "bin_end": 5.74,
            "bin_start": 5.38,
            "count": 27
           },
           {
            "bin_end": 6.1,
            "bin_start": 5.74,
            "count": 16
           },
           {
            "bin_end": 6.46,
            "bin_start": 6.1,
            "count": 26
           },
           {
            "bin_end": 6.82,
            "bin_start": 6.46,
            "count": 18
           },
           {
            "bin_end": 7.18,
            "bin_start": 6.82,
            "count": 6
           },
           {
            "bin_end": 7.54,
            "bin_start": 7.18,
            "count": 5
           },
           {
            "bin_end": 7.9,
            "bin_start": 7.54,
            "count": 6
           }
          ],
          "max": "7.9",
          "min": "4.3",
          "nan_count": 0,
          "unique_count": 35
         }
        },
        {
         "dtype": "float64",
         "name": "SepalWidthCm",
         "stats": {
          "histogram": [
           {
            "bin_end": 2.24,
            "bin_start": 2,
            "count": 4
           },
           {
            "bin_end": 2.48,
            "bin_start": 2.24,
            "count": 7
           },
           {
            "bin_end": 2.72,
            "bin_start": 2.48,
            "count": 22
           },
           {
            "bin_end": 2.96,
            "bin_start": 2.72,
            "count": 24
           },
           {
            "bin_end": 3.2,
            "bin_start": 2.96,
            "count": 38
           },
           {
            "bin_end": 3.4400000000000004,
            "bin_start": 3.2,
            "count": 31
           },
           {
            "bin_end": 3.6800000000000006,
            "bin_start": 3.4400000000000004,
            "count": 9
           },
           {
            "bin_end": 3.9200000000000004,
            "bin_start": 3.6800000000000006,
            "count": 11
           },
           {
            "bin_end": 4.16,
            "bin_start": 3.9200000000000004,
            "count": 2
           },
           {
            "bin_end": 4.4,
            "bin_start": 4.16,
            "count": 2
           }
          ],
          "max": "4.4",
          "min": "2.0",
          "nan_count": 0,
          "unique_count": 23
         }
        },
        {
         "dtype": "float64",
         "name": "PetalLengthCm",
         "stats": {
          "histogram": [
           {
            "bin_end": 1.59,
            "bin_start": 1,
            "count": 37
           },
           {
            "bin_end": 2.18,
            "bin_start": 1.59,
            "count": 13
           },
           {
            "bin_end": 2.7700000000000005,
            "bin_start": 2.18,
            "count": 0
           },
           {
            "bin_end": 3.3600000000000003,
            "bin_start": 2.7700000000000005,
            "count": 3
           },
           {
            "bin_end": 3.95,
            "bin_start": 3.3600000000000003,
            "count": 8
           },
           {
            "bin_end": 4.540000000000001,
            "bin_start": 3.95,
            "count": 26
           },
           {
            "bin_end": 5.130000000000001,
            "bin_start": 4.540000000000001,
            "count": 29
           },
           {
            "bin_end": 5.720000000000001,
            "bin_start": 5.130000000000001,
            "count": 18
           },
           {
            "bin_end": 6.3100000000000005,
            "bin_start": 5.720000000000001,
            "count": 11
           },
           {
            "bin_end": 6.9,
            "bin_start": 6.3100000000000005,
            "count": 5
           }
          ],
          "max": "6.9",
          "min": "1.0",
          "nan_count": 0,
          "unique_count": 43
         }
        },
        {
         "dtype": "float64",
         "name": "PetalWidthCm",
         "stats": {
          "histogram": [
           {
            "bin_end": 0.33999999999999997,
            "bin_start": 0.1,
            "count": 41
           },
           {
            "bin_end": 0.58,
            "bin_start": 0.33999999999999997,
            "count": 8
           },
           {
            "bin_end": 0.82,
            "bin_start": 0.58,
            "count": 1
           },
           {
            "bin_end": 1.06,
            "bin_start": 0.82,
            "count": 7
           },
           {
            "bin_end": 1.3,
            "bin_start": 1.06,
            "count": 8
           },
           {
            "bin_end": 1.54,
            "bin_start": 1.3,
            "count": 33
           },
           {
            "bin_end": 1.78,
            "bin_start": 1.54,
            "count": 6
           },
           {
            "bin_end": 2.02,
            "bin_start": 1.78,
            "count": 23
           },
           {
            "bin_end": 2.2600000000000002,
            "bin_start": 2.02,
            "count": 9
           },
           {
            "bin_end": 2.5,
            "bin_start": 2.2600000000000002,
            "count": 14
           }
          ],
          "max": "2.5",
          "min": "0.1",
          "nan_count": 0,
          "unique_count": 22
         }
        },
        {
         "dtype": "object",
         "name": "Species",
         "stats": {
          "categories": [
           {
            "count": 50,
            "name": "Iris-setosa"
           },
           {
            "count": 50,
            "name": "Iris-versicolor"
           },
           {
            "count": 50,
            "name": "Iris-virginica"
           }
          ],
          "nan_count": 0,
          "unique_count": 3
         }
        },
        {
         "dtype": "int64",
         "name": "_deepnote_index_column"
        }
       ],
       "row_count": 150,
       "rows": [
        {
         "PetalLengthCm": 1.4,
         "PetalWidthCm": 0.2,
         "SepalLengthCm": 5.1,
         "SepalWidthCm": 3.5,
         "Species": "Iris-setosa",
         "_deepnote_index_column": 0,
         "id": 1
        },
        {
         "PetalLengthCm": 1.4,
         "PetalWidthCm": 0.2,
         "SepalLengthCm": 4.9,
         "SepalWidthCm": 3,
         "Species": "Iris-setosa",
         "_deepnote_index_column": 1,
         "id": 2
        },
        {
         "PetalLengthCm": 1.3,
         "PetalWidthCm": 0.2,
         "SepalLengthCm": 4.7,
         "SepalWidthCm": 3.2,
         "Species": "Iris-setosa",
         "_deepnote_index_column": 2,
         "id": 3
        },
        {
         "PetalLengthCm": 1.5,
         "PetalWidthCm": 0.2,
         "SepalLengthCm": 4.6,
         "SepalWidthCm": 3.1,
         "Species": "Iris-setosa",
         "_deepnote_index_column": 3,
         "id": 4
        },
        {
         "PetalLengthCm": 1.4,
         "PetalWidthCm": 0.2,
         "SepalLengthCm": 5,
         "SepalWidthCm": 3.6,
         "Species": "Iris-setosa",
         "_deepnote_index_column": 4,
         "id": 5
        },
        {
         "PetalLengthCm": 1.7,
         "PetalWidthCm": 0.4,
         "SepalLengthCm": 5.4,
         "SepalWidthCm": 3.9,
         "Species": "Iris-setosa",
         "_deepnote_index_column": 5,
         "id": 6
        },
        {
         "PetalLengthCm": 1.4,
         "PetalWidthCm": 0.3,
         "SepalLengthCm": 4.6,
         "SepalWidthCm": 3.4,
         "Species": "Iris-setosa",
         "_deepnote_index_column": 6,
         "id": 7
        },
        {
         "PetalLengthCm": 1.5,
         "PetalWidthCm": 0.2,
         "SepalLengthCm": 5,
         "SepalWidthCm": 3.4,
         "Species": "Iris-setosa",
         "_deepnote_index_column": 7,
         "id": 8
        },
        {
         "PetalLengthCm": 1.4,
         "PetalWidthCm": 0.2,
         "SepalLengthCm": 4.4,
         "SepalWidthCm": 2.9,
         "Species": "Iris-setosa",
         "_deepnote_index_column": 8,
         "id": 9
        },
        {
         "PetalLengthCm": 1.5,
         "PetalWidthCm": 0.1,
         "SepalLengthCm": 4.9,
         "SepalWidthCm": 3.1,
         "Species": "Iris-setosa",
         "_deepnote_index_column": 9,
         "id": 10
        }
       ]
      },
      "text/html": [
       "<div>\n",
       "<style scoped>\n",
       "    .dataframe tbody tr th:only-of-type {\n",
       "        vertical-align: middle;\n",
       "    }\n",
       "\n",
       "    .dataframe tbody tr th {\n",
       "        vertical-align: top;\n",
       "    }\n",
       "\n",
       "    .dataframe thead th {\n",
       "        text-align: right;\n",
       "    }\n",
       "</style>\n",
       "<table border=\"1\" class=\"dataframe\">\n",
       "  <thead>\n",
       "    <tr style=\"text-align: right;\">\n",
       "      <th></th>\n",
       "      <th>id</th>\n",
       "      <th>SepalLengthCm</th>\n",
       "      <th>SepalWidthCm</th>\n",
       "      <th>PetalLengthCm</th>\n",
       "      <th>PetalWidthCm</th>\n",
       "      <th>Species</th>\n",
       "    </tr>\n",
       "  </thead>\n",
       "  <tbody>\n",
       "    <tr>\n",
       "      <th>0</th>\n",
       "      <td>1</td>\n",
       "      <td>5.1</td>\n",
       "      <td>3.5</td>\n",
       "      <td>1.4</td>\n",
       "      <td>0.2</td>\n",
       "      <td>Iris-setosa</td>\n",
       "    </tr>\n",
       "    <tr>\n",
       "      <th>1</th>\n",
       "      <td>2</td>\n",
       "      <td>4.9</td>\n",
       "      <td>3.0</td>\n",
       "      <td>1.4</td>\n",
       "      <td>0.2</td>\n",
       "      <td>Iris-setosa</td>\n",
       "    </tr>\n",
       "    <tr>\n",
       "      <th>2</th>\n",
       "      <td>3</td>\n",
       "      <td>4.7</td>\n",
       "      <td>3.2</td>\n",
       "      <td>1.3</td>\n",
       "      <td>0.2</td>\n",
       "      <td>Iris-setosa</td>\n",
       "    </tr>\n",
       "    <tr>\n",
       "      <th>3</th>\n",
       "      <td>4</td>\n",
       "      <td>4.6</td>\n",
       "      <td>3.1</td>\n",
       "      <td>1.5</td>\n",
       "      <td>0.2</td>\n",
       "      <td>Iris-setosa</td>\n",
       "    </tr>\n",
       "    <tr>\n",
       "      <th>4</th>\n",
       "      <td>5</td>\n",
       "      <td>5.0</td>\n",
       "      <td>3.6</td>\n",
       "      <td>1.4</td>\n",
       "      <td>0.2</td>\n",
       "      <td>Iris-setosa</td>\n",
       "    </tr>\n",
       "    <tr>\n",
       "      <th>...</th>\n",
       "      <td>...</td>\n",
       "      <td>...</td>\n",
       "      <td>...</td>\n",
       "      <td>...</td>\n",
       "      <td>...</td>\n",
       "      <td>...</td>\n",
       "    </tr>\n",
       "    <tr>\n",
       "      <th>145</th>\n",
       "      <td>146</td>\n",
       "      <td>6.7</td>\n",
       "      <td>3.0</td>\n",
       "      <td>5.2</td>\n",
       "      <td>2.3</td>\n",
       "      <td>Iris-virginica</td>\n",
       "    </tr>\n",
       "    <tr>\n",
       "      <th>146</th>\n",
       "      <td>147</td>\n",
       "      <td>6.3</td>\n",
       "      <td>2.5</td>\n",
       "      <td>5.0</td>\n",
       "      <td>1.9</td>\n",
       "      <td>Iris-virginica</td>\n",
       "    </tr>\n",
       "    <tr>\n",
       "      <th>147</th>\n",
       "      <td>148</td>\n",
       "      <td>6.5</td>\n",
       "      <td>3.0</td>\n",
       "      <td>5.2</td>\n",
       "      <td>2.0</td>\n",
       "      <td>Iris-virginica</td>\n",
       "    </tr>\n",
       "    <tr>\n",
       "      <th>148</th>\n",
       "      <td>149</td>\n",
       "      <td>6.2</td>\n",
       "      <td>3.4</td>\n",
       "      <td>5.4</td>\n",
       "      <td>2.3</td>\n",
       "      <td>Iris-virginica</td>\n",
       "    </tr>\n",
       "    <tr>\n",
       "      <th>149</th>\n",
       "      <td>150</td>\n",
       "      <td>5.9</td>\n",
       "      <td>3.0</td>\n",
       "      <td>5.1</td>\n",
       "      <td>1.8</td>\n",
       "      <td>Iris-virginica</td>\n",
       "    </tr>\n",
       "  </tbody>\n",
       "</table>\n",
       "<p>150 rows × 6 columns</p>\n",
       "</div>"
      ],
      "text/plain": [
       "      id  SepalLengthCm  SepalWidthCm  PetalLengthCm  PetalWidthCm  \\\n",
       "0      1            5.1           3.5            1.4           0.2   \n",
       "1      2            4.9           3.0            1.4           0.2   \n",
       "2      3            4.7           3.2            1.3           0.2   \n",
       "3      4            4.6           3.1            1.5           0.2   \n",
       "4      5            5.0           3.6            1.4           0.2   \n",
       "..   ...            ...           ...            ...           ...   \n",
       "145  146            6.7           3.0            5.2           2.3   \n",
       "146  147            6.3           2.5            5.0           1.9   \n",
       "147  148            6.5           3.0            5.2           2.0   \n",
       "148  149            6.2           3.4            5.4           2.3   \n",
       "149  150            5.9           3.0            5.1           1.8   \n",
       "\n",
       "            Species  \n",
       "0       Iris-setosa  \n",
       "1       Iris-setosa  \n",
       "2       Iris-setosa  \n",
       "3       Iris-setosa  \n",
       "4       Iris-setosa  \n",
       "..              ...  \n",
       "145  Iris-virginica  \n",
       "146  Iris-virginica  \n",
       "147  Iris-virginica  \n",
       "148  Iris-virginica  \n",
       "149  Iris-virginica  \n",
       "\n",
       "[150 rows x 6 columns]"
      ]
     },
     "execution_count": 26,
     "metadata": {},
     "output_type": "execute_result"
    }
   ],
   "source": [
    "df_6 = _deepnote_execute_sql('SELECT * FROM iris\\n\\n', 'SQL_1EBCDE9E_AE53_4FED_98A8_03783A766D52', audit_sql_comment='', sql_cache_mode='cache_disabled')\n",
    "df_6"
   ]
  },
  {
   "cell_type": "code",
   "execution_count": null,
   "metadata": {
    "cell_id": "f52173dd621449f9b65bc73761bfda40",
    "deepnote_cell_type": "sql",
    "deepnote_sql_source": "SELECT * FROM data_gabung",
    "deepnote_to_be_reexecuted": false,
    "deepnote_variable_name": "df_7",
    "execution_millis": 3444,
    "execution_start": 1711547931864,
    "source_hash": null,
    "sql_integration_id": "1ebcde9e-ae53-4fed-98a8-03783a766d52"
   },
   "outputs": [
    {
     "data": {
      "application/vnd.deepnote.sql-output-metadata+json": {
       "size_in_bytes": 4928,
       "status": "success_no_cache"
      }
     },
     "metadata": {},
     "output_type": "display_data"
    },
    {
     "data": {
      "application/vnd.deepnote.dataframe.v3+json": {
       "column_count": 4,
       "columns": [
        {
         "dtype": "int64",
         "name": "id",
         "stats": {
          "histogram": [
           {
            "bin_end": 15.9,
            "bin_start": 1,
            "count": 15
           },
           {
            "bin_end": 30.8,
            "bin_start": 15.9,
            "count": 15
           },
           {
            "bin_end": 45.7,
            "bin_start": 30.8,
            "count": 15
           },
           {
            "bin_end": 60.6,
            "bin_start": 45.7,
            "count": 15
           },
           {
            "bin_end": 75.5,
            "bin_start": 60.6,
            "count": 15
           },
           {
            "bin_end": 90.4,
            "bin_start": 75.5,
            "count": 15
           },
           {
            "bin_end": 105.3,
            "bin_start": 90.4,
            "count": 15
           },
           {
            "bin_end": 120.2,
            "bin_start": 105.3,
            "count": 15
           },
           {
            "bin_end": 135.1,
            "bin_start": 120.2,
            "count": 15
           },
           {
            "bin_end": 150,
            "bin_start": 135.1,
            "count": 15
           }
          ],
          "max": "150",
          "min": "1",
          "nan_count": 0,
          "unique_count": 150
         }
        },
        {
         "dtype": "float64",
         "name": "SepalLengthCm_asli",
         "stats": {
          "histogram": [
           {
            "bin_end": 4.66,
            "bin_start": 4.3,
            "count": 9
           },
           {
            "bin_end": 5.02,
            "bin_start": 4.66,
            "count": 23
           },
           {
            "bin_end": 5.38,
            "bin_start": 5.02,
            "count": 14
           },
           {
            "bin_end": 5.74,
            "bin_start": 5.38,
            "count": 27
           },
           {
            "bin_end": 6.1,
            "bin_start": 5.74,
            "count": 16
           },
           {
            "bin_end": 6.46,
            "bin_start": 6.1,
            "count": 26
           },
           {
            "bin_end": 6.82,
            "bin_start": 6.46,
            "count": 18
           },
           {
            "bin_end": 7.18,
            "bin_start": 6.82,
            "count": 6
           },
           {
            "bin_end": 7.54,
            "bin_start": 7.18,
            "count": 5
           },
           {
            "bin_end": 7.9,
            "bin_start": 7.54,
            "count": 6
           }
          ],
          "max": "7.9",
          "min": "4.3",
          "nan_count": 0,
          "unique_count": 35
         }
        },
        {
         "dtype": "float64",
         "name": "SepalLengthCm_rata2",
         "stats": {
          "histogram": [
           {
            "bin_end": 4.66,
            "bin_start": 4.3,
            "count": 8
           },
           {
            "bin_end": 5.02,
            "bin_start": 4.66,
            "count": 24
           },
           {
            "bin_end": 5.38,
            "bin_start": 5.02,
            "count": 14
           },
           {
            "bin_end": 5.74,
            "bin_start": 5.38,
            "count": 25
           },
           {
            "bin_end": 6.1,
            "bin_start": 5.74,
            "count": 16
           },
           {
            "bin_end": 6.46,
            "bin_start": 6.1,
            "count": 26
           },
           {
            "bin_end": 6.82,
            "bin_start": 6.46,
            "count": 18
           },
           {
            "bin_end": 7.18,
            "bin_start": 6.82,
            "count": 6
           },
           {
            "bin_end": 7.54,
            "bin_start": 7.18,
            "count": 5
           },
           {
            "bin_end": 7.9,
            "bin_start": 7.54,
            "count": 5
           }
          ],
          "max": "7.9",
          "min": "4.3",
          "nan_count": 3,
          "unique_count": 35
         }
        },
        {
         "dtype": "float64",
         "name": "SepalLengthCm_knn",
         "stats": {
          "histogram": [
           {
            "bin_end": 4.66,
            "bin_start": 4.3,
            "count": 8
           },
           {
            "bin_end": 5.02,
            "bin_start": 4.66,
            "count": 23
           },
           {
            "bin_end": 5.38,
            "bin_start": 5.02,
            "count": 14
           },
           {
            "bin_end": 5.74,
            "bin_start": 5.38,
            "count": 25
           },
           {
            "bin_end": 6.1,
            "bin_start": 5.74,
            "count": 18
           },
           {
            "bin_end": 6.46,
            "bin_start": 6.1,
            "count": 26
           },
           {
            "bin_end": 6.82,
            "bin_start": 6.46,
            "count": 17
           },
           {
            "bin_end": 7.18,
            "bin_start": 6.82,
            "count": 6
           },
           {
            "bin_end": 7.54,
            "bin_start": 7.18,
            "count": 5
           },
           {
            "bin_end": 7.9,
            "bin_start": 7.54,
            "count": 5
           }
          ],
          "max": "7.9",
          "min": "4.3",
          "nan_count": 3,
          "unique_count": 35
         }
        },
        {
         "dtype": "int64",
         "name": "_deepnote_index_column"
        }
       ],
       "row_count": 150,
       "rows": [
        {
         "SepalLengthCm_asli": 5.1,
         "SepalLengthCm_knn": 5.1,
         "SepalLengthCm_rata2": 5.1,
         "_deepnote_index_column": 0,
         "id": 1
        },
        {
         "SepalLengthCm_asli": 4.9,
         "SepalLengthCm_knn": 4.9,
         "SepalLengthCm_rata2": 4.9,
         "_deepnote_index_column": 1,
         "id": 2
        },
        {
         "SepalLengthCm_asli": 4.7,
         "SepalLengthCm_knn": 4.7,
         "SepalLengthCm_rata2": 4.7,
         "_deepnote_index_column": 2,
         "id": 3
        },
        {
         "SepalLengthCm_asli": 4.6,
         "SepalLengthCm_knn": 4.6,
         "SepalLengthCm_rata2": 4.6,
         "_deepnote_index_column": 3,
         "id": 4
        },
        {
         "SepalLengthCm_asli": 5,
         "SepalLengthCm_knn": 5,
         "SepalLengthCm_rata2": 5,
         "_deepnote_index_column": 4,
         "id": 5
        },
        {
         "SepalLengthCm_asli": 5.4,
         "SepalLengthCm_knn": "nan",
         "SepalLengthCm_rata2": "nan",
         "_deepnote_index_column": 5,
         "id": 6
        },
        {
         "SepalLengthCm_asli": 4.6,
         "SepalLengthCm_knn": 4.6,
         "SepalLengthCm_rata2": 4.6,
         "_deepnote_index_column": 6,
         "id": 7
        },
        {
         "SepalLengthCm_asli": 5,
         "SepalLengthCm_knn": 5,
         "SepalLengthCm_rata2": 5,
         "_deepnote_index_column": 7,
         "id": 8
        },
        {
         "SepalLengthCm_asli": 4.4,
         "SepalLengthCm_knn": 5.8,
         "SepalLengthCm_rata2": 5,
         "_deepnote_index_column": 8,
         "id": 9
        },
        {
         "SepalLengthCm_asli": 4.9,
         "SepalLengthCm_knn": 4.9,
         "SepalLengthCm_rata2": 4.9,
         "_deepnote_index_column": 9,
         "id": 10
        }
       ]
      },
      "text/html": [
       "<div>\n",
       "<style scoped>\n",
       "    .dataframe tbody tr th:only-of-type {\n",
       "        vertical-align: middle;\n",
       "    }\n",
       "\n",
       "    .dataframe tbody tr th {\n",
       "        vertical-align: top;\n",
       "    }\n",
       "\n",
       "    .dataframe thead th {\n",
       "        text-align: right;\n",
       "    }\n",
       "</style>\n",
       "<table border=\"1\" class=\"dataframe\">\n",
       "  <thead>\n",
       "    <tr style=\"text-align: right;\">\n",
       "      <th></th>\n",
       "      <th>id</th>\n",
       "      <th>SepalLengthCm_asli</th>\n",
       "      <th>SepalLengthCm_rata2</th>\n",
       "      <th>SepalLengthCm_knn</th>\n",
       "    </tr>\n",
       "  </thead>\n",
       "  <tbody>\n",
       "    <tr>\n",
       "      <th>0</th>\n",
       "      <td>1</td>\n",
       "      <td>5.1</td>\n",
       "      <td>5.1</td>\n",
       "      <td>5.1</td>\n",
       "    </tr>\n",
       "    <tr>\n",
       "      <th>1</th>\n",
       "      <td>2</td>\n",
       "      <td>4.9</td>\n",
       "      <td>4.9</td>\n",
       "      <td>4.9</td>\n",
       "    </tr>\n",
       "    <tr>\n",
       "      <th>2</th>\n",
       "      <td>3</td>\n",
       "      <td>4.7</td>\n",
       "      <td>4.7</td>\n",
       "      <td>4.7</td>\n",
       "    </tr>\n",
       "    <tr>\n",
       "      <th>3</th>\n",
       "      <td>4</td>\n",
       "      <td>4.6</td>\n",
       "      <td>4.6</td>\n",
       "      <td>4.6</td>\n",
       "    </tr>\n",
       "    <tr>\n",
       "      <th>4</th>\n",
       "      <td>5</td>\n",
       "      <td>5.0</td>\n",
       "      <td>5.0</td>\n",
       "      <td>5.0</td>\n",
       "    </tr>\n",
       "    <tr>\n",
       "      <th>...</th>\n",
       "      <td>...</td>\n",
       "      <td>...</td>\n",
       "      <td>...</td>\n",
       "      <td>...</td>\n",
       "    </tr>\n",
       "    <tr>\n",
       "      <th>145</th>\n",
       "      <td>146</td>\n",
       "      <td>6.7</td>\n",
       "      <td>6.7</td>\n",
       "      <td>6.7</td>\n",
       "    </tr>\n",
       "    <tr>\n",
       "      <th>146</th>\n",
       "      <td>147</td>\n",
       "      <td>6.3</td>\n",
       "      <td>6.3</td>\n",
       "      <td>6.3</td>\n",
       "    </tr>\n",
       "    <tr>\n",
       "      <th>147</th>\n",
       "      <td>148</td>\n",
       "      <td>6.5</td>\n",
       "      <td>6.5</td>\n",
       "      <td>6.5</td>\n",
       "    </tr>\n",
       "    <tr>\n",
       "      <th>148</th>\n",
       "      <td>149</td>\n",
       "      <td>6.2</td>\n",
       "      <td>6.2</td>\n",
       "      <td>6.2</td>\n",
       "    </tr>\n",
       "    <tr>\n",
       "      <th>149</th>\n",
       "      <td>150</td>\n",
       "      <td>5.9</td>\n",
       "      <td>5.9</td>\n",
       "      <td>5.9</td>\n",
       "    </tr>\n",
       "  </tbody>\n",
       "</table>\n",
       "<p>150 rows × 4 columns</p>\n",
       "</div>"
      ],
      "text/plain": [
       "      id  SepalLengthCm_asli  SepalLengthCm_rata2  SepalLengthCm_knn\n",
       "0      1                 5.1                  5.1                5.1\n",
       "1      2                 4.9                  4.9                4.9\n",
       "2      3                 4.7                  4.7                4.7\n",
       "3      4                 4.6                  4.6                4.6\n",
       "4      5                 5.0                  5.0                5.0\n",
       "..   ...                 ...                  ...                ...\n",
       "145  146                 6.7                  6.7                6.7\n",
       "146  147                 6.3                  6.3                6.3\n",
       "147  148                 6.5                  6.5                6.5\n",
       "148  149                 6.2                  6.2                6.2\n",
       "149  150                 5.9                  5.9                5.9\n",
       "\n",
       "[150 rows x 4 columns]"
      ]
     },
     "execution_count": 27,
     "metadata": {},
     "output_type": "execute_result"
    }
   ],
   "source": [
    "df_7 = _deepnote_execute_sql('SELECT * FROM data_gabung', 'SQL_1EBCDE9E_AE53_4FED_98A8_03783A766D52', audit_sql_comment='', sql_cache_mode='cache_disabled')\n",
    "df_7"
   ]
  },
  {
   "cell_type": "code",
   "execution_count": null,
   "metadata": {
    "cell_id": "340f8add0de94c77aac30c0c672924cd",
    "deepnote_cell_type": "sql",
    "deepnote_sql_source": "CREATE TABLE baru AS SELECT * FROM df_6;",
    "deepnote_variable_name": "df_8",
    "sql_integration_id": "deepnote-dataframe-sql"
   },
   "outputs": [],
   "source": [
    "df_8 = _deepnote_execute_sql('CREATE TABLE baru AS SELECT * FROM df_6;', 'SQL_DEEPNOTE_DATAFRAME_SQL', audit_sql_comment='', sql_cache_mode='cache_disabled')\n",
    "df_8"
   ]
  },
  {
   "cell_type": "code",
   "execution_count": null,
   "metadata": {
    "cell_id": "e9c1045165ff454ca499ef1aa7c9d876",
    "deepnote_cell_type": "sql",
    "deepnote_sql_source": "SELECT * FROM baru",
    "deepnote_to_be_reexecuted": false,
    "deepnote_variable_name": "df_9",
    "execution_millis": 404,
    "execution_start": 1711547935333,
    "source_hash": null,
    "sql_integration_id": "deepnote-dataframe-sql"
   },
   "outputs": [
    {
     "data": {
      "application/vnd.deepnote.dataframe.v3+json": {
       "column_count": 6,
       "columns": [
        {
         "dtype": "int64",
         "name": "id",
         "stats": {
          "histogram": [
           {
            "bin_end": 15.9,
            "bin_start": 1,
            "count": 15
           },
           {
            "bin_end": 30.8,
            "bin_start": 15.9,
            "count": 15
           },
           {
            "bin_end": 45.7,
            "bin_start": 30.8,
            "count": 15
           },
           {
            "bin_end": 60.6,
            "bin_start": 45.7,
            "count": 15
           },
           {
            "bin_end": 75.5,
            "bin_start": 60.6,
            "count": 15
           },
           {
            "bin_end": 90.4,
            "bin_start": 75.5,
            "count": 15
           },
           {
            "bin_end": 105.3,
            "bin_start": 90.4,
            "count": 15
           },
           {
            "bin_end": 120.2,
            "bin_start": 105.3,
            "count": 15
           },
           {
            "bin_end": 135.1,
            "bin_start": 120.2,
            "count": 15
           },
           {
            "bin_end": 150,
            "bin_start": 135.1,
            "count": 15
           }
          ],
          "max": "150",
          "min": "1",
          "nan_count": 0,
          "unique_count": 150
         }
        },
        {
         "dtype": "float64",
         "name": "SepalLengthCm",
         "stats": {
          "histogram": [
           {
            "bin_end": 4.66,
            "bin_start": 4.3,
            "count": 9
           },
           {
            "bin_end": 5.02,
            "bin_start": 4.66,
            "count": 23
           },
           {
            "bin_end": 5.38,
            "bin_start": 5.02,
            "count": 14
           },
           {
            "bin_end": 5.74,
            "bin_start": 5.38,
            "count": 27
           },
           {
            "bin_end": 6.1,
            "bin_start": 5.74,
            "count": 16
           },
           {
            "bin_end": 6.46,
            "bin_start": 6.1,
            "count": 26
           },
           {
            "bin_end": 6.82,
            "bin_start": 6.46,
            "count": 18
           },
           {
            "bin_end": 7.18,
            "bin_start": 6.82,
            "count": 6
           },
           {
            "bin_end": 7.54,
            "bin_start": 7.18,
            "count": 5
           },
           {
            "bin_end": 7.9,
            "bin_start": 7.54,
            "count": 6
           }
          ],
          "max": "7.9",
          "min": "4.3",
          "nan_count": 0,
          "unique_count": 35
         }
        },
        {
         "dtype": "float64",
         "name": "SepalWidthCm",
         "stats": {
          "histogram": [
           {
            "bin_end": 2.24,
            "bin_start": 2,
            "count": 4
           },
           {
            "bin_end": 2.48,
            "bin_start": 2.24,
            "count": 7
           },
           {
            "bin_end": 2.72,
            "bin_start": 2.48,
            "count": 22
           },
           {
            "bin_end": 2.96,
            "bin_start": 2.72,
            "count": 24
           },
           {
            "bin_end": 3.2,
            "bin_start": 2.96,
            "count": 38
           },
           {
            "bin_end": 3.4400000000000004,
            "bin_start": 3.2,
            "count": 31
           },
           {
            "bin_end": 3.6800000000000006,
            "bin_start": 3.4400000000000004,
            "count": 9
           },
           {
            "bin_end": 3.9200000000000004,
            "bin_start": 3.6800000000000006,
            "count": 11
           },
           {
            "bin_end": 4.16,
            "bin_start": 3.9200000000000004,
            "count": 2
           },
           {
            "bin_end": 4.4,
            "bin_start": 4.16,
            "count": 2
           }
          ],
          "max": "4.4",
          "min": "2.0",
          "nan_count": 0,
          "unique_count": 23
         }
        },
        {
         "dtype": "float64",
         "name": "PetalLengthCm",
         "stats": {
          "histogram": [
           {
            "bin_end": 1.59,
            "bin_start": 1,
            "count": 37
           },
           {
            "bin_end": 2.18,
            "bin_start": 1.59,
            "count": 13
           },
           {
            "bin_end": 2.7700000000000005,
            "bin_start": 2.18,
            "count": 0
           },
           {
            "bin_end": 3.3600000000000003,
            "bin_start": 2.7700000000000005,
            "count": 3
           },
           {
            "bin_end": 3.95,
            "bin_start": 3.3600000000000003,
            "count": 8
           },
           {
            "bin_end": 4.540000000000001,
            "bin_start": 3.95,
            "count": 26
           },
           {
            "bin_end": 5.130000000000001,
            "bin_start": 4.540000000000001,
            "count": 29
           },
           {
            "bin_end": 5.720000000000001,
            "bin_start": 5.130000000000001,
            "count": 18
           },
           {
            "bin_end": 6.3100000000000005,
            "bin_start": 5.720000000000001,
            "count": 11
           },
           {
            "bin_end": 6.9,
            "bin_start": 6.3100000000000005,
            "count": 5
           }
          ],
          "max": "6.9",
          "min": "1.0",
          "nan_count": 0,
          "unique_count": 43
         }
        },
        {
         "dtype": "float64",
         "name": "PetalWidthCm",
         "stats": {
          "histogram": [
           {
            "bin_end": 0.33999999999999997,
            "bin_start": 0.1,
            "count": 41
           },
           {
            "bin_end": 0.58,
            "bin_start": 0.33999999999999997,
            "count": 8
           },
           {
            "bin_end": 0.82,
            "bin_start": 0.58,
            "count": 1
           },
           {
            "bin_end": 1.06,
            "bin_start": 0.82,
            "count": 7
           },
           {
            "bin_end": 1.3,
            "bin_start": 1.06,
            "count": 8
           },
           {
            "bin_end": 1.54,
            "bin_start": 1.3,
            "count": 33
           },
           {
            "bin_end": 1.78,
            "bin_start": 1.54,
            "count": 6
           },
           {
            "bin_end": 2.02,
            "bin_start": 1.78,
            "count": 23
           },
           {
            "bin_end": 2.2600000000000002,
            "bin_start": 2.02,
            "count": 9
           },
           {
            "bin_end": 2.5,
            "bin_start": 2.2600000000000002,
            "count": 14
           }
          ],
          "max": "2.5",
          "min": "0.1",
          "nan_count": 0,
          "unique_count": 22
         }
        },
        {
         "dtype": "object",
         "name": "Species",
         "stats": {
          "categories": [
           {
            "count": 50,
            "name": "Iris-setosa"
           },
           {
            "count": 50,
            "name": "Iris-versicolor"
           },
           {
            "count": 50,
            "name": "Iris-virginica"
           }
          ],
          "nan_count": 0,
          "unique_count": 3
         }
        },
        {
         "dtype": "int64",
         "name": "_deepnote_index_column"
        }
       ],
       "row_count": 150,
       "rows": [
        {
         "PetalLengthCm": 1.4,
         "PetalWidthCm": 0.2,
         "SepalLengthCm": 5.1,
         "SepalWidthCm": 3.5,
         "Species": "Iris-setosa",
         "_deepnote_index_column": 0,
         "id": 1
        },
        {
         "PetalLengthCm": 1.4,
         "PetalWidthCm": 0.2,
         "SepalLengthCm": 4.9,
         "SepalWidthCm": 3,
         "Species": "Iris-setosa",
         "_deepnote_index_column": 1,
         "id": 2
        },
        {
         "PetalLengthCm": 1.3,
         "PetalWidthCm": 0.2,
         "SepalLengthCm": 4.7,
         "SepalWidthCm": 3.2,
         "Species": "Iris-setosa",
         "_deepnote_index_column": 2,
         "id": 3
        },
        {
         "PetalLengthCm": 1.5,
         "PetalWidthCm": 0.2,
         "SepalLengthCm": 4.6,
         "SepalWidthCm": 3.1,
         "Species": "Iris-setosa",
         "_deepnote_index_column": 3,
         "id": 4
        },
        {
         "PetalLengthCm": 1.4,
         "PetalWidthCm": 0.2,
         "SepalLengthCm": 5,
         "SepalWidthCm": 3.6,
         "Species": "Iris-setosa",
         "_deepnote_index_column": 4,
         "id": 5
        },
        {
         "PetalLengthCm": 1.7,
         "PetalWidthCm": 0.4,
         "SepalLengthCm": 5.4,
         "SepalWidthCm": 3.9,
         "Species": "Iris-setosa",
         "_deepnote_index_column": 5,
         "id": 6
        },
        {
         "PetalLengthCm": 1.4,
         "PetalWidthCm": 0.3,
         "SepalLengthCm": 4.6,
         "SepalWidthCm": 3.4,
         "Species": "Iris-setosa",
         "_deepnote_index_column": 6,
         "id": 7
        },
        {
         "PetalLengthCm": 1.5,
         "PetalWidthCm": 0.2,
         "SepalLengthCm": 5,
         "SepalWidthCm": 3.4,
         "Species": "Iris-setosa",
         "_deepnote_index_column": 7,
         "id": 8
        },
        {
         "PetalLengthCm": 1.4,
         "PetalWidthCm": 0.2,
         "SepalLengthCm": 4.4,
         "SepalWidthCm": 2.9,
         "Species": "Iris-setosa",
         "_deepnote_index_column": 8,
         "id": 9
        },
        {
         "PetalLengthCm": 1.5,
         "PetalWidthCm": 0.1,
         "SepalLengthCm": 4.9,
         "SepalWidthCm": 3.1,
         "Species": "Iris-setosa",
         "_deepnote_index_column": 9,
         "id": 10
        }
       ]
      },
      "text/html": [
       "<div>\n",
       "<style scoped>\n",
       "    .dataframe tbody tr th:only-of-type {\n",
       "        vertical-align: middle;\n",
       "    }\n",
       "\n",
       "    .dataframe tbody tr th {\n",
       "        vertical-align: top;\n",
       "    }\n",
       "\n",
       "    .dataframe thead th {\n",
       "        text-align: right;\n",
       "    }\n",
       "</style>\n",
       "<table border=\"1\" class=\"dataframe\">\n",
       "  <thead>\n",
       "    <tr style=\"text-align: right;\">\n",
       "      <th></th>\n",
       "      <th>id</th>\n",
       "      <th>SepalLengthCm</th>\n",
       "      <th>SepalWidthCm</th>\n",
       "      <th>PetalLengthCm</th>\n",
       "      <th>PetalWidthCm</th>\n",
       "      <th>Species</th>\n",
       "    </tr>\n",
       "  </thead>\n",
       "  <tbody>\n",
       "    <tr>\n",
       "      <th>0</th>\n",
       "      <td>1</td>\n",
       "      <td>5.1</td>\n",
       "      <td>3.5</td>\n",
       "      <td>1.4</td>\n",
       "      <td>0.2</td>\n",
       "      <td>Iris-setosa</td>\n",
       "    </tr>\n",
       "    <tr>\n",
       "      <th>1</th>\n",
       "      <td>2</td>\n",
       "      <td>4.9</td>\n",
       "      <td>3.0</td>\n",
       "      <td>1.4</td>\n",
       "      <td>0.2</td>\n",
       "      <td>Iris-setosa</td>\n",
       "    </tr>\n",
       "    <tr>\n",
       "      <th>2</th>\n",
       "      <td>3</td>\n",
       "      <td>4.7</td>\n",
       "      <td>3.2</td>\n",
       "      <td>1.3</td>\n",
       "      <td>0.2</td>\n",
       "      <td>Iris-setosa</td>\n",
       "    </tr>\n",
       "    <tr>\n",
       "      <th>3</th>\n",
       "      <td>4</td>\n",
       "      <td>4.6</td>\n",
       "      <td>3.1</td>\n",
       "      <td>1.5</td>\n",
       "      <td>0.2</td>\n",
       "      <td>Iris-setosa</td>\n",
       "    </tr>\n",
       "    <tr>\n",
       "      <th>4</th>\n",
       "      <td>5</td>\n",
       "      <td>5.0</td>\n",
       "      <td>3.6</td>\n",
       "      <td>1.4</td>\n",
       "      <td>0.2</td>\n",
       "      <td>Iris-setosa</td>\n",
       "    </tr>\n",
       "    <tr>\n",
       "      <th>...</th>\n",
       "      <td>...</td>\n",
       "      <td>...</td>\n",
       "      <td>...</td>\n",
       "      <td>...</td>\n",
       "      <td>...</td>\n",
       "      <td>...</td>\n",
       "    </tr>\n",
       "    <tr>\n",
       "      <th>145</th>\n",
       "      <td>146</td>\n",
       "      <td>6.7</td>\n",
       "      <td>3.0</td>\n",
       "      <td>5.2</td>\n",
       "      <td>2.3</td>\n",
       "      <td>Iris-virginica</td>\n",
       "    </tr>\n",
       "    <tr>\n",
       "      <th>146</th>\n",
       "      <td>147</td>\n",
       "      <td>6.3</td>\n",
       "      <td>2.5</td>\n",
       "      <td>5.0</td>\n",
       "      <td>1.9</td>\n",
       "      <td>Iris-virginica</td>\n",
       "    </tr>\n",
       "    <tr>\n",
       "      <th>147</th>\n",
       "      <td>148</td>\n",
       "      <td>6.5</td>\n",
       "      <td>3.0</td>\n",
       "      <td>5.2</td>\n",
       "      <td>2.0</td>\n",
       "      <td>Iris-virginica</td>\n",
       "    </tr>\n",
       "    <tr>\n",
       "      <th>148</th>\n",
       "      <td>149</td>\n",
       "      <td>6.2</td>\n",
       "      <td>3.4</td>\n",
       "      <td>5.4</td>\n",
       "      <td>2.3</td>\n",
       "      <td>Iris-virginica</td>\n",
       "    </tr>\n",
       "    <tr>\n",
       "      <th>149</th>\n",
       "      <td>150</td>\n",
       "      <td>5.9</td>\n",
       "      <td>3.0</td>\n",
       "      <td>5.1</td>\n",
       "      <td>1.8</td>\n",
       "      <td>Iris-virginica</td>\n",
       "    </tr>\n",
       "  </tbody>\n",
       "</table>\n",
       "<p>150 rows × 6 columns</p>\n",
       "</div>"
      ],
      "text/plain": [
       "      id  SepalLengthCm  SepalWidthCm  PetalLengthCm  PetalWidthCm  \\\n",
       "0      1            5.1           3.5            1.4           0.2   \n",
       "1      2            4.9           3.0            1.4           0.2   \n",
       "2      3            4.7           3.2            1.3           0.2   \n",
       "3      4            4.6           3.1            1.5           0.2   \n",
       "4      5            5.0           3.6            1.4           0.2   \n",
       "..   ...            ...           ...            ...           ...   \n",
       "145  146            6.7           3.0            5.2           2.3   \n",
       "146  147            6.3           2.5            5.0           1.9   \n",
       "147  148            6.5           3.0            5.2           2.0   \n",
       "148  149            6.2           3.4            5.4           2.3   \n",
       "149  150            5.9           3.0            5.1           1.8   \n",
       "\n",
       "            Species  \n",
       "0       Iris-setosa  \n",
       "1       Iris-setosa  \n",
       "2       Iris-setosa  \n",
       "3       Iris-setosa  \n",
       "4       Iris-setosa  \n",
       "..              ...  \n",
       "145  Iris-virginica  \n",
       "146  Iris-virginica  \n",
       "147  Iris-virginica  \n",
       "148  Iris-virginica  \n",
       "149  Iris-virginica  \n",
       "\n",
       "[150 rows x 6 columns]"
      ]
     },
     "execution_count": 29,
     "metadata": {},
     "output_type": "execute_result"
    }
   ],
   "source": [
    "df_9 = _deepnote_execute_sql('SELECT * FROM baru', 'SQL_DEEPNOTE_DATAFRAME_SQL', audit_sql_comment='', sql_cache_mode='cache_disabled')\n",
    "df_9"
   ]
  },
  {
   "cell_type": "code",
   "execution_count": null,
   "metadata": {
    "cell_id": "423da473b9924b7184346a1d8321010e",
    "deepnote_cell_type": "sql",
    "deepnote_sql_source": "SELECT id, SepalLengthCm, SepalWidthCm, PetalLengthCm, PetalWidthCm FROM baru;",
    "deepnote_to_be_reexecuted": false,
    "deepnote_variable_name": "df_10",
    "execution_millis": 386,
    "execution_start": 1711547935352,
    "source_hash": null,
    "sql_integration_id": "deepnote-dataframe-sql"
   },
   "outputs": [
    {
     "data": {
      "application/vnd.deepnote.dataframe.v3+json": {
       "column_count": 5,
       "columns": [
        {
         "dtype": "int64",
         "name": "id",
         "stats": {
          "histogram": [
           {
            "bin_end": 15.9,
            "bin_start": 1,
            "count": 15
           },
           {
            "bin_end": 30.8,
            "bin_start": 15.9,
            "count": 15
           },
           {
            "bin_end": 45.7,
            "bin_start": 30.8,
            "count": 15
           },
           {
            "bin_end": 60.6,
            "bin_start": 45.7,
            "count": 15
           },
           {
            "bin_end": 75.5,
            "bin_start": 60.6,
            "count": 15
           },
           {
            "bin_end": 90.4,
            "bin_start": 75.5,
            "count": 15
           },
           {
            "bin_end": 105.3,
            "bin_start": 90.4,
            "count": 15
           },
           {
            "bin_end": 120.2,
            "bin_start": 105.3,
            "count": 15
           },
           {
            "bin_end": 135.1,
            "bin_start": 120.2,
            "count": 15
           },
           {
            "bin_end": 150,
            "bin_start": 135.1,
            "count": 15
           }
          ],
          "max": "150",
          "min": "1",
          "nan_count": 0,
          "unique_count": 150
         }
        },
        {
         "dtype": "float64",
         "name": "SepalLengthCm",
         "stats": {
          "histogram": [
           {
            "bin_end": 4.66,
            "bin_start": 4.3,
            "count": 9
           },
           {
            "bin_end": 5.02,
            "bin_start": 4.66,
            "count": 23
           },
           {
            "bin_end": 5.38,
            "bin_start": 5.02,
            "count": 14
           },
           {
            "bin_end": 5.74,
            "bin_start": 5.38,
            "count": 27
           },
           {
            "bin_end": 6.1,
            "bin_start": 5.74,
            "count": 16
           },
           {
            "bin_end": 6.46,
            "bin_start": 6.1,
            "count": 26
           },
           {
            "bin_end": 6.82,
            "bin_start": 6.46,
            "count": 18
           },
           {
            "bin_end": 7.18,
            "bin_start": 6.82,
            "count": 6
           },
           {
            "bin_end": 7.54,
            "bin_start": 7.18,
            "count": 5
           },
           {
            "bin_end": 7.9,
            "bin_start": 7.54,
            "count": 6
           }
          ],
          "max": "7.9",
          "min": "4.3",
          "nan_count": 0,
          "unique_count": 35
         }
        },
        {
         "dtype": "float64",
         "name": "SepalWidthCm",
         "stats": {
          "histogram": [
           {
            "bin_end": 2.24,
            "bin_start": 2,
            "count": 4
           },
           {
            "bin_end": 2.48,
            "bin_start": 2.24,
            "count": 7
           },
           {
            "bin_end": 2.72,
            "bin_start": 2.48,
            "count": 22
           },
           {
            "bin_end": 2.96,
            "bin_start": 2.72,
            "count": 24
           },
           {
            "bin_end": 3.2,
            "bin_start": 2.96,
            "count": 38
           },
           {
            "bin_end": 3.4400000000000004,
            "bin_start": 3.2,
            "count": 31
           },
           {
            "bin_end": 3.6800000000000006,
            "bin_start": 3.4400000000000004,
            "count": 9
           },
           {
            "bin_end": 3.9200000000000004,
            "bin_start": 3.6800000000000006,
            "count": 11
           },
           {
            "bin_end": 4.16,
            "bin_start": 3.9200000000000004,
            "count": 2
           },
           {
            "bin_end": 4.4,
            "bin_start": 4.16,
            "count": 2
           }
          ],
          "max": "4.4",
          "min": "2.0",
          "nan_count": 0,
          "unique_count": 23
         }
        },
        {
         "dtype": "float64",
         "name": "PetalLengthCm",
         "stats": {
          "histogram": [
           {
            "bin_end": 1.59,
            "bin_start": 1,
            "count": 37
           },
           {
            "bin_end": 2.18,
            "bin_start": 1.59,
            "count": 13
           },
           {
            "bin_end": 2.7700000000000005,
            "bin_start": 2.18,
            "count": 0
           },
           {
            "bin_end": 3.3600000000000003,
            "bin_start": 2.7700000000000005,
            "count": 3
           },
           {
            "bin_end": 3.95,
            "bin_start": 3.3600000000000003,
            "count": 8
           },
           {
            "bin_end": 4.540000000000001,
            "bin_start": 3.95,
            "count": 26
           },
           {
            "bin_end": 5.130000000000001,
            "bin_start": 4.540000000000001,
            "count": 29
           },
           {
            "bin_end": 5.720000000000001,
            "bin_start": 5.130000000000001,
            "count": 18
           },
           {
            "bin_end": 6.3100000000000005,
            "bin_start": 5.720000000000001,
            "count": 11
           },
           {
            "bin_end": 6.9,
            "bin_start": 6.3100000000000005,
            "count": 5
           }
          ],
          "max": "6.9",
          "min": "1.0",
          "nan_count": 0,
          "unique_count": 43
         }
        },
        {
         "dtype": "float64",
         "name": "PetalWidthCm",
         "stats": {
          "histogram": [
           {
            "bin_end": 0.33999999999999997,
            "bin_start": 0.1,
            "count": 41
           },
           {
            "bin_end": 0.58,
            "bin_start": 0.33999999999999997,
            "count": 8
           },
           {
            "bin_end": 0.82,
            "bin_start": 0.58,
            "count": 1
           },
           {
            "bin_end": 1.06,
            "bin_start": 0.82,
            "count": 7
           },
           {
            "bin_end": 1.3,
            "bin_start": 1.06,
            "count": 8
           },
           {
            "bin_end": 1.54,
            "bin_start": 1.3,
            "count": 33
           },
           {
            "bin_end": 1.78,
            "bin_start": 1.54,
            "count": 6
           },
           {
            "bin_end": 2.02,
            "bin_start": 1.78,
            "count": 23
           },
           {
            "bin_end": 2.2600000000000002,
            "bin_start": 2.02,
            "count": 9
           },
           {
            "bin_end": 2.5,
            "bin_start": 2.2600000000000002,
            "count": 14
           }
          ],
          "max": "2.5",
          "min": "0.1",
          "nan_count": 0,
          "unique_count": 22
         }
        },
        {
         "dtype": "int64",
         "name": "_deepnote_index_column"
        }
       ],
       "row_count": 150,
       "rows": [
        {
         "PetalLengthCm": 1.4,
         "PetalWidthCm": 0.2,
         "SepalLengthCm": 5.1,
         "SepalWidthCm": 3.5,
         "_deepnote_index_column": 0,
         "id": 1
        },
        {
         "PetalLengthCm": 1.4,
         "PetalWidthCm": 0.2,
         "SepalLengthCm": 4.9,
         "SepalWidthCm": 3,
         "_deepnote_index_column": 1,
         "id": 2
        },
        {
         "PetalLengthCm": 1.3,
         "PetalWidthCm": 0.2,
         "SepalLengthCm": 4.7,
         "SepalWidthCm": 3.2,
         "_deepnote_index_column": 2,
         "id": 3
        },
        {
         "PetalLengthCm": 1.5,
         "PetalWidthCm": 0.2,
         "SepalLengthCm": 4.6,
         "SepalWidthCm": 3.1,
         "_deepnote_index_column": 3,
         "id": 4
        },
        {
         "PetalLengthCm": 1.4,
         "PetalWidthCm": 0.2,
         "SepalLengthCm": 5,
         "SepalWidthCm": 3.6,
         "_deepnote_index_column": 4,
         "id": 5
        },
        {
         "PetalLengthCm": 1.7,
         "PetalWidthCm": 0.4,
         "SepalLengthCm": 5.4,
         "SepalWidthCm": 3.9,
         "_deepnote_index_column": 5,
         "id": 6
        },
        {
         "PetalLengthCm": 1.4,
         "PetalWidthCm": 0.3,
         "SepalLengthCm": 4.6,
         "SepalWidthCm": 3.4,
         "_deepnote_index_column": 6,
         "id": 7
        },
        {
         "PetalLengthCm": 1.5,
         "PetalWidthCm": 0.2,
         "SepalLengthCm": 5,
         "SepalWidthCm": 3.4,
         "_deepnote_index_column": 7,
         "id": 8
        },
        {
         "PetalLengthCm": 1.4,
         "PetalWidthCm": 0.2,
         "SepalLengthCm": 4.4,
         "SepalWidthCm": 2.9,
         "_deepnote_index_column": 8,
         "id": 9
        },
        {
         "PetalLengthCm": 1.5,
         "PetalWidthCm": 0.1,
         "SepalLengthCm": 4.9,
         "SepalWidthCm": 3.1,
         "_deepnote_index_column": 9,
         "id": 10
        }
       ]
      },
      "text/html": [
       "<div>\n",
       "<style scoped>\n",
       "    .dataframe tbody tr th:only-of-type {\n",
       "        vertical-align: middle;\n",
       "    }\n",
       "\n",
       "    .dataframe tbody tr th {\n",
       "        vertical-align: top;\n",
       "    }\n",
       "\n",
       "    .dataframe thead th {\n",
       "        text-align: right;\n",
       "    }\n",
       "</style>\n",
       "<table border=\"1\" class=\"dataframe\">\n",
       "  <thead>\n",
       "    <tr style=\"text-align: right;\">\n",
       "      <th></th>\n",
       "      <th>id</th>\n",
       "      <th>SepalLengthCm</th>\n",
       "      <th>SepalWidthCm</th>\n",
       "      <th>PetalLengthCm</th>\n",
       "      <th>PetalWidthCm</th>\n",
       "    </tr>\n",
       "  </thead>\n",
       "  <tbody>\n",
       "    <tr>\n",
       "      <th>0</th>\n",
       "      <td>1</td>\n",
       "      <td>5.1</td>\n",
       "      <td>3.5</td>\n",
       "      <td>1.4</td>\n",
       "      <td>0.2</td>\n",
       "    </tr>\n",
       "    <tr>\n",
       "      <th>1</th>\n",
       "      <td>2</td>\n",
       "      <td>4.9</td>\n",
       "      <td>3.0</td>\n",
       "      <td>1.4</td>\n",
       "      <td>0.2</td>\n",
       "    </tr>\n",
       "    <tr>\n",
       "      <th>2</th>\n",
       "      <td>3</td>\n",
       "      <td>4.7</td>\n",
       "      <td>3.2</td>\n",
       "      <td>1.3</td>\n",
       "      <td>0.2</td>\n",
       "    </tr>\n",
       "    <tr>\n",
       "      <th>3</th>\n",
       "      <td>4</td>\n",
       "      <td>4.6</td>\n",
       "      <td>3.1</td>\n",
       "      <td>1.5</td>\n",
       "      <td>0.2</td>\n",
       "    </tr>\n",
       "    <tr>\n",
       "      <th>4</th>\n",
       "      <td>5</td>\n",
       "      <td>5.0</td>\n",
       "      <td>3.6</td>\n",
       "      <td>1.4</td>\n",
       "      <td>0.2</td>\n",
       "    </tr>\n",
       "    <tr>\n",
       "      <th>...</th>\n",
       "      <td>...</td>\n",
       "      <td>...</td>\n",
       "      <td>...</td>\n",
       "      <td>...</td>\n",
       "      <td>...</td>\n",
       "    </tr>\n",
       "    <tr>\n",
       "      <th>145</th>\n",
       "      <td>146</td>\n",
       "      <td>6.7</td>\n",
       "      <td>3.0</td>\n",
       "      <td>5.2</td>\n",
       "      <td>2.3</td>\n",
       "    </tr>\n",
       "    <tr>\n",
       "      <th>146</th>\n",
       "      <td>147</td>\n",
       "      <td>6.3</td>\n",
       "      <td>2.5</td>\n",
       "      <td>5.0</td>\n",
       "      <td>1.9</td>\n",
       "    </tr>\n",
       "    <tr>\n",
       "      <th>147</th>\n",
       "      <td>148</td>\n",
       "      <td>6.5</td>\n",
       "      <td>3.0</td>\n",
       "      <td>5.2</td>\n",
       "      <td>2.0</td>\n",
       "    </tr>\n",
       "    <tr>\n",
       "      <th>148</th>\n",
       "      <td>149</td>\n",
       "      <td>6.2</td>\n",
       "      <td>3.4</td>\n",
       "      <td>5.4</td>\n",
       "      <td>2.3</td>\n",
       "    </tr>\n",
       "    <tr>\n",
       "      <th>149</th>\n",
       "      <td>150</td>\n",
       "      <td>5.9</td>\n",
       "      <td>3.0</td>\n",
       "      <td>5.1</td>\n",
       "      <td>1.8</td>\n",
       "    </tr>\n",
       "  </tbody>\n",
       "</table>\n",
       "<p>150 rows × 5 columns</p>\n",
       "</div>"
      ],
      "text/plain": [
       "      id  SepalLengthCm  SepalWidthCm  PetalLengthCm  PetalWidthCm\n",
       "0      1            5.1           3.5            1.4           0.2\n",
       "1      2            4.9           3.0            1.4           0.2\n",
       "2      3            4.7           3.2            1.3           0.2\n",
       "3      4            4.6           3.1            1.5           0.2\n",
       "4      5            5.0           3.6            1.4           0.2\n",
       "..   ...            ...           ...            ...           ...\n",
       "145  146            6.7           3.0            5.2           2.3\n",
       "146  147            6.3           2.5            5.0           1.9\n",
       "147  148            6.5           3.0            5.2           2.0\n",
       "148  149            6.2           3.4            5.4           2.3\n",
       "149  150            5.9           3.0            5.1           1.8\n",
       "\n",
       "[150 rows x 5 columns]"
      ]
     },
     "execution_count": 30,
     "metadata": {},
     "output_type": "execute_result"
    }
   ],
   "source": [
    "df_10 = _deepnote_execute_sql('SELECT id, SepalLengthCm, SepalWidthCm, PetalLengthCm, PetalWidthCm FROM baru;', 'SQL_DEEPNOTE_DATAFRAME_SQL', audit_sql_comment='', sql_cache_mode='cache_disabled')\n",
    "df_10"
   ]
  },
  {
   "cell_type": "markdown",
   "metadata": {
    "cell_id": "b9999a6ec9b9413fbd0ce978d82ba011",
    "deepnote_cell_type": "text-cell-h2",
    "formattedRanges": []
   },
   "source": [
    "## Implementasi pada data iris"
   ]
  },
  {
   "cell_type": "markdown",
   "metadata": {
    "cell_id": "1bdfb8608c31463c821ad424d3166c9f",
    "deepnote_cell_type": "text-cell-p",
    "formattedRanges": []
   },
   "source": [
    "Label -1 menunjukkan bahwa sampel dianggap sebagai outlier, sementara label 1 menunjukkan bahwa sampel dianggap sebagai data normal."
   ]
  },
  {
   "cell_type": "code",
   "execution_count": null,
   "metadata": {
    "cell_id": "8b723cd028f14f2a92a22d3d02f5a83d",
    "deepnote_cell_type": "code",
    "deepnote_to_be_reexecuted": false,
    "execution_millis": 365,
    "execution_start": 1711547935374,
    "source_hash": null
   },
   "outputs": [
    {
     "name": "stdout",
     "output_type": "stream",
     "text": [
      "Predicted labels: [-1 -1  1  1  1  1  1  1  1  1  1  1  1  1  1  1  1  1  1  1  1  1  1  1\n",
      "  1  1  1  1  1  1  1  1  1  1  1  1  1  1  1  1  1  1  1  1  1  1  1  1\n",
      " -1 -1 -1 -1 -1  1  1  1  1  1  1  1  1  1  1  1  1  1  1  1  1  1  1  1\n",
      "  1  1  1  1  1  1  1  1  1  1  1  1  1  1  1  1  1  1  1  1  1  1  1  1\n",
      "  1  1 -1  1  1  1  1  1  1  1 -1 -1  1  1  1  1  1  1  1  1  1 -1 -1  1\n",
      "  1 -1  1  1  1  1  1  1  1  1  1  1  1  1  1  1  1  1  1  1  1  1  1  1\n",
      "  1  1  1  1 -1 -1]\n",
      "Negative LOF scores: [1.05691948 1.05691948 1.04980109 0.90379368 1.00167035 1.00642009\n",
      " 1.00114192 0.99070638 0.98543092 1.02049365 0.98142982 1.0191048\n",
      " 1.00284917 0.99839384 1.01448818 1.01055877 1.0043803  0.99140232\n",
      " 0.99628916 0.99755626 0.98475656 1.02010885 1.00404429 1.02064905\n",
      " 0.99185454 0.98762232 1.00083221 0.99657961 1.00513263 0.99693677\n",
      " 1.00297073 1.01923753 1.01713433 1.0166534  0.9975308  1.0036038\n",
      " 0.98070888 1.01257991 0.9747014  0.99198208 1.00438609 1.02022638\n",
      " 1.02104072 0.99743135 1.00537838 0.9967616  0.95155231 0.94997672\n",
      " 1.11256609 1.11658189 1.09193386 1.09193386 1.08986775 0.92758359\n",
      " 0.98982628 0.97842868 1.02996397 1.04733927 0.97857617 1.04263402\n",
      " 0.98929439 1.01918852 0.98031349 1.00682844 0.99087981 1.01746665\n",
      " 0.98288928 1.01655454 0.9806219  1.01393947 0.98573754 1.00780578\n",
      " 0.99685918 1.00411273 0.99751527 0.99801662 0.99686066 1.01246518\n",
      " 0.99953056 1.01194588 0.98180825 0.98603031 1.01055293 0.98369223\n",
      " 1.01505686 1.02364369 1.02420999 1.01839218 0.99734907 0.96885883\n",
      " 1.00905697 0.97284562 1.03893301 1.00638306 1.04300388 0.95400677\n",
      " 0.9659121  1.02957139 1.05270821 1.01791535 1.03983552 1.04338954\n",
      " 0.95713746 0.94897374 1.04656836 1.03084257 1.32713084 1.05250029\n",
      " 1.00528957 0.9716754  1.00874735 0.97826309 0.99452509 1.00428571\n",
      " 0.97464318 0.99336459 1.04065487 1.06643691 1.07539406 0.9559443\n",
      " 0.99945006 1.06228942 1.01823415 0.93296374 1.03832796 0.97918326\n",
      " 1.02820172 0.9744074  1.01135085 0.98145161 1.01842497 0.97480208\n",
      " 1.0205455  0.98703446 1.04699735 0.998398   1.03118145 1.00309023\n",
      " 0.95117287 1.02429002 0.96676042 1.02900358 0.97800622 1.04179328\n",
      " 0.98922921 1.03067685 0.92389117 0.97053677 1.09243696 1.1055451 ]\n"
     ]
    }
   ],
   "source": [
    "from sklearn.neighbors import LocalOutlierFactor\n",
    "import numpy as np\n",
    "\n",
    "X = df_10.values  \n",
    "\n",
    "lof = LocalOutlierFactor(n_neighbors=3, contamination=0.1)\n",
    "\n",
    "y_pred = lof.fit_predict(X)\n",
    "\n",
    "print(\"Predicted labels:\", y_pred)\n",
    "print(\"Negative LOF scores:\", -lof.negative_outlier_factor_)"
   ]
  },
  {
   "cell_type": "code",
   "execution_count": null,
   "metadata": {
    "cell_id": "dee4092f77cf4169bba3f42b7dc131c1",
    "deepnote_cell_type": "code",
    "deepnote_to_be_reexecuted": false,
    "execution_millis": 1929,
    "execution_start": 1711548689482,
    "source_hash": null
   },
   "outputs": [
    {
     "data": {
      "image/png": "[encoded data removed]",
      "text/plain": [
       "<Figure size 640x480 with 1 Axes>"
      ]
     },
     "metadata": {
      "image/png": {
       "height": 416,
       "width": 548
      }
     },
     "output_type": "display_data"
    }
   ],
   "source": [
    "import pymysql\n",
    "from sklearn.neighbors import LocalOutlierFactor\n",
    "import matplotlib.pyplot as plt\n",
    "\n",
    "host = '{YOUR_HOST}'\n",
    "user = '{YOUR_USER}'\n",
    "password = '{YOUR_PASSWORD}'\n",
    "database = 'defaultdb'\n",
    "port = 20051\n",
    "conn = pymysql.connect(host=host, user=user, password=password, database=database, port=port)\n",
    "\n",
    "# Membaca data dari database menggunakan Pandas\n",
    "query = \"SELECT SepalLengthCm, SepalWidthCm FROM iris\"\n",
    "cursor = conn.cursor()\n",
    "cursor.execute(query)\n",
    "rows = cursor.fetchall()\n",
    "x = [[row[0], row[1]] for row in rows]\n",
    "\n",
    "# Menutup koneksi ke database\n",
    "conn.close()\n",
    "\n",
    "# Membuat model LOF\n",
    "lof = LocalOutlierFactor(n_neighbors=13, contamination=0.03)\n",
    "\n",
    "# Melakukan prediksi outlier\n",
    "y_pred = lof.fit_predict(x)\n",
    "\n",
    "# Menampilkan data dengan outlier yang diidentifikasi\n",
    "outlier_indices = [i for i, label in enumerate(y_pred) if label == -1]\n",
    "values = [x[i] for i in outlier_indices]\n",
    "\n",
    "plt.scatter([point[0] for point in x], [point[1] for point in x])\n",
    "plt.scatter([point[0] for point in values], [point[1] for point in values], color='r')\n",
    "plt.show()\n"
   ]
  },
  {
   "cell_type": "markdown",
   "metadata": {
    "created_in_deepnote_cell": true,
    "deepnote_cell_type": "markdown"
   },
   "source": [
    "<a style='text-decoration:none;line-height:16px;display:flex;color:#5B5B62;padding:10px;justify-content:end;' href='https://deepnote.com?utm_source=created-in-deepnote-cell&projectId=116d6c0e-dd40-449a-a6c6-9c3c8922170c' target=\"_blank\">\n",
    "<img alt='Created in deepnote.com' style='display:inline;max-height:16px;margin:0px;margin-right:7.5px;' src='data:image/svg+xml;base64,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' > </img>\n",
    "Created in <span style='font-weight:600;margin-left:4px;'>Deepnote</span></a>"
   ]
  }
 ],
 "metadata": {
  "deepnote_execution_queue": [],
  "deepnote_notebook_id": "8953a8f24e7248499258a2e7b1183746",
  "deepnote_persisted_session": {
   "createdAt": "2024-03-27T14:30:51.205Z"
  },
  "kernelspec": {
   "display_name": "Python 3 (ipykernel)",
   "language": "python",
   "name": "python3"
  },
  "language_info": {
   "codemirror_mode": {
    "name": "ipython",
    "version": 3
   },
   "file_extension": ".py",
   "mimetype": "text/x-python",
   "name": "python",
   "nbconvert_exporter": "python",
   "pygments_lexer": "ipython3",
   "version": "3.10.7"
  }
 },
 "nbformat": 4,
 "nbformat_minor": 4
}
